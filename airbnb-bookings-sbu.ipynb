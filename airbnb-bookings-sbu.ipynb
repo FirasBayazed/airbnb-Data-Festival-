{
 "cells": [
  {
   "cell_type": "markdown",
   "metadata": {},
   "source": [
    "### Preamble"
   ]
  },
  {
   "cell_type": "markdown",
   "metadata": {},
   "source": [
    "This notebook contains work on a [kaggle competition](https://www.kaggle.com/c/airbnb-recruiting-new-user-bookings) sponsored by AirBnB and aimed at predicting in which country a new user will make their first booking in. This competition was run for recruitment purposes a few years ago and provides a very nice example of a real-life data science challenge."
   ]
  },
  {
   "cell_type": "markdown",
   "metadata": {},
   "source": [
    "### Imports and helpers"
   ]
  },
  {
   "cell_type": "code",
   "execution_count": 1,
   "metadata": {
    "ExecuteTime": {
     "end_time": "2018-12-11T19:07:33.330350Z",
     "start_time": "2018-12-11T19:07:31.841644Z"
    }
   },
   "outputs": [],
   "source": [
    "# General\n",
    "from pathlib import Path\n",
    "import os\n",
    "from functools import partial\n",
    "\n",
    "# Data processing\n",
    "import pandas as pd\n",
    "import numpy as np\n",
    "\n",
    "# Machine learning\n",
    "from sklearn.ensemble import RandomForestClassifier\n",
    "from sklearn.ensemble import GradientBoostingClassifier\n",
    "\n",
    "%matplotlib inline"
   ]
  },
  {
   "cell_type": "code",
   "execution_count": 2,
   "metadata": {
    "ExecuteTime": {
     "end_time": "2018-12-11T19:07:33.995607Z",
     "start_time": "2018-12-11T19:07:33.989462Z"
    }
   },
   "outputs": [],
   "source": [
    "def display_all(df):\n",
    "    with pd.option_context(\"display.max_rows\", 1000, \"display.max_columns\", 1000): \n",
    "        display(df)"
   ]
  },
  {
   "cell_type": "code",
   "execution_count": 3,
   "metadata": {
    "ExecuteTime": {
     "end_time": "2018-12-11T19:08:59.914146Z",
     "start_time": "2018-12-11T19:08:59.907492Z"
    }
   },
   "outputs": [],
   "source": [
    "from pandas.api.types import is_string_dtype\n",
    "\n",
    "def make_categorical(df):\n",
    "    \n",
    "    categories = {}\n",
    "\n",
    "    for c in df.columns:\n",
    "\n",
    "        if is_string_dtype(df[c]):\n",
    "            df[c] = df[c].astype(\"category\").cat.as_ordered()\n",
    "            categories[c] = df[c].cat.categories\n",
    "            df[c] = df[c].cat.codes\n",
    "            \n",
    "    return df, categories"
   ]
  },
  {
   "cell_type": "code",
   "execution_count": 4,
   "metadata": {
    "ExecuteTime": {
     "end_time": "2018-12-11T19:09:30.646126Z",
     "start_time": "2018-12-11T19:09:30.639871Z"
    }
   },
   "outputs": [],
   "source": [
    "def apply_categories(df, categories):\n",
    "    \n",
    "    for c in df.columns:\n",
    "        \n",
    "        if is_string_dtype(df[c]):\n",
    "            df[c] = pd.Categorical(df[c], categories=categories, ordered=True)\n",
    "            df[c] = df[c].cat.codes"
   ]
  },
  {
   "cell_type": "markdown",
   "metadata": {},
   "source": [
    "This implementation of the evaluation metric described on the [competition homepage](https://www.kaggle.com/c/airbnb-recruiting-new-user-bookings#evaluation) is based on work shared in the [competition discussion](https://www.kaggle.com/wendykan/ndcg-example)."
   ]
  },
  {
   "cell_type": "code",
   "execution_count": 5,
   "metadata": {
    "ExecuteTime": {
     "end_time": "2018-12-11T19:10:20.367637Z",
     "start_time": "2018-12-11T19:10:20.355885Z"
    }
   },
   "outputs": [],
   "source": [
    "def dcg_at_k(r, k, method=1):\n",
    "    \"\"\"Score is discounted cumulative gain (dcg)\n",
    "    Relevance is positive real values.  Can use binary\n",
    "    as the previous methods.\n",
    "    Example from\n",
    "    http://www.stanford.edu/class/cs276/handouts/EvaluationNew-handout-6-per.pdf\n",
    "    >>> r = [3, 2, 3, 0, 0, 1, 2, 2, 3, 0]\n",
    "    >>> dcg_at_k(r, 1)\n",
    "    3.0\n",
    "    >>> dcg_at_k(r, 1, method=1)\n",
    "    3.0\n",
    "    >>> dcg_at_k(r, 2)\n",
    "    5.0\n",
    "    >>> dcg_at_k(r, 2, method=1)\n",
    "    4.2618595071429155\n",
    "    >>> dcg_at_k(r, 10)\n",
    "    9.6051177391888114\n",
    "    >>> dcg_at_k(r, 11)\n",
    "    9.6051177391888114\n",
    "    Args:\n",
    "        r: Relevance scores (list or numpy) in rank order\n",
    "            (first element is the first item)\n",
    "        k: Number of results to consider\n",
    "        method: If 0 then weights are [1.0, 1.0, 0.6309, 0.5, 0.4307, ...]\n",
    "                If 1 then weights are [1.0, 0.6309, 0.5, 0.4307, ...]\n",
    "    Returns:\n",
    "        Discounted cumulative gain\n",
    "    \"\"\"\n",
    "    r = np.asfarray(r)[:k]\n",
    "    if r.size:\n",
    "        if method == 0:\n",
    "            return r[0] + np.sum(r[1:] / np.log2(np.arange(2, r.size + 1)))\n",
    "        elif method == 1:\n",
    "            return np.sum(r / np.log2(np.arange(2, r.size + 2)))\n",
    "        else:\n",
    "            raise ValueError(\"method must be 0 or 1.\")\n",
    "    return 0.\n",
    "\n",
    "\n",
    "def ndcg_at_k(r, k, method=1):\n",
    "    \"\"\"Score is normalized discounted cumulative gain (ndcg)\n",
    "    Relevance is positive real values.  Can use binary\n",
    "    as the previous methods.\n",
    "    Example from\n",
    "    http://www.stanford.edu/class/cs276/handouts/EvaluationNew-handout-6-per.pdf\n",
    "    >>> r = [3, 2, 3, 0, 0, 1, 2, 2, 3, 0]\n",
    "    >>> ndcg_at_k(r, 1)\n",
    "    1.0\n",
    "    >>> r = [2, 1, 2, 0]\n",
    "    >>> ndcg_at_k(r, 4)\n",
    "    0.9203032077642922\n",
    "    >>> ndcg_at_k(r, 4, method=1)\n",
    "    0.96519546960144276\n",
    "    >>> ndcg_at_k([0], 1)\n",
    "    0.0\n",
    "    >>> ndcg_at_k([1], 2)\n",
    "    1.0\n",
    "    Args:\n",
    "        r: Relevance scores (list or numpy) in rank order\n",
    "            (first element is the first item)\n",
    "        k: Number of results to consider\n",
    "        method: If 0 then weights are [1.0, 1.0, 0.6309, 0.5, 0.4307, ...]\n",
    "                If 1 then weights are [1.0, 0.6309, 0.5, 0.4307, ...]\n",
    "    Returns:\n",
    "        Normalized discounted cumulative gain\n",
    "    \"\"\"\n",
    "    dcg_max = dcg_at_k(sorted(r, reverse=True), k, method)\n",
    "    if not dcg_max:\n",
    "        return 0.\n",
    "    return dcg_at_k(r, k, method) / dcg_max"
   ]
  },
  {
   "cell_type": "code",
   "execution_count": 6,
   "metadata": {
    "ExecuteTime": {
     "end_time": "2018-12-11T19:12:54.245037Z",
     "start_time": "2018-12-11T19:12:54.238051Z"
    }
   },
   "outputs": [],
   "source": [
    "def format_preds_wd(m, X, index_col=False):\n",
    "    \"\"\" Get top five class codes in wide format ordered by probability from left to right\n",
    "    m : A fitted sklearn model implementing predict_proba\n",
    "    X : Feature matrix\n",
    "    \"\"\"\n",
    "    \n",
    "    probs = m.predict_proba(X)\n",
    "    res = pd.DataFrame(probs.argsort()[:, -5:][:, ::-1])\n",
    "    if index_col:\n",
    "        res[\"id\"] = X.index\n",
    "    else:\n",
    "        res = res.set_index(X.index)\n",
    "    return res"
   ]
  },
  {
   "cell_type": "code",
   "execution_count": 7,
   "metadata": {
    "ExecuteTime": {
     "end_time": "2018-12-11T19:12:54.979703Z",
     "start_time": "2018-12-11T19:12:54.973709Z"
    }
   },
   "outputs": [],
   "source": [
    "def format_preds_lng(m, X, mapper=None):\n",
    "    res = pd.melt(format_preds_wd(m, X, index_col=True), id_vars=\"id\", value_name=\"country\").sort_values(by=[\"id\", \"variable\"]).drop(\"variable\", axis=1)\n",
    "    if mapper: res.country = res.country.map(mapper)\n",
    "    return res"
   ]
  },
  {
   "cell_type": "code",
   "execution_count": 9,
   "metadata": {
    "ExecuteTime": {
     "end_time": "2018-12-11T19:20:38.845974Z",
     "start_time": "2018-12-11T19:20:38.832768Z"
    }
   },
   "outputs": [],
   "source": [
    "def score_predictions_wd(preds, y_true, k=5):\n",
    "    \"\"\"\n",
    "    preds: pd.DataFrame\n",
    "      one row for each observation, one column for each prediction.\n",
    "      Columns are sorted from left to right descending in order of likelihood.\n",
    "    truth: pd.Series\n",
    "      one row for each observation.\n",
    "    \"\"\"\n",
    "    assert(len(preds)==len(y_true))\n",
    "    r = pd.DataFrame(0, index=preds.index, columns=preds.columns, dtype=np.float64)\n",
    "    for col in preds.columns:\n",
    "        r[col] = (preds[col] == y_true) * 1.0\n",
    "\n",
    "    score = pd.Series(r.apply(partial(ndcg_at_k, k=k), axis=1, result_type=\"reduce\"), name=\"score\")\n",
    "    print(f\"Average NDCG at {k}: {score.mean():.4f}\")\n",
    "    return score"
   ]
  },
  {
   "cell_type": "markdown",
   "metadata": {},
   "source": [
    "### Data preprocessing"
   ]
  },
  {
   "cell_type": "markdown",
   "metadata": {},
   "source": [
    "#### Read in the available data and check out what we have"
   ]
  },
  {
   "cell_type": "markdown",
   "metadata": {},
   "source": [
    "##### Users"
   ]
  },
  {
   "cell_type": "markdown",
   "metadata": {},
   "source": [
    "The `users` table is the main data source we have. There is one entry for each unique user. We have data on a total of `213.451 users` available for training. The test set contains `62.096` rows.  The users table provides basic information each user as well as the target for our prediction task, the `country_destination` column.\n",
    "\n",
    "Our target has 12 possible values: `'NDF', 'US', 'other', 'FR', 'CA', 'GB', 'ES', 'IT', 'PT', 'NL', 'DE', 'AU'`.\n",
    "\n",
    "Among these, there are two special values:\n",
    "\n",
    "- `NDF` - no destination found, i.e. no booking took place yet\n",
    "- `other` - the user booked, but not in one of the 10 main countries"
   ]
  },
  {
   "cell_type": "code",
   "execution_count": 11,
   "metadata": {
    "ExecuteTime": {
     "end_time": "2018-12-11T19:21:14.694310Z",
     "start_time": "2018-12-11T19:21:14.686781Z"
    }
   },
   "outputs": [],
   "source": [
    "DATA_PATH = Path.cwd() / \"data\""
   ]
  },
  {
   "cell_type": "code",
   "execution_count": 12,
   "metadata": {
    "ExecuteTime": {
     "end_time": "2018-12-11T19:21:16.095362Z",
     "start_time": "2018-12-11T19:21:15.394502Z"
    }
   },
   "outputs": [],
   "source": [
    "train_users = pd.read_csv(DATA_PATH / \"train_users_2.csv\")"
   ]
  },
  {
   "cell_type": "markdown",
   "metadata": {},
   "source": [
    "##### Sessions"
   ]
  },
  {
   "cell_type": "markdown",
   "metadata": {},
   "source": [
    "The `sessions` table contains several entries for a subset of the users. Session data is available for approx. `63% of the users`. The top user has `more than 2700 sessions`.\n",
    "\n",
    "Each session entry contains information on\n",
    "- which action was taken (`action`)\n",
    "- which type of action that is (`action_type`)\n",
    "- a more detailed description of the action (`action_detail`) \n",
    "- the type of device that action was taken on (`device_type`)\n",
    "- how many seconds have passed since the last action was taken (`secs_elapsed`)"
   ]
  },
  {
   "cell_type": "code",
   "execution_count": 13,
   "metadata": {
    "ExecuteTime": {
     "end_time": "2018-12-11T19:21:30.864017Z",
     "start_time": "2018-12-11T19:21:20.698103Z"
    }
   },
   "outputs": [],
   "source": [
    "sessions = pd.read_csv(DATA_PATH / \"sessions.csv\")"
   ]
  },
  {
   "cell_type": "markdown",
   "metadata": {},
   "source": [
    "#### Prepare data for modeling"
   ]
  },
  {
   "cell_type": "markdown",
   "metadata": {},
   "source": [
    "##### Add aggregated sessions data"
   ]
  },
  {
   "cell_type": "code",
   "execution_count": 14,
   "metadata": {
    "ExecuteTime": {
     "end_time": "2018-12-11T19:22:03.541679Z",
     "start_time": "2018-12-11T19:21:58.270821Z"
    }
   },
   "outputs": [],
   "source": [
    "sessions = (sessions\n",
    "            .rename({\"user_id\" : \"id\"}, axis=\"columns\")\n",
    "            .dropna(subset=[\"id\"])\n",
    "           )"
   ]
  },
  {
   "cell_type": "markdown",
   "metadata": {},
   "source": [
    "**Devices used to access AirBnB**"
   ]
  },
  {
   "cell_type": "code",
   "execution_count": 16,
   "metadata": {
    "ExecuteTime": {
     "end_time": "2018-12-11T19:23:53.735315Z",
     "start_time": "2018-12-11T19:23:53.326294Z"
    }
   },
   "outputs": [
    {
     "data": {
      "text/plain": [
       "14"
      ]
     },
     "execution_count": 16,
     "metadata": {},
     "output_type": "execute_result"
    }
   ],
   "source": [
    "sessions.device_type.nunique()"
   ]
  },
  {
   "cell_type": "code",
   "execution_count": 17,
   "metadata": {
    "ExecuteTime": {
     "end_time": "2018-12-11T19:25:24.366015Z",
     "start_time": "2018-12-11T19:25:20.171446Z"
    }
   },
   "outputs": [],
   "source": [
    "sessions_device_type_count = (pd.DataFrame(sessions\n",
    "                                             .groupby(\"id\")\n",
    "                                             .device_type\n",
    "                                             .value_counts()\n",
    "                                          )\n",
    "                              .rename({\"device_type\" : \"count_sessions_device\"}, axis=\"columns\")\n",
    "                              .reset_index()\n",
    "                              .pivot(index=\"id\",\n",
    "                                     columns=\"device_type\",\n",
    "                                     values=\"count_sessions_device\")\n",
    "                              .reset_index()\n",
    "                              .fillna(-1)\n",
    "                             )"
   ]
  },
  {
   "cell_type": "code",
   "execution_count": 19,
   "metadata": {
    "ExecuteTime": {
     "end_time": "2018-12-11T19:26:39.445033Z",
     "start_time": "2018-12-11T19:26:39.419274Z"
    }
   },
   "outputs": [
    {
     "data": {
      "text/html": [
       "<div>\n",
       "<style scoped>\n",
       "    .dataframe tbody tr th:only-of-type {\n",
       "        vertical-align: middle;\n",
       "    }\n",
       "\n",
       "    .dataframe tbody tr th {\n",
       "        vertical-align: top;\n",
       "    }\n",
       "\n",
       "    .dataframe thead th {\n",
       "        text-align: right;\n",
       "    }\n",
       "</style>\n",
       "<table border=\"1\" class=\"dataframe\">\n",
       "  <thead>\n",
       "    <tr style=\"text-align: right;\">\n",
       "      <th>device_type</th>\n",
       "      <th>id</th>\n",
       "      <th>-unknown-</th>\n",
       "      <th>Android App Unknown Phone/Tablet</th>\n",
       "      <th>Android Phone</th>\n",
       "      <th>Blackberry</th>\n",
       "      <th>Chromebook</th>\n",
       "      <th>Linux Desktop</th>\n",
       "      <th>Mac Desktop</th>\n",
       "      <th>Opera Phone</th>\n",
       "      <th>Tablet</th>\n",
       "      <th>Windows Desktop</th>\n",
       "      <th>Windows Phone</th>\n",
       "      <th>iPad Tablet</th>\n",
       "      <th>iPhone</th>\n",
       "      <th>iPodtouch</th>\n",
       "    </tr>\n",
       "  </thead>\n",
       "  <tbody>\n",
       "    <tr>\n",
       "      <th>0</th>\n",
       "      <td>00023iyk9l</td>\n",
       "      <td>-1.0</td>\n",
       "      <td>-1.0</td>\n",
       "      <td>-1.0</td>\n",
       "      <td>-1.0</td>\n",
       "      <td>-1.0</td>\n",
       "      <td>-1.0</td>\n",
       "      <td>36.0</td>\n",
       "      <td>-1.0</td>\n",
       "      <td>-1.0</td>\n",
       "      <td>-1.0</td>\n",
       "      <td>-1.0</td>\n",
       "      <td>-1.0</td>\n",
       "      <td>4.0</td>\n",
       "      <td>-1.0</td>\n",
       "    </tr>\n",
       "    <tr>\n",
       "      <th>1</th>\n",
       "      <td>0010k6l0om</td>\n",
       "      <td>-1.0</td>\n",
       "      <td>-1.0</td>\n",
       "      <td>-1.0</td>\n",
       "      <td>-1.0</td>\n",
       "      <td>-1.0</td>\n",
       "      <td>-1.0</td>\n",
       "      <td>63.0</td>\n",
       "      <td>-1.0</td>\n",
       "      <td>-1.0</td>\n",
       "      <td>-1.0</td>\n",
       "      <td>-1.0</td>\n",
       "      <td>-1.0</td>\n",
       "      <td>-1.0</td>\n",
       "      <td>-1.0</td>\n",
       "    </tr>\n",
       "    <tr>\n",
       "      <th>2</th>\n",
       "      <td>001wyh0pz8</td>\n",
       "      <td>-1.0</td>\n",
       "      <td>90.0</td>\n",
       "      <td>-1.0</td>\n",
       "      <td>-1.0</td>\n",
       "      <td>-1.0</td>\n",
       "      <td>-1.0</td>\n",
       "      <td>-1.0</td>\n",
       "      <td>-1.0</td>\n",
       "      <td>-1.0</td>\n",
       "      <td>-1.0</td>\n",
       "      <td>-1.0</td>\n",
       "      <td>-1.0</td>\n",
       "      <td>-1.0</td>\n",
       "      <td>-1.0</td>\n",
       "    </tr>\n",
       "    <tr>\n",
       "      <th>3</th>\n",
       "      <td>0028jgx1x1</td>\n",
       "      <td>30.0</td>\n",
       "      <td>-1.0</td>\n",
       "      <td>1.0</td>\n",
       "      <td>-1.0</td>\n",
       "      <td>-1.0</td>\n",
       "      <td>-1.0</td>\n",
       "      <td>-1.0</td>\n",
       "      <td>-1.0</td>\n",
       "      <td>-1.0</td>\n",
       "      <td>-1.0</td>\n",
       "      <td>-1.0</td>\n",
       "      <td>-1.0</td>\n",
       "      <td>-1.0</td>\n",
       "      <td>-1.0</td>\n",
       "    </tr>\n",
       "    <tr>\n",
       "      <th>4</th>\n",
       "      <td>002qnbzfs5</td>\n",
       "      <td>14.0</td>\n",
       "      <td>-1.0</td>\n",
       "      <td>-1.0</td>\n",
       "      <td>-1.0</td>\n",
       "      <td>-1.0</td>\n",
       "      <td>-1.0</td>\n",
       "      <td>-1.0</td>\n",
       "      <td>-1.0</td>\n",
       "      <td>-1.0</td>\n",
       "      <td>-1.0</td>\n",
       "      <td>-1.0</td>\n",
       "      <td>-1.0</td>\n",
       "      <td>775.0</td>\n",
       "      <td>-1.0</td>\n",
       "    </tr>\n",
       "  </tbody>\n",
       "</table>\n",
       "</div>"
      ],
      "text/plain": [
       "device_type          id  -unknown-  Android App Unknown Phone/Tablet  \\\n",
       "0            00023iyk9l       -1.0                              -1.0   \n",
       "1            0010k6l0om       -1.0                              -1.0   \n",
       "2            001wyh0pz8       -1.0                              90.0   \n",
       "3            0028jgx1x1       30.0                              -1.0   \n",
       "4            002qnbzfs5       14.0                              -1.0   \n",
       "\n",
       "device_type  Android Phone  Blackberry  Chromebook  Linux Desktop  \\\n",
       "0                     -1.0        -1.0        -1.0           -1.0   \n",
       "1                     -1.0        -1.0        -1.0           -1.0   \n",
       "2                     -1.0        -1.0        -1.0           -1.0   \n",
       "3                      1.0        -1.0        -1.0           -1.0   \n",
       "4                     -1.0        -1.0        -1.0           -1.0   \n",
       "\n",
       "device_type  Mac Desktop  Opera Phone  Tablet  Windows Desktop  Windows Phone  \\\n",
       "0                   36.0         -1.0    -1.0             -1.0           -1.0   \n",
       "1                   63.0         -1.0    -1.0             -1.0           -1.0   \n",
       "2                   -1.0         -1.0    -1.0             -1.0           -1.0   \n",
       "3                   -1.0         -1.0    -1.0             -1.0           -1.0   \n",
       "4                   -1.0         -1.0    -1.0             -1.0           -1.0   \n",
       "\n",
       "device_type  iPad Tablet  iPhone  iPodtouch  \n",
       "0                   -1.0     4.0       -1.0  \n",
       "1                   -1.0    -1.0       -1.0  \n",
       "2                   -1.0    -1.0       -1.0  \n",
       "3                   -1.0    -1.0       -1.0  \n",
       "4                   -1.0   775.0       -1.0  "
      ]
     },
     "execution_count": 19,
     "metadata": {},
     "output_type": "execute_result"
    }
   ],
   "source": [
    "sessions_device_type_count.head()"
   ]
  },
  {
   "cell_type": "code",
   "execution_count": 20,
   "metadata": {
    "ExecuteTime": {
     "end_time": "2018-12-11T19:27:28.846572Z",
     "start_time": "2018-12-11T19:27:28.841305Z"
    }
   },
   "outputs": [],
   "source": [
    "colname_mapper_devices = {c : f\"count_device_{c.replace(' ', '_').lower()}\"\n",
    "                          for c in sessions_device_type_count.columns\n",
    "                          if c != \"id\"}"
   ]
  },
  {
   "cell_type": "code",
   "execution_count": 22,
   "metadata": {
    "ExecuteTime": {
     "end_time": "2018-12-11T19:28:05.163529Z",
     "start_time": "2018-12-11T19:28:05.129564Z"
    }
   },
   "outputs": [],
   "source": [
    "sessions_device_type_count.rename(colname_mapper_devices, axis=\"columns\", inplace=True)"
   ]
  },
  {
   "cell_type": "code",
   "execution_count": 23,
   "metadata": {
    "ExecuteTime": {
     "end_time": "2018-12-11T19:28:24.231707Z",
     "start_time": "2018-12-11T19:28:19.880309Z"
    }
   },
   "outputs": [],
   "source": [
    "sessions_preferred_device = (pd.DataFrame(sessions\n",
    "                                             .groupby(\"id\")\n",
    "                                             .device_type\n",
    "                                             .value_counts()\n",
    "                                             .groupby(level=0)\n",
    "                                             .head(1))\n",
    "                             .rename({\"device_type\" : \"to_drop\"}, axis=\"columns\")\n",
    "                             .reset_index()\n",
    "                             .rename({\"device_type\" : \"preferred_device\"}, axis=\"columns\")\n",
    "                             .drop(\"to_drop\", axis=\"columns\")\n",
    "                            )"
   ]
  },
  {
   "cell_type": "markdown",
   "metadata": {
    "ExecuteTime": {
     "end_time": "2018-12-09T10:46:28.325984Z",
     "start_time": "2018-12-09T10:46:28.264499Z"
    }
   },
   "source": [
    "**Actions taken on AirBnB**"
   ]
  },
  {
   "cell_type": "code",
   "execution_count": 25,
   "metadata": {
    "ExecuteTime": {
     "end_time": "2018-12-11T19:29:01.118221Z",
     "start_time": "2018-12-11T19:29:00.186572Z"
    }
   },
   "outputs": [
    {
     "data": {
      "text/plain": [
       "359"
      ]
     },
     "execution_count": 25,
     "metadata": {},
     "output_type": "execute_result"
    }
   ],
   "source": [
    "sessions.action.nunique()"
   ]
  },
  {
   "cell_type": "markdown",
   "metadata": {},
   "source": [
    "There are many distinct values for \"action\", let's bin the long tail into a \"other\" category"
   ]
  },
  {
   "cell_type": "code",
   "execution_count": 27,
   "metadata": {
    "ExecuteTime": {
     "end_time": "2018-12-11T19:30:14.389536Z",
     "start_time": "2018-12-11T19:30:14.382894Z"
    }
   },
   "outputs": [],
   "source": [
    "def add_others(df_in, make_others, k=50):\n",
    "    df = df_in.copy()\n",
    "    for col in make_others:\n",
    "        cnts = df[col].value_counts()\n",
    "        df.loc[df.loc[:, col].isin(list(cnts.iloc[k-1:].index)), col] = \"Other\"\n",
    "        \n",
    "    return df"
   ]
  },
  {
   "cell_type": "code",
   "execution_count": 28,
   "metadata": {
    "ExecuteTime": {
     "end_time": "2018-12-11T19:30:20.845651Z",
     "start_time": "2018-12-11T19:30:16.665539Z"
    }
   },
   "outputs": [],
   "source": [
    "sessions = add_others(sessions, [\"action\"])"
   ]
  },
  {
   "cell_type": "code",
   "execution_count": 30,
   "metadata": {
    "ExecuteTime": {
     "end_time": "2018-12-11T19:31:06.455557Z",
     "start_time": "2018-12-11T19:30:59.447524Z"
    }
   },
   "outputs": [],
   "source": [
    "sessions_action_count = (pd.DataFrame(sessions\n",
    "                                             .groupby(\"id\")\n",
    "                                             .action\n",
    "                                             .value_counts()\n",
    "                                          )\n",
    "                              .rename({\"action\" : \"count_sessions_action\"}, axis=\"columns\")\n",
    "                              .reset_index()\n",
    "                              .pivot(index=\"id\",\n",
    "                                     columns=\"action\",\n",
    "                                     values=\"count_sessions_action\")\n",
    "                              .reset_index()\n",
    "                              .fillna(-1)\n",
    "                             )"
   ]
  },
  {
   "cell_type": "code",
   "execution_count": 31,
   "metadata": {
    "ExecuteTime": {
     "end_time": "2018-12-11T19:31:06.465287Z",
     "start_time": "2018-12-11T19:31:06.458737Z"
    }
   },
   "outputs": [],
   "source": [
    "colname_mapper_actions = {c : f\"count_action_{c.replace(' ', '_').lower()}\"\n",
    "                          for c in sessions_action_count.columns\n",
    "                          if c != \"id\"}"
   ]
  },
  {
   "cell_type": "code",
   "execution_count": 32,
   "metadata": {
    "ExecuteTime": {
     "end_time": "2018-12-11T19:31:06.568325Z",
     "start_time": "2018-12-11T19:31:06.468489Z"
    }
   },
   "outputs": [],
   "source": [
    "sessions_action_count.rename(colname_mapper_actions, axis=\"columns\", inplace=True)"
   ]
  },
  {
   "cell_type": "markdown",
   "metadata": {},
   "source": [
    "**Summary statistics of time elapsed, i.e. time spent in interaction with AirBnB**"
   ]
  },
  {
   "cell_type": "code",
   "execution_count": 34,
   "metadata": {
    "ExecuteTime": {
     "end_time": "2018-12-11T19:33:04.833926Z",
     "start_time": "2018-12-11T19:33:02.094501Z"
    }
   },
   "outputs": [],
   "source": [
    "sessions_agg_elapsed = (pd.DataFrame(sessions\n",
    "                                          .groupby(\"id\")\n",
    "                                          .secs_elapsed\n",
    "                                          .agg([\"min\", \"median\", \"max\"]))\n",
    "                         .reset_index()\n",
    "                       )"
   ]
  },
  {
   "cell_type": "code",
   "execution_count": 35,
   "metadata": {
    "ExecuteTime": {
     "end_time": "2018-12-11T19:33:05.017133Z",
     "start_time": "2018-12-11T19:33:05.012409Z"
    }
   },
   "outputs": [],
   "source": [
    "colname_mapper_secs_elapsed = {c : f\"{c}_secs_elapsed\"\n",
    "                               for c in sessions_agg_elapsed.columns\n",
    "                               if c != \"id\"}"
   ]
  },
  {
   "cell_type": "code",
   "execution_count": 36,
   "metadata": {
    "ExecuteTime": {
     "end_time": "2018-12-11T19:33:05.409350Z",
     "start_time": "2018-12-11T19:33:05.385265Z"
    }
   },
   "outputs": [],
   "source": [
    "sessions_agg_elapsed.rename(colname_mapper_secs_elapsed, axis=\"columns\", inplace=True)"
   ]
  },
  {
   "cell_type": "markdown",
   "metadata": {},
   "source": [
    "**Combine all sessions features into a single dataframe and merge with train data**"
   ]
  },
  {
   "cell_type": "code",
   "execution_count": 38,
   "metadata": {
    "ExecuteTime": {
     "end_time": "2018-12-11T19:33:32.929266Z",
     "start_time": "2018-12-11T19:33:32.204001Z"
    }
   },
   "outputs": [],
   "source": [
    "sessions_features = (sessions_agg_elapsed\n",
    "                     .merge(sessions_action_count, how=\"outer\", on=\"id\")\n",
    "                     .merge(sessions_device_type_count, how=\"outer\", on=\"id\")\n",
    "                     .merge(sessions_preferred_device, how=\"outer\", on=\"id\")\n",
    "                    )"
   ]
  },
  {
   "cell_type": "markdown",
   "metadata": {},
   "source": [
    "Gather feature names to fill NAs later on"
   ]
  },
  {
   "cell_type": "code",
   "execution_count": 39,
   "metadata": {
    "ExecuteTime": {
     "end_time": "2018-12-11T19:33:59.536775Z",
     "start_time": "2018-12-11T19:33:59.532218Z"
    }
   },
   "outputs": [],
   "source": [
    "session_action_count_features = list(colname_mapper_actions.values())\n",
    "session_agg_elapsed_features = list(colname_mapper_secs_elapsed.values())\n",
    "session_count_device_features = list(colname_mapper_devices.values())"
   ]
  },
  {
   "cell_type": "code",
   "execution_count": 40,
   "metadata": {
    "ExecuteTime": {
     "end_time": "2018-12-11T19:34:08.795122Z",
     "start_time": "2018-12-11T19:34:07.912831Z"
    }
   },
   "outputs": [],
   "source": [
    "train_users_sessions = pd.merge(train_users,\n",
    "                                sessions_features,\n",
    "                                how=\"left\",\n",
    "                                on=\"id\")"
   ]
  },
  {
   "cell_type": "code",
   "execution_count": 41,
   "metadata": {
    "ExecuteTime": {
     "end_time": "2018-12-11T19:34:20.153663Z",
     "start_time": "2018-12-11T19:34:20.144591Z"
    }
   },
   "outputs": [
    {
     "data": {
      "text/plain": [
       "((213451, 16), (213451, 84))"
      ]
     },
     "execution_count": 41,
     "metadata": {},
     "output_type": "execute_result"
    }
   ],
   "source": [
    "train_users.shape, train_users_sessions.shape"
   ]
  },
  {
   "cell_type": "markdown",
   "metadata": {},
   "source": [
    "#### Save intermediate result"
   ]
  },
  {
   "cell_type": "code",
   "execution_count": null,
   "metadata": {
    "ExecuteTime": {
     "end_time": "2018-12-11T18:08:52.670103Z",
     "start_time": "2018-12-11T18:08:51.262941Z"
    }
   },
   "outputs": [],
   "source": [
    "DATA_OUTPUT_PATH = Path.cwd() / \"output\"\n",
    "\n",
    "if not DATA_OUTPUT_PATH.is_dir():\n",
    "    DATA_OUTPUT_PATH.mkdir()\n",
    "    \n",
    "train_users_sessions.to_pickle(DATA_OUTPUT_PATH / \"train_users_sessions.pkl\")"
   ]
  },
  {
   "cell_type": "markdown",
   "metadata": {},
   "source": [
    "### Modeling"
   ]
  },
  {
   "cell_type": "markdown",
   "metadata": {},
   "source": [
    "#### Read in data"
   ]
  },
  {
   "cell_type": "code",
   "execution_count": null,
   "metadata": {
    "ExecuteTime": {
     "end_time": "2018-12-11T18:11:36.688549Z",
     "start_time": "2018-12-11T18:11:36.679733Z"
    }
   },
   "outputs": [],
   "source": [
    "DATA_OUTPUT_PATH = Path.cwd() / \"output\""
   ]
  },
  {
   "cell_type": "code",
   "execution_count": null,
   "metadata": {
    "ExecuteTime": {
     "end_time": "2018-12-11T18:11:38.302187Z",
     "start_time": "2018-12-11T18:11:37.435822Z"
    }
   },
   "outputs": [],
   "source": [
    "train_users_sessions = pd.read_pickle(DATA_OUTPUT_PATH / \"train_users_sessions.pkl\")"
   ]
  },
  {
   "cell_type": "code",
   "execution_count": 53,
   "metadata": {
    "ExecuteTime": {
     "end_time": "2018-12-11T19:42:21.297696Z",
     "start_time": "2018-12-11T19:42:20.545959Z"
    }
   },
   "outputs": [],
   "source": [
    "df = (train_users_sessions\n",
    "      .set_index(\"id\")\n",
    "      .sort_values(by=\"date_account_created\")\n",
    "      .drop([\"date_account_created\", \"date_first_booking\"], axis=1))"
   ]
  },
  {
   "cell_type": "code",
   "execution_count": 55,
   "metadata": {
    "ExecuteTime": {
     "end_time": "2018-12-11T19:43:34.161224Z",
     "start_time": "2018-12-11T19:43:34.147617Z"
    }
   },
   "outputs": [
    {
     "data": {
      "text/plain": [
       "(213451, 81)"
      ]
     },
     "execution_count": 55,
     "metadata": {},
     "output_type": "execute_result"
    }
   ],
   "source": [
    "df.shape"
   ]
  },
  {
   "cell_type": "code",
   "execution_count": 56,
   "metadata": {
    "ExecuteTime": {
     "end_time": "2018-12-11T19:43:34.868999Z",
     "start_time": "2018-12-11T19:43:34.399275Z"
    }
   },
   "outputs": [
    {
     "data": {
      "text/plain": [
       "timestamp_first_active                                0\n",
       "gender                                                0\n",
       "age                                               87990\n",
       "signup_method                                         0\n",
       "signup_flow                                           0\n",
       "language                                              0\n",
       "affiliate_channel                                     0\n",
       "affiliate_provider                                    0\n",
       "first_affiliate_tracked                            6065\n",
       "signup_app                                            0\n",
       "first_device_type                                     0\n",
       "first_browser                                         0\n",
       "country_destination                                   0\n",
       "min_secs_elapsed                                 140820\n",
       "median_secs_elapsed                              140820\n",
       "max_secs_elapsed                                 140820\n",
       "count_action_other                               140045\n",
       "count_action_active                              140045\n",
       "count_action_ajax_check_dates                    140045\n",
       "count_action_ajax_lwlb_contact                   140045\n",
       "count_action_ajax_photo_widget_form_iframe       140045\n",
       "count_action_ajax_refresh_subtotal               140045\n",
       "count_action_ask_question                        140045\n",
       "count_action_authenticate                        140045\n",
       "count_action_calendar_tab_inner2                 140045\n",
       "count_action_callback                            140045\n",
       "count_action_campaigns                           140045\n",
       "count_action_cancellation_policies               140045\n",
       "count_action_click                               140045\n",
       "count_action_collections                         140045\n",
       "                                                  ...  \n",
       "count_action_requested                           140045\n",
       "count_action_reviews                             140045\n",
       "count_action_search                              140045\n",
       "count_action_search_results                      140045\n",
       "count_action_settings                            140045\n",
       "count_action_show                                140045\n",
       "count_action_show_personalize                    140045\n",
       "count_action_similar_listings                    140045\n",
       "count_action_similar_listings_v2                 140045\n",
       "count_action_social_connections                  140045\n",
       "count_action_track_page_view                     140045\n",
       "count_action_travel_plans_current                140045\n",
       "count_action_unavailabilities                    140045\n",
       "count_action_update                              140045\n",
       "count_action_verify                              140045\n",
       "count_device_-unknown-                           139636\n",
       "count_device_android_app_unknown_phone/tablet    139636\n",
       "count_device_android_phone                       139636\n",
       "count_device_blackberry                          139636\n",
       "count_device_chromebook                          139636\n",
       "count_device_linux_desktop                       139636\n",
       "count_device_mac_desktop                         139636\n",
       "count_device_opera_phone                         139636\n",
       "count_device_tablet                              139636\n",
       "count_device_windows_desktop                     139636\n",
       "count_device_windows_phone                       139636\n",
       "count_device_ipad_tablet                         139636\n",
       "count_device_iphone                              139636\n",
       "count_device_ipodtouch                           139636\n",
       "preferred_device                                 139636\n",
       "Length: 81, dtype: int64"
      ]
     },
     "execution_count": 56,
     "metadata": {},
     "output_type": "execute_result"
    }
   ],
   "source": [
    "df.isna().sum()"
   ]
  },
  {
   "cell_type": "markdown",
   "metadata": {},
   "source": [
    "**Fill NAs**"
   ]
  },
  {
   "cell_type": "code",
   "execution_count": 57,
   "metadata": {
    "ExecuteTime": {
     "end_time": "2018-12-11T19:43:36.667728Z",
     "start_time": "2018-12-11T19:43:36.586071Z"
    }
   },
   "outputs": [],
   "source": [
    "df.age = df.age.fillna(-1)\n",
    "df.first_affiliate_tracked = df.age.fillna(\"unknown\")\n",
    "df.preferred_device = df.preferred_device.fillna(\"unknown\")"
   ]
  },
  {
   "cell_type": "code",
   "execution_count": 58,
   "metadata": {
    "ExecuteTime": {
     "end_time": "2018-12-11T19:43:37.631445Z",
     "start_time": "2018-12-11T19:43:36.803522Z"
    }
   },
   "outputs": [],
   "source": [
    "session_numerics_to_fill = session_action_count_features \\\n",
    "                            + session_agg_elapsed_features \\\n",
    "                            + session_count_device_features\n",
    "\n",
    "df[session_numerics_to_fill] = df[session_numerics_to_fill].fillna(-1)"
   ]
  },
  {
   "cell_type": "code",
   "execution_count": 59,
   "metadata": {
    "ExecuteTime": {
     "end_time": "2018-12-11T19:43:37.905992Z",
     "start_time": "2018-12-11T19:43:37.634922Z"
    }
   },
   "outputs": [],
   "source": [
    "df, cats = make_categorical(df)"
   ]
  },
  {
   "cell_type": "code",
   "execution_count": 61,
   "metadata": {
    "ExecuteTime": {
     "end_time": "2018-12-11T19:44:01.119826Z",
     "start_time": "2018-12-11T19:44:00.764013Z"
    }
   },
   "outputs": [],
   "source": [
    "n_train = int(.7 * df.shape[0])\n",
    "X = df.drop(\"country_destination\", axis=1).copy()\n",
    "y = df[\"country_destination\"].copy()\n",
    "\n",
    "X_train = X[:n_train]\n",
    "y_train = y[:n_train]\n",
    "\n",
    "X_valid = X[n_train:]\n",
    "y_valid = y[n_train:]"
   ]
  },
  {
   "cell_type": "code",
   "execution_count": 62,
   "metadata": {
    "ExecuteTime": {
     "end_time": "2018-12-11T19:44:03.130292Z",
     "start_time": "2018-12-11T19:44:03.118948Z"
    }
   },
   "outputs": [
    {
     "data": {
      "text/plain": [
       "((149415, 80), (149415,), (64036, 80), (64036,))"
      ]
     },
     "execution_count": 62,
     "metadata": {},
     "output_type": "execute_result"
    }
   ],
   "source": [
    "X_train.shape, y_train.shape, X_valid.shape, y_valid.shape"
   ]
  },
  {
   "cell_type": "code",
   "execution_count": 71,
   "metadata": {
    "ExecuteTime": {
     "end_time": "2018-12-11T19:45:51.293566Z",
     "start_time": "2018-12-11T19:45:51.289199Z"
    }
   },
   "outputs": [],
   "source": [
    "m = RandomForestClassifier(n_estimators=50,\n",
    "                           min_samples_leaf=3,\n",
    "                           n_jobs=-1,\n",
    "                           random_state=42)"
   ]
  },
  {
   "cell_type": "code",
   "execution_count": 72,
   "metadata": {
    "ExecuteTime": {
     "end_time": "2018-12-11T19:46:06.196537Z",
     "start_time": "2018-12-11T19:45:52.874293Z"
    }
   },
   "outputs": [
    {
     "data": {
      "text/plain": [
       "RandomForestClassifier(bootstrap=True, class_weight=None, criterion='gini',\n",
       "            max_depth=None, max_features='auto', max_leaf_nodes=None,\n",
       "            min_impurity_decrease=0.0, min_impurity_split=None,\n",
       "            min_samples_leaf=3, min_samples_split=2,\n",
       "            min_weight_fraction_leaf=0.0, n_estimators=120, n_jobs=-1,\n",
       "            oob_score=False, random_state=42, verbose=0, warm_start=False)"
      ]
     },
     "execution_count": 72,
     "metadata": {},
     "output_type": "execute_result"
    }
   ],
   "source": [
    "m.fit(X_train, y_train)"
   ]
  },
  {
   "cell_type": "code",
   "execution_count": 73,
   "metadata": {
    "ExecuteTime": {
     "end_time": "2018-12-11T19:46:07.367338Z",
     "start_time": "2018-12-11T19:46:06.207803Z"
    }
   },
   "outputs": [
    {
     "data": {
      "text/plain": [
       "0.6933443687925542"
      ]
     },
     "execution_count": 73,
     "metadata": {},
     "output_type": "execute_result"
    }
   ],
   "source": [
    "m.score(X_valid, y_valid)"
   ]
  },
  {
   "cell_type": "code",
   "execution_count": 74,
   "metadata": {
    "ExecuteTime": {
     "end_time": "2018-12-11T19:46:11.507264Z",
     "start_time": "2018-12-11T19:46:07.370664Z"
    }
   },
   "outputs": [],
   "source": [
    "preds_train_wd = format_preds_wd(m, X_train)\n",
    "preds_valid_wd = format_preds_wd(m, X_valid)"
   ]
  },
  {
   "cell_type": "code",
   "execution_count": 75,
   "metadata": {
    "ExecuteTime": {
     "end_time": "2018-12-11T19:46:19.918764Z",
     "start_time": "2018-12-11T19:46:11.511017Z"
    }
   },
   "outputs": [
    {
     "name": "stdout",
     "output_type": "stream",
     "text": [
      "Average NDCG at 5: 0.8639\n"
     ]
    }
   ],
   "source": [
    "scores_train = score_predictions_wd(preds_train_wd, y_train)"
   ]
  },
  {
   "cell_type": "code",
   "execution_count": 76,
   "metadata": {
    "ExecuteTime": {
     "end_time": "2018-12-11T19:46:23.606254Z",
     "start_time": "2018-12-11T19:46:19.922581Z"
    }
   },
   "outputs": [
    {
     "name": "stdout",
     "output_type": "stream",
     "text": [
      "Average NDCG at 5: 0.8489\n"
     ]
    }
   ],
   "source": [
    "scores_valid = score_predictions_wd(preds_valid_wd, y_valid)"
   ]
  },
  {
   "cell_type": "markdown",
   "metadata": {
    "heading_collapsed": true
   },
   "source": [
    "#### Archive"
   ]
  },
  {
   "cell_type": "code",
   "execution_count": null,
   "metadata": {
    "ExecuteTime": {
     "end_time": "2018-12-11T18:12:36.703343Z",
     "start_time": "2018-12-11T18:12:36.697143Z"
    },
    "hidden": true
   },
   "outputs": [],
   "source": [
    "gbm = GradientBoostingClassifier(n_estimators=50,\n",
    "                                 random_state=42)"
   ]
  },
  {
   "cell_type": "code",
   "execution_count": null,
   "metadata": {
    "ExecuteTime": {
     "end_time": "2018-12-11T18:36:13.105617Z",
     "start_time": "2018-12-11T18:36:13.099729Z"
    },
    "hidden": true
   },
   "outputs": [],
   "source": [
    "rf = RandomForestClassifier(n_estimators=50,\n",
    "                           min_samples_leaf=3,\n",
    "                           n_jobs=-1,\n",
    "                           random_state=42)"
   ]
  },
  {
   "cell_type": "code",
   "execution_count": null,
   "metadata": {
    "ExecuteTime": {
     "end_time": "2018-12-11T18:16:59.698098Z",
     "start_time": "2018-12-11T18:16:59.690216Z"
    },
    "hidden": true
   },
   "outputs": [],
   "source": [
    "from xgboost.sklearn import XGBClassifier"
   ]
  },
  {
   "cell_type": "code",
   "execution_count": null,
   "metadata": {
    "ExecuteTime": {
     "end_time": "2018-12-11T18:17:20.010652Z",
     "start_time": "2018-12-11T18:17:20.006219Z"
    },
    "hidden": true
   },
   "outputs": [],
   "source": [
    "xgb = XGBClassifier(n_estimators=50)"
   ]
  },
  {
   "cell_type": "code",
   "execution_count": null,
   "metadata": {
    "ExecuteTime": {
     "end_time": "2018-12-11T18:22:45.155960Z",
     "start_time": "2018-12-11T18:17:38.690004Z"
    },
    "hidden": true
   },
   "outputs": [],
   "source": [
    "xgb.fit(X_train, y_train)"
   ]
  },
  {
   "cell_type": "code",
   "execution_count": null,
   "metadata": {
    "ExecuteTime": {
     "end_time": "2018-12-11T18:36:29.200518Z",
     "start_time": "2018-12-11T18:36:20.729153Z"
    },
    "hidden": true
   },
   "outputs": [],
   "source": [
    "rf.fit(X_train, y_train)"
   ]
  },
  {
   "cell_type": "code",
   "execution_count": null,
   "metadata": {
    "ExecuteTime": {
     "end_time": "2018-12-11T18:30:31.699285Z",
     "start_time": "2018-12-11T18:30:27.573962Z"
    },
    "hidden": true,
    "scrolled": true
   },
   "outputs": [],
   "source": [
    "xgb.score(X_valid, y_valid)"
   ]
  },
  {
   "cell_type": "code",
   "execution_count": null,
   "metadata": {
    "ExecuteTime": {
     "end_time": "2018-12-11T18:36:37.925971Z",
     "start_time": "2018-12-11T18:36:37.151513Z"
    },
    "hidden": true
   },
   "outputs": [],
   "source": [
    "m.score(X_valid, y_valid)"
   ]
  },
  {
   "cell_type": "code",
   "execution_count": null,
   "metadata": {
    "ExecuteTime": {
     "end_time": "2018-12-11T18:30:56.687845Z",
     "start_time": "2018-12-11T18:30:41.480748Z"
    },
    "hidden": true
   },
   "outputs": [],
   "source": [
    "preds_train_wd = format_preds_wd(xgb, X_train)\n",
    "preds_valid_wd = format_preds_wd(xgb, X_valid)"
   ]
  },
  {
   "cell_type": "code",
   "execution_count": null,
   "metadata": {
    "ExecuteTime": {
     "end_time": "2018-12-11T18:31:16.538736Z",
     "start_time": "2018-12-11T18:30:56.695171Z"
    },
    "hidden": true
   },
   "outputs": [],
   "source": [
    "scores_train = score_predictions_wd(preds_train_wd, y_train)"
   ]
  },
  {
   "cell_type": "code",
   "execution_count": null,
   "metadata": {
    "ExecuteTime": {
     "end_time": "2018-12-11T18:31:25.181783Z",
     "start_time": "2018-12-11T18:31:16.542545Z"
    },
    "hidden": true
   },
   "outputs": [],
   "source": [
    "scores_valid = score_predictions_wd(preds_valid_wd, y_valid)"
   ]
  },
  {
   "cell_type": "code",
   "execution_count": null,
   "metadata": {
    "ExecuteTime": {
     "end_time": "2018-12-11T18:37:54.459204Z",
     "start_time": "2018-12-11T18:37:42.732017Z"
    },
    "hidden": true
   },
   "outputs": [],
   "source": [
    "preds_xgb = xgb.predict_proba(X_train)\n",
    "preds_rf = rf.predict_proba(X_train)"
   ]
  },
  {
   "cell_type": "code",
   "execution_count": null,
   "metadata": {
    "ExecuteTime": {
     "end_time": "2018-12-11T18:40:35.503938Z",
     "start_time": "2018-12-11T18:40:35.478251Z"
    },
    "hidden": true
   },
   "outputs": [],
   "source": [
    "preds_xgb[1:10]"
   ]
  },
  {
   "cell_type": "code",
   "execution_count": null,
   "metadata": {
    "ExecuteTime": {
     "end_time": "2018-12-11T18:42:56.938996Z",
     "start_time": "2018-12-11T18:42:56.866637Z"
    },
    "hidden": true
   },
   "outputs": [],
   "source": [
    "preds_concat = np.hstack((preds_xgb, preds_rf))"
   ]
  },
  {
   "cell_type": "code",
   "execution_count": null,
   "metadata": {
    "ExecuteTime": {
     "end_time": "2018-12-11T18:43:25.262331Z",
     "start_time": "2018-12-11T18:43:25.245265Z"
    },
    "hidden": true
   },
   "outputs": [],
   "source": [
    "preds_xgb.shape, preds_rf.shape, preds_concat.shape"
   ]
  },
  {
   "cell_type": "code",
   "execution_count": null,
   "metadata": {
    "ExecuteTime": {
     "end_time": "2018-12-11T18:43:51.510465Z",
     "start_time": "2018-12-11T18:43:51.497922Z"
    },
    "hidden": true
   },
   "outputs": [],
   "source": [
    "gbm = GradientBoostingClassifier(n_estimators=50,\n",
    "                                 random_state=42)"
   ]
  },
  {
   "cell_type": "code",
   "execution_count": null,
   "metadata": {
    "ExecuteTime": {
     "end_time": "2018-12-11T18:54:53.545543Z",
     "start_time": "2018-12-11T18:44:07.763603Z"
    },
    "hidden": true
   },
   "outputs": [],
   "source": [
    "gbm.fit(preds_concat, y_train)"
   ]
  },
  {
   "cell_type": "markdown",
   "metadata": {
    "heading_collapsed": true
   },
   "source": [
    "### Interpretation"
   ]
  },
  {
   "cell_type": "markdown",
   "metadata": {
    "hidden": true
   },
   "source": [
    "#### Visualize feature importance"
   ]
  },
  {
   "cell_type": "markdown",
   "metadata": {
    "hidden": true
   },
   "source": [
    "#### Use learnings to optimize model"
   ]
  },
  {
   "cell_type": "markdown",
   "metadata": {},
   "source": [
    "### Final model"
   ]
  },
  {
   "cell_type": "markdown",
   "metadata": {},
   "source": [
    "#### Load and transform test data"
   ]
  },
  {
   "cell_type": "code",
   "execution_count": 77,
   "metadata": {
    "ExecuteTime": {
     "end_time": "2018-12-11T19:46:37.157569Z",
     "start_time": "2018-12-11T19:46:36.994000Z"
    }
   },
   "outputs": [],
   "source": [
    "test_users = pd.read_csv(DATA_PATH / \"test_users.csv\")"
   ]
  },
  {
   "cell_type": "code",
   "execution_count": 78,
   "metadata": {
    "ExecuteTime": {
     "end_time": "2018-12-11T19:46:47.429353Z",
     "start_time": "2018-12-11T19:46:47.065479Z"
    }
   },
   "outputs": [],
   "source": [
    "test_users = pd.merge(test_users, sessions_features, how=\"left\", on=\"id\")"
   ]
  },
  {
   "cell_type": "code",
   "execution_count": 80,
   "metadata": {
    "ExecuteTime": {
     "end_time": "2018-12-11T19:47:03.148982Z",
     "start_time": "2018-12-11T19:47:02.911965Z"
    }
   },
   "outputs": [],
   "source": [
    "test_df = test_users.drop([\"date_account_created\", \"date_first_booking\"], axis=1)\n",
    "test_df = test_df.set_index(\"id\")"
   ]
  },
  {
   "cell_type": "code",
   "execution_count": 81,
   "metadata": {
    "ExecuteTime": {
     "end_time": "2018-12-11T19:48:04.091820Z",
     "start_time": "2018-12-11T19:48:03.852664Z"
    }
   },
   "outputs": [],
   "source": [
    "test_df.age = test_df.age.fillna(-1)\n",
    "test_df.first_affiliate_tracked = test_df.age.fillna(\"unknown\")\n",
    "test_df.preferred_device = test_df.preferred_device.fillna(\"unknown\")\n",
    "test_df[session_numerics_to_fill] = test_df[session_numerics_to_fill].fillna(-1)"
   ]
  },
  {
   "cell_type": "code",
   "execution_count": 82,
   "metadata": {
    "ExecuteTime": {
     "end_time": "2018-12-11T19:48:14.000992Z",
     "start_time": "2018-12-11T19:48:13.914847Z"
    }
   },
   "outputs": [],
   "source": [
    "apply_categories(test_df, categories=cats)"
   ]
  },
  {
   "cell_type": "code",
   "execution_count": 83,
   "metadata": {
    "ExecuteTime": {
     "end_time": "2018-12-11T19:48:14.470561Z",
     "start_time": "2018-12-11T19:48:14.440210Z"
    }
   },
   "outputs": [
    {
     "data": {
      "text/html": [
       "<div>\n",
       "<style scoped>\n",
       "    .dataframe tbody tr th:only-of-type {\n",
       "        vertical-align: middle;\n",
       "    }\n",
       "\n",
       "    .dataframe tbody tr th {\n",
       "        vertical-align: top;\n",
       "    }\n",
       "\n",
       "    .dataframe thead th {\n",
       "        text-align: right;\n",
       "    }\n",
       "</style>\n",
       "<table border=\"1\" class=\"dataframe\">\n",
       "  <thead>\n",
       "    <tr style=\"text-align: right;\">\n",
       "      <th></th>\n",
       "      <th>timestamp_first_active</th>\n",
       "      <th>gender</th>\n",
       "      <th>age</th>\n",
       "      <th>signup_method</th>\n",
       "      <th>signup_flow</th>\n",
       "      <th>language</th>\n",
       "      <th>affiliate_channel</th>\n",
       "      <th>affiliate_provider</th>\n",
       "      <th>first_affiliate_tracked</th>\n",
       "      <th>signup_app</th>\n",
       "      <th>...</th>\n",
       "      <th>count_device_linux_desktop</th>\n",
       "      <th>count_device_mac_desktop</th>\n",
       "      <th>count_device_opera_phone</th>\n",
       "      <th>count_device_tablet</th>\n",
       "      <th>count_device_windows_desktop</th>\n",
       "      <th>count_device_windows_phone</th>\n",
       "      <th>count_device_ipad_tablet</th>\n",
       "      <th>count_device_iphone</th>\n",
       "      <th>count_device_ipodtouch</th>\n",
       "      <th>preferred_device</th>\n",
       "    </tr>\n",
       "    <tr>\n",
       "      <th>id</th>\n",
       "      <th></th>\n",
       "      <th></th>\n",
       "      <th></th>\n",
       "      <th></th>\n",
       "      <th></th>\n",
       "      <th></th>\n",
       "      <th></th>\n",
       "      <th></th>\n",
       "      <th></th>\n",
       "      <th></th>\n",
       "      <th></th>\n",
       "      <th></th>\n",
       "      <th></th>\n",
       "      <th></th>\n",
       "      <th></th>\n",
       "      <th></th>\n",
       "      <th></th>\n",
       "      <th></th>\n",
       "      <th></th>\n",
       "      <th></th>\n",
       "      <th></th>\n",
       "    </tr>\n",
       "  </thead>\n",
       "  <tbody>\n",
       "    <tr>\n",
       "      <th>5uwns89zht</th>\n",
       "      <td>20140701000006</td>\n",
       "      <td>-1</td>\n",
       "      <td>35.0</td>\n",
       "      <td>-1</td>\n",
       "      <td>0</td>\n",
       "      <td>-1</td>\n",
       "      <td>-1</td>\n",
       "      <td>-1</td>\n",
       "      <td>35.0</td>\n",
       "      <td>-1</td>\n",
       "      <td>...</td>\n",
       "      <td>-1.0</td>\n",
       "      <td>-1.0</td>\n",
       "      <td>-1.0</td>\n",
       "      <td>-1.0</td>\n",
       "      <td>-1.0</td>\n",
       "      <td>-1.0</td>\n",
       "      <td>-1.0</td>\n",
       "      <td>1.0</td>\n",
       "      <td>-1.0</td>\n",
       "      <td>-1</td>\n",
       "    </tr>\n",
       "    <tr>\n",
       "      <th>jtl0dijy2j</th>\n",
       "      <td>20140701000051</td>\n",
       "      <td>-1</td>\n",
       "      <td>-1.0</td>\n",
       "      <td>-1</td>\n",
       "      <td>0</td>\n",
       "      <td>-1</td>\n",
       "      <td>-1</td>\n",
       "      <td>-1</td>\n",
       "      <td>-1.0</td>\n",
       "      <td>-1</td>\n",
       "      <td>...</td>\n",
       "      <td>-1.0</td>\n",
       "      <td>-1.0</td>\n",
       "      <td>-1.0</td>\n",
       "      <td>-1.0</td>\n",
       "      <td>-1.0</td>\n",
       "      <td>-1.0</td>\n",
       "      <td>-1.0</td>\n",
       "      <td>9.0</td>\n",
       "      <td>-1.0</td>\n",
       "      <td>-1</td>\n",
       "    </tr>\n",
       "    <tr>\n",
       "      <th>xx0ulgorjt</th>\n",
       "      <td>20140701000148</td>\n",
       "      <td>-1</td>\n",
       "      <td>-1.0</td>\n",
       "      <td>-1</td>\n",
       "      <td>0</td>\n",
       "      <td>-1</td>\n",
       "      <td>-1</td>\n",
       "      <td>-1</td>\n",
       "      <td>-1.0</td>\n",
       "      <td>-1</td>\n",
       "      <td>...</td>\n",
       "      <td>-1.0</td>\n",
       "      <td>-1.0</td>\n",
       "      <td>-1.0</td>\n",
       "      <td>-1.0</td>\n",
       "      <td>58.0</td>\n",
       "      <td>-1.0</td>\n",
       "      <td>-1.0</td>\n",
       "      <td>-1.0</td>\n",
       "      <td>-1.0</td>\n",
       "      <td>-1</td>\n",
       "    </tr>\n",
       "    <tr>\n",
       "      <th>6c6puo6ix0</th>\n",
       "      <td>20140701000215</td>\n",
       "      <td>-1</td>\n",
       "      <td>-1.0</td>\n",
       "      <td>-1</td>\n",
       "      <td>0</td>\n",
       "      <td>-1</td>\n",
       "      <td>-1</td>\n",
       "      <td>-1</td>\n",
       "      <td>-1.0</td>\n",
       "      <td>-1</td>\n",
       "      <td>...</td>\n",
       "      <td>-1.0</td>\n",
       "      <td>-1.0</td>\n",
       "      <td>-1.0</td>\n",
       "      <td>-1.0</td>\n",
       "      <td>11.0</td>\n",
       "      <td>-1.0</td>\n",
       "      <td>-1.0</td>\n",
       "      <td>-1.0</td>\n",
       "      <td>-1.0</td>\n",
       "      <td>-1</td>\n",
       "    </tr>\n",
       "    <tr>\n",
       "      <th>czqhjk3yfe</th>\n",
       "      <td>20140701000305</td>\n",
       "      <td>-1</td>\n",
       "      <td>-1.0</td>\n",
       "      <td>-1</td>\n",
       "      <td>0</td>\n",
       "      <td>-1</td>\n",
       "      <td>-1</td>\n",
       "      <td>-1</td>\n",
       "      <td>-1.0</td>\n",
       "      <td>-1</td>\n",
       "      <td>...</td>\n",
       "      <td>-1.0</td>\n",
       "      <td>19.0</td>\n",
       "      <td>-1.0</td>\n",
       "      <td>-1.0</td>\n",
       "      <td>-1.0</td>\n",
       "      <td>-1.0</td>\n",
       "      <td>-1.0</td>\n",
       "      <td>-1.0</td>\n",
       "      <td>-1.0</td>\n",
       "      <td>-1</td>\n",
       "    </tr>\n",
       "  </tbody>\n",
       "</table>\n",
       "<p>5 rows × 80 columns</p>\n",
       "</div>"
      ],
      "text/plain": [
       "            timestamp_first_active  gender   age  signup_method  signup_flow  \\\n",
       "id                                                                             \n",
       "5uwns89zht          20140701000006      -1  35.0             -1            0   \n",
       "jtl0dijy2j          20140701000051      -1  -1.0             -1            0   \n",
       "xx0ulgorjt          20140701000148      -1  -1.0             -1            0   \n",
       "6c6puo6ix0          20140701000215      -1  -1.0             -1            0   \n",
       "czqhjk3yfe          20140701000305      -1  -1.0             -1            0   \n",
       "\n",
       "            language  affiliate_channel  affiliate_provider  \\\n",
       "id                                                            \n",
       "5uwns89zht        -1                 -1                  -1   \n",
       "jtl0dijy2j        -1                 -1                  -1   \n",
       "xx0ulgorjt        -1                 -1                  -1   \n",
       "6c6puo6ix0        -1                 -1                  -1   \n",
       "czqhjk3yfe        -1                 -1                  -1   \n",
       "\n",
       "            first_affiliate_tracked  signup_app        ...         \\\n",
       "id                                                     ...          \n",
       "5uwns89zht                     35.0          -1        ...          \n",
       "jtl0dijy2j                     -1.0          -1        ...          \n",
       "xx0ulgorjt                     -1.0          -1        ...          \n",
       "6c6puo6ix0                     -1.0          -1        ...          \n",
       "czqhjk3yfe                     -1.0          -1        ...          \n",
       "\n",
       "            count_device_linux_desktop  count_device_mac_desktop  \\\n",
       "id                                                                 \n",
       "5uwns89zht                        -1.0                      -1.0   \n",
       "jtl0dijy2j                        -1.0                      -1.0   \n",
       "xx0ulgorjt                        -1.0                      -1.0   \n",
       "6c6puo6ix0                        -1.0                      -1.0   \n",
       "czqhjk3yfe                        -1.0                      19.0   \n",
       "\n",
       "            count_device_opera_phone  count_device_tablet  \\\n",
       "id                                                          \n",
       "5uwns89zht                      -1.0                 -1.0   \n",
       "jtl0dijy2j                      -1.0                 -1.0   \n",
       "xx0ulgorjt                      -1.0                 -1.0   \n",
       "6c6puo6ix0                      -1.0                 -1.0   \n",
       "czqhjk3yfe                      -1.0                 -1.0   \n",
       "\n",
       "            count_device_windows_desktop  count_device_windows_phone  \\\n",
       "id                                                                     \n",
       "5uwns89zht                          -1.0                        -1.0   \n",
       "jtl0dijy2j                          -1.0                        -1.0   \n",
       "xx0ulgorjt                          58.0                        -1.0   \n",
       "6c6puo6ix0                          11.0                        -1.0   \n",
       "czqhjk3yfe                          -1.0                        -1.0   \n",
       "\n",
       "            count_device_ipad_tablet  count_device_iphone  \\\n",
       "id                                                          \n",
       "5uwns89zht                      -1.0                  1.0   \n",
       "jtl0dijy2j                      -1.0                  9.0   \n",
       "xx0ulgorjt                      -1.0                 -1.0   \n",
       "6c6puo6ix0                      -1.0                 -1.0   \n",
       "czqhjk3yfe                      -1.0                 -1.0   \n",
       "\n",
       "            count_device_ipodtouch  preferred_device  \n",
       "id                                                    \n",
       "5uwns89zht                    -1.0                -1  \n",
       "jtl0dijy2j                    -1.0                -1  \n",
       "xx0ulgorjt                    -1.0                -1  \n",
       "6c6puo6ix0                    -1.0                -1  \n",
       "czqhjk3yfe                    -1.0                -1  \n",
       "\n",
       "[5 rows x 80 columns]"
      ]
     },
     "execution_count": 83,
     "metadata": {},
     "output_type": "execute_result"
    }
   ],
   "source": [
    "test_df.head()"
   ]
  },
  {
   "cell_type": "markdown",
   "metadata": {},
   "source": [
    "#### Make predictions and save for submission"
   ]
  },
  {
   "cell_type": "code",
   "execution_count": 84,
   "metadata": {
    "ExecuteTime": {
     "end_time": "2018-12-11T19:48:28.813107Z",
     "start_time": "2018-12-11T19:48:28.805825Z"
    }
   },
   "outputs": [],
   "source": [
    "mapper_country_destination = {i : c for i, c in enumerate(cats[\"country_destination\"])}"
   ]
  },
  {
   "cell_type": "code",
   "execution_count": 86,
   "metadata": {
    "ExecuteTime": {
     "end_time": "2018-12-11T19:50:07.231423Z",
     "start_time": "2018-12-11T19:50:06.100026Z"
    }
   },
   "outputs": [],
   "source": [
    "test_preds = format_preds_lng(m, test_df, mapper=mapper_country_destination)"
   ]
  },
  {
   "cell_type": "code",
   "execution_count": 87,
   "metadata": {
    "ExecuteTime": {
     "end_time": "2018-12-11T19:50:08.171177Z",
     "start_time": "2018-12-11T19:50:08.157484Z"
    }
   },
   "outputs": [
    {
     "data": {
      "text/html": [
       "<div>\n",
       "<style scoped>\n",
       "    .dataframe tbody tr th:only-of-type {\n",
       "        vertical-align: middle;\n",
       "    }\n",
       "\n",
       "    .dataframe tbody tr th {\n",
       "        vertical-align: top;\n",
       "    }\n",
       "\n",
       "    .dataframe thead th {\n",
       "        text-align: right;\n",
       "    }\n",
       "</style>\n",
       "<table border=\"1\" class=\"dataframe\">\n",
       "  <thead>\n",
       "    <tr style=\"text-align: right;\">\n",
       "      <th></th>\n",
       "      <th>id</th>\n",
       "      <th>country</th>\n",
       "    </tr>\n",
       "  </thead>\n",
       "  <tbody>\n",
       "    <tr>\n",
       "      <th>25245</th>\n",
       "      <td>0010k6l0om</td>\n",
       "      <td>NDF</td>\n",
       "    </tr>\n",
       "    <tr>\n",
       "      <th>87341</th>\n",
       "      <td>0010k6l0om</td>\n",
       "      <td>US</td>\n",
       "    </tr>\n",
       "    <tr>\n",
       "      <th>149437</th>\n",
       "      <td>0010k6l0om</td>\n",
       "      <td>other</td>\n",
       "    </tr>\n",
       "    <tr>\n",
       "      <th>211533</th>\n",
       "      <td>0010k6l0om</td>\n",
       "      <td>FR</td>\n",
       "    </tr>\n",
       "    <tr>\n",
       "      <th>273629</th>\n",
       "      <td>0010k6l0om</td>\n",
       "      <td>IT</td>\n",
       "    </tr>\n",
       "    <tr>\n",
       "      <th>55494</th>\n",
       "      <td>0031awlkjq</td>\n",
       "      <td>NDF</td>\n",
       "    </tr>\n",
       "    <tr>\n",
       "      <th>117590</th>\n",
       "      <td>0031awlkjq</td>\n",
       "      <td>US</td>\n",
       "    </tr>\n",
       "    <tr>\n",
       "      <th>179686</th>\n",
       "      <td>0031awlkjq</td>\n",
       "      <td>other</td>\n",
       "    </tr>\n",
       "    <tr>\n",
       "      <th>241782</th>\n",
       "      <td>0031awlkjq</td>\n",
       "      <td>GB</td>\n",
       "    </tr>\n",
       "    <tr>\n",
       "      <th>303878</th>\n",
       "      <td>0031awlkjq</td>\n",
       "      <td>IT</td>\n",
       "    </tr>\n",
       "  </tbody>\n",
       "</table>\n",
       "</div>"
      ],
      "text/plain": [
       "                id country\n",
       "25245   0010k6l0om     NDF\n",
       "87341   0010k6l0om      US\n",
       "149437  0010k6l0om   other\n",
       "211533  0010k6l0om      FR\n",
       "273629  0010k6l0om      IT\n",
       "55494   0031awlkjq     NDF\n",
       "117590  0031awlkjq      US\n",
       "179686  0031awlkjq   other\n",
       "241782  0031awlkjq      GB\n",
       "303878  0031awlkjq      IT"
      ]
     },
     "execution_count": 87,
     "metadata": {},
     "output_type": "execute_result"
    }
   ],
   "source": [
    "test_preds.head(10)"
   ]
  },
  {
   "cell_type": "code",
   "execution_count": 88,
   "metadata": {
    "ExecuteTime": {
     "end_time": "2018-12-11T19:50:29.679143Z",
     "start_time": "2018-12-11T19:50:29.673994Z"
    }
   },
   "outputs": [],
   "source": [
    "OUTPUT_PATH = Path.cwd() / \"submission\"\n",
    "\n",
    "if not OUTPUT_PATH.is_dir():\n",
    "    OUTPUT_PATH.mkdir()"
   ]
  },
  {
   "cell_type": "code",
   "execution_count": 89,
   "metadata": {
    "ExecuteTime": {
     "end_time": "2018-12-11T19:50:35.528120Z",
     "start_time": "2018-12-11T19:50:35.524512Z"
    }
   },
   "outputs": [],
   "source": [
    "SUBMISSION_NAME = \"sub_v8_show_case.csv\""
   ]
  },
  {
   "cell_type": "code",
   "execution_count": 90,
   "metadata": {
    "ExecuteTime": {
     "end_time": "2018-12-11T19:50:47.910540Z",
     "start_time": "2018-12-11T19:50:47.557677Z"
    }
   },
   "outputs": [],
   "source": [
    "test_preds.to_csv(OUTPUT_PATH / SUBMISSION_NAME, index=False)"
   ]
  }
 ],
 "metadata": {
  "kernelspec": {
   "display_name": "Python 3",
   "language": "python",
   "name": "python3"
  },
  "language_info": {
   "codemirror_mode": {
    "name": "ipython",
    "version": 3
   },
   "file_extension": ".py",
   "mimetype": "text/x-python",
   "name": "python",
   "nbconvert_exporter": "python",
   "pygments_lexer": "ipython3",
   "version": "3.6.7"
  },
  "toc": {
   "base_numbering": 1,
   "nav_menu": {},
   "number_sections": true,
   "sideBar": true,
   "skip_h1_title": false,
   "title_cell": "Table of Contents",
   "title_sidebar": "Contents",
   "toc_cell": false,
   "toc_position": {},
   "toc_section_display": true,
   "toc_window_display": false
  }
 },
 "nbformat": 4,
 "nbformat_minor": 2
}
