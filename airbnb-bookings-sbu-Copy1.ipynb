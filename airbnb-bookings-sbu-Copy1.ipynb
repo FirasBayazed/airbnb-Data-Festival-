{
 "cells": [
  {
   "cell_type": "markdown",
   "metadata": {},
   "source": [
    "### Preamble"
   ]
  },
  {
   "cell_type": "markdown",
   "metadata": {},
   "source": [
    "This notebook contains work on a [kaggle competition](https://www.kaggle.com/c/airbnb-recruiting-new-user-bookings) sponsored by AirBnB and aimed at predicting in which country a new user will make their first booking in. This competition was run for recruitment purposes a few years ago and provides a very nice example of a real-life data science challenge."
   ]
  },
  {
   "cell_type": "markdown",
   "metadata": {},
   "source": [
    "### Imports and helpers"
   ]
  },
  {
   "cell_type": "code",
   "execution_count": 34,
   "metadata": {
    "ExecuteTime": {
     "end_time": "2019-03-07T22:43:08.608080Z",
     "start_time": "2019-03-07T22:43:08.525095Z"
    }
   },
   "outputs": [],
   "source": [
    "# General\n",
    "from pathlib import Path\n",
    "import os\n",
    "from functools import partial\n",
    "import matplotlib.pyplot as plt\n",
    "\n",
    "# Machine learning\n",
    "from sklearn.ensemble import RandomForestClassifier\n",
    "from sklearn.ensemble import GradientBoostingClassifier\n",
    "\n",
    "#plt.rcParams['figure.figsize'] = (15, 5)\n",
    "\n",
    "\n",
    "\n",
    "%matplotlib inline\n",
    "\n",
    "import numpy as np\n",
    "import pandas as pd\n",
    "\n",
    "import seaborn as sns\n",
    "import datetime\n",
    "\n",
    "# Set figure aesthetics\n",
    "sns.set_style(\"white\", {'ytick.major.size': 10.0})\n",
    "sns.set_context(\"poster\", font_scale=1.1)"
   ]
  },
  {
   "cell_type": "code",
   "execution_count": 3,
   "metadata": {
    "ExecuteTime": {
     "end_time": "2019-03-07T19:53:35.715678Z",
     "start_time": "2019-03-07T19:53:35.710421Z"
    }
   },
   "outputs": [],
   "source": [
    "def display_all(df):\n",
    "    with pd.option_context(\"display.max_rows\", 1000, \"display.max_columns\", 1000): \n",
    "        display(df)"
   ]
  },
  {
   "cell_type": "code",
   "execution_count": 4,
   "metadata": {
    "ExecuteTime": {
     "end_time": "2019-03-07T19:53:36.612955Z",
     "start_time": "2019-03-07T19:53:36.599436Z"
    }
   },
   "outputs": [],
   "source": [
    "from pandas.api.types import is_string_dtype\n",
    "\n",
    "def make_categorical(df):\n",
    "    \n",
    "    categories = {}\n",
    "\n",
    "    for c in df.columns:\n",
    "\n",
    "        if is_string_dtype(df[c]):\n",
    "            df[c] = df[c].astype(\"category\").cat.as_ordered()\n",
    "            categories[c] = df[c].cat.categories\n",
    "            df[c] = df[c].cat.codes\n",
    "            \n",
    "    return df, categories"
   ]
  },
  {
   "cell_type": "code",
   "execution_count": 5,
   "metadata": {
    "ExecuteTime": {
     "end_time": "2019-03-07T19:53:37.598902Z",
     "start_time": "2019-03-07T19:53:37.592029Z"
    }
   },
   "outputs": [],
   "source": [
    "def apply_categories(df, categories):\n",
    "    \n",
    "    for c in df.columns:\n",
    "        \n",
    "        if is_string_dtype(df[c]):\n",
    "            df[c] = pd.Categorical(df[c], categories=categories, ordered=True)\n",
    "            df[c] = df[c].cat.codes"
   ]
  },
  {
   "cell_type": "markdown",
   "metadata": {},
   "source": [
    "This implementation of the evaluation metric described on the [competition homepage](https://www.kaggle.com/c/airbnb-recruiting-new-user-bookings#evaluation) is based on work shared in the [competition discussion](https://www.kaggle.com/wendykan/ndcg-example)."
   ]
  },
  {
   "cell_type": "code",
   "execution_count": 6,
   "metadata": {
    "ExecuteTime": {
     "end_time": "2019-03-07T19:53:39.245467Z",
     "start_time": "2019-03-07T19:53:39.212132Z"
    }
   },
   "outputs": [],
   "source": [
    "def dcg_at_k(r, k, method=1):\n",
    "    \"\"\"Score is discounted cumulative gain (dcg)\n",
    "    Relevance is positive real values.  Can use binary\n",
    "    as the previous methods.\n",
    "    Example from\n",
    "    http://www.stanford.edu/class/cs276/handouts/EvaluationNew-handout-6-per.pdf\n",
    "    >>> r = [3, 2, 3, 0, 0, 1, 2, 2, 3, 0]\n",
    "    >>> dcg_at_k(r, 1)\n",
    "    3.0\n",
    "    >>> dcg_at_k(r, 1, method=1)\n",
    "    3.0\n",
    "    >>> dcg_at_k(r, 2)\n",
    "    5.0\n",
    "    >>> dcg_at_k(r, 2, method=1)\n",
    "    4.2618595071429155\n",
    "    >>> dcg_at_k(r, 10)\n",
    "    9.6051177391888114\n",
    "    >>> dcg_at_k(r, 11)\n",
    "    9.6051177391888114\n",
    "    Args:\n",
    "        r: Relevance scores (list or numpy) in rank order\n",
    "            (first element is the first item)\n",
    "        k: Number of results to consider\n",
    "        method: If 0 then weights are [1.0, 1.0, 0.6309, 0.5, 0.4307, ...]\n",
    "                If 1 then weights are [1.0, 0.6309, 0.5, 0.4307, ...]\n",
    "    Returns:\n",
    "        Discounted cumulative gain\n",
    "    \"\"\"\n",
    "    r = np.asfarray(r)[:k]\n",
    "    if r.size:\n",
    "        if method == 0:\n",
    "            return r[0] + np.sum(r[1:] / np.log2(np.arange(2, r.size + 1)))\n",
    "        elif method == 1:\n",
    "            return np.sum(r / np.log2(np.arange(2, r.size + 2)))\n",
    "        else:\n",
    "            raise ValueError(\"method must be 0 or 1.\")\n",
    "    return 0.\n",
    "\n",
    "\n",
    "def ndcg_at_k(r, k, method=1):\n",
    "    \"\"\"Score is normalized discounted cumulative gain (ndcg)\n",
    "    Relevance is positive real values.  Can use binary\n",
    "    as the previous methods.\n",
    "    Example from\n",
    "    http://www.stanford.edu/class/cs276/handouts/EvaluationNew-handout-6-per.pdf\n",
    "    >>> r = [3, 2, 3, 0, 0, 1, 2, 2, 3, 0]\n",
    "    >>> ndcg_at_k(r, 1)\n",
    "    1.0\n",
    "    >>> r = [2, 1, 2, 0]\n",
    "    >>> ndcg_at_k(r, 4)\n",
    "    0.9203032077642922\n",
    "    >>> ndcg_at_k(r, 4, method=1)\n",
    "    0.96519546960144276\n",
    "    >>> ndcg_at_k([0], 1)\n",
    "    0.0\n",
    "    >>> ndcg_at_k([1], 2)\n",
    "    1.0\n",
    "    Args:\n",
    "        r: Relevance scores (list or numpy) in rank order\n",
    "            (first element is the first item)\n",
    "        k: Number of results to consider\n",
    "        method: If 0 then weights are [1.0, 1.0, 0.6309, 0.5, 0.4307, ...]\n",
    "                If 1 then weights are [1.0, 0.6309, 0.5, 0.4307, ...]\n",
    "    Returns:\n",
    "        Normalized discounted cumulative gain\n",
    "    \"\"\"\n",
    "    dcg_max = dcg_at_k(sorted(r, reverse=True), k, method)\n",
    "    if not dcg_max:\n",
    "        return 0.\n",
    "    return dcg_at_k(r, k, method) / dcg_max"
   ]
  },
  {
   "cell_type": "code",
   "execution_count": 7,
   "metadata": {
    "ExecuteTime": {
     "end_time": "2019-03-07T19:53:39.937330Z",
     "start_time": "2019-03-07T19:53:39.927688Z"
    }
   },
   "outputs": [],
   "source": [
    "def format_preds_wd(m, X, index_col=False):\n",
    "    \"\"\" Get top five class codes in wide format ordered by probability from left to right\n",
    "    m : A fitted sklearn model implementing predict_proba\n",
    "    X : Feature matrix\n",
    "    \"\"\"\n",
    "    \n",
    "    probs = m.predict_proba(X)\n",
    "    res = pd.DataFrame(probs.argsort()[:, -5:][:, ::-1])\n",
    "    if index_col:\n",
    "        res[\"id\"] = X.index\n",
    "    else:\n",
    "        res = res.set_index(X.index)\n",
    "    return res"
   ]
  },
  {
   "cell_type": "code",
   "execution_count": 8,
   "metadata": {
    "ExecuteTime": {
     "end_time": "2019-03-07T19:53:40.699222Z",
     "start_time": "2019-03-07T19:53:40.693206Z"
    }
   },
   "outputs": [],
   "source": [
    "def format_preds_lng(m, X, mapper=None):\n",
    "    res = pd.melt(format_preds_wd(m, X, index_col=True), id_vars=\"id\", value_name=\"country\").sort_values(by=[\"id\", \"variable\"]).drop(\"variable\", axis=1)\n",
    "    if mapper: res.country = res.country.map(mapper)\n",
    "    return res"
   ]
  },
  {
   "cell_type": "code",
   "execution_count": 9,
   "metadata": {
    "ExecuteTime": {
     "end_time": "2019-03-07T19:53:41.807727Z",
     "start_time": "2019-03-07T19:53:41.789962Z"
    }
   },
   "outputs": [],
   "source": [
    "def score_predictions_wd(preds, y_true, k=5):\n",
    "    \"\"\"\n",
    "    preds: pd.DataFrame\n",
    "      one row for each observation, one column for each prediction.\n",
    "      Columns are sorted from left to right descending in order of likelihood.\n",
    "    truth: pd.Series\n",
    "      one row for each observation.\n",
    "    \"\"\"\n",
    "    assert(len(preds)==len(y_true))\n",
    "    r = pd.DataFrame(0, index=preds.index, columns=preds.columns, dtype=np.float64)\n",
    "    for col in preds.columns:\n",
    "        r[col] = (preds[col] == y_true) * 1.0\n",
    "\n",
    "    score = pd.Series(r.apply(partial(ndcg_at_k, k=k), axis=1, result_type=\"reduce\"), name=\"score\")\n",
    "    print(f\"Average NDCG at {k}: {score.mean():.4f}\")\n",
    "    return score"
   ]
  },
  {
   "cell_type": "markdown",
   "metadata": {},
   "source": [
    "### Data preprocessing"
   ]
  },
  {
   "cell_type": "markdown",
   "metadata": {},
   "source": [
    "#### Read in the available data and check out what we have"
   ]
  },
  {
   "cell_type": "markdown",
   "metadata": {},
   "source": [
    "##### Users"
   ]
  },
  {
   "cell_type": "markdown",
   "metadata": {},
   "source": [
    "The `users` table is the main data source we have. There is one entry for each unique user. We have data on a total of `213.451 users` available for training. The test set contains `62.096` rows.  The users table provides basic information for each user as well as the target for our prediction task, the `country_destination` column.\n",
    "\n",
    "Our target has 12 possible values: `'NDF', 'US', 'other', 'FR', 'CA', 'GB', 'ES', 'IT', 'PT', 'NL', 'DE', 'AU'`.\n",
    "\n",
    "Among these, there are two special values:\n",
    "\n",
    "- `NDF` - no destination found, i.e. no booking took place yet\n",
    "- `other` - the user booked, but not in one of the 10 main countries"
   ]
  },
  {
   "cell_type": "code",
   "execution_count": 10,
   "metadata": {
    "ExecuteTime": {
     "end_time": "2019-03-07T19:53:48.433593Z",
     "start_time": "2019-03-07T19:53:48.429950Z"
    }
   },
   "outputs": [],
   "source": [
    "# define the path to the folder data\n",
    "DATA_PATH = Path.cwd() / \"data\""
   ]
  },
  {
   "cell_type": "code",
   "execution_count": 27,
   "metadata": {
    "ExecuteTime": {
     "end_time": "2019-03-07T21:44:39.620058Z",
     "start_time": "2019-03-07T21:44:38.829061Z"
    }
   },
   "outputs": [],
   "source": [
    "# load the train dataset\n",
    "train_users = pd.read_csv(DATA_PATH / \"train_users_2.csv\")"
   ]
  },
  {
   "cell_type": "code",
   "execution_count": 12,
   "metadata": {
    "ExecuteTime": {
     "end_time": "2019-03-07T21:40:36.084295Z",
     "start_time": "2019-03-07T21:40:35.998368Z"
    }
   },
   "outputs": [
    {
     "data": {
      "text/html": [
       "<div>\n",
       "<style scoped>\n",
       "    .dataframe tbody tr th:only-of-type {\n",
       "        vertical-align: middle;\n",
       "    }\n",
       "\n",
       "    .dataframe tbody tr th {\n",
       "        vertical-align: top;\n",
       "    }\n",
       "\n",
       "    .dataframe thead th {\n",
       "        text-align: right;\n",
       "    }\n",
       "</style>\n",
       "<table border=\"1\" class=\"dataframe\">\n",
       "  <thead>\n",
       "    <tr style=\"text-align: right;\">\n",
       "      <th></th>\n",
       "      <th>id</th>\n",
       "      <th>date_account_created</th>\n",
       "      <th>timestamp_first_active</th>\n",
       "      <th>date_first_booking</th>\n",
       "      <th>gender</th>\n",
       "      <th>age</th>\n",
       "      <th>signup_method</th>\n",
       "      <th>signup_flow</th>\n",
       "      <th>language</th>\n",
       "      <th>affiliate_channel</th>\n",
       "      <th>affiliate_provider</th>\n",
       "      <th>first_affiliate_tracked</th>\n",
       "      <th>signup_app</th>\n",
       "      <th>first_device_type</th>\n",
       "      <th>first_browser</th>\n",
       "      <th>country_destination</th>\n",
       "    </tr>\n",
       "  </thead>\n",
       "  <tbody>\n",
       "    <tr>\n",
       "      <th>0</th>\n",
       "      <td>gxn3p5htnn</td>\n",
       "      <td>2010-06-28</td>\n",
       "      <td>20090319043255</td>\n",
       "      <td>NaN</td>\n",
       "      <td>-unknown-</td>\n",
       "      <td>NaN</td>\n",
       "      <td>facebook</td>\n",
       "      <td>0</td>\n",
       "      <td>en</td>\n",
       "      <td>direct</td>\n",
       "      <td>direct</td>\n",
       "      <td>untracked</td>\n",
       "      <td>Web</td>\n",
       "      <td>Mac Desktop</td>\n",
       "      <td>Chrome</td>\n",
       "      <td>NDF</td>\n",
       "    </tr>\n",
       "    <tr>\n",
       "      <th>1</th>\n",
       "      <td>820tgsjxq7</td>\n",
       "      <td>2011-05-25</td>\n",
       "      <td>20090523174809</td>\n",
       "      <td>NaN</td>\n",
       "      <td>MALE</td>\n",
       "      <td>38.0</td>\n",
       "      <td>facebook</td>\n",
       "      <td>0</td>\n",
       "      <td>en</td>\n",
       "      <td>seo</td>\n",
       "      <td>google</td>\n",
       "      <td>untracked</td>\n",
       "      <td>Web</td>\n",
       "      <td>Mac Desktop</td>\n",
       "      <td>Chrome</td>\n",
       "      <td>NDF</td>\n",
       "    </tr>\n",
       "    <tr>\n",
       "      <th>2</th>\n",
       "      <td>4ft3gnwmtx</td>\n",
       "      <td>2010-09-28</td>\n",
       "      <td>20090609231247</td>\n",
       "      <td>2010-08-02</td>\n",
       "      <td>FEMALE</td>\n",
       "      <td>56.0</td>\n",
       "      <td>basic</td>\n",
       "      <td>3</td>\n",
       "      <td>en</td>\n",
       "      <td>direct</td>\n",
       "      <td>direct</td>\n",
       "      <td>untracked</td>\n",
       "      <td>Web</td>\n",
       "      <td>Windows Desktop</td>\n",
       "      <td>IE</td>\n",
       "      <td>US</td>\n",
       "    </tr>\n",
       "    <tr>\n",
       "      <th>3</th>\n",
       "      <td>bjjt8pjhuk</td>\n",
       "      <td>2011-12-05</td>\n",
       "      <td>20091031060129</td>\n",
       "      <td>2012-09-08</td>\n",
       "      <td>FEMALE</td>\n",
       "      <td>42.0</td>\n",
       "      <td>facebook</td>\n",
       "      <td>0</td>\n",
       "      <td>en</td>\n",
       "      <td>direct</td>\n",
       "      <td>direct</td>\n",
       "      <td>untracked</td>\n",
       "      <td>Web</td>\n",
       "      <td>Mac Desktop</td>\n",
       "      <td>Firefox</td>\n",
       "      <td>other</td>\n",
       "    </tr>\n",
       "    <tr>\n",
       "      <th>4</th>\n",
       "      <td>87mebub9p4</td>\n",
       "      <td>2010-09-14</td>\n",
       "      <td>20091208061105</td>\n",
       "      <td>2010-02-18</td>\n",
       "      <td>-unknown-</td>\n",
       "      <td>41.0</td>\n",
       "      <td>basic</td>\n",
       "      <td>0</td>\n",
       "      <td>en</td>\n",
       "      <td>direct</td>\n",
       "      <td>direct</td>\n",
       "      <td>untracked</td>\n",
       "      <td>Web</td>\n",
       "      <td>Mac Desktop</td>\n",
       "      <td>Chrome</td>\n",
       "      <td>US</td>\n",
       "    </tr>\n",
       "  </tbody>\n",
       "</table>\n",
       "</div>"
      ],
      "text/plain": [
       "           id date_account_created  timestamp_first_active date_first_booking  \\\n",
       "0  gxn3p5htnn           2010-06-28          20090319043255                NaN   \n",
       "1  820tgsjxq7           2011-05-25          20090523174809                NaN   \n",
       "2  4ft3gnwmtx           2010-09-28          20090609231247         2010-08-02   \n",
       "3  bjjt8pjhuk           2011-12-05          20091031060129         2012-09-08   \n",
       "4  87mebub9p4           2010-09-14          20091208061105         2010-02-18   \n",
       "\n",
       "      gender   age signup_method  signup_flow language affiliate_channel  \\\n",
       "0  -unknown-   NaN      facebook            0       en            direct   \n",
       "1       MALE  38.0      facebook            0       en               seo   \n",
       "2     FEMALE  56.0         basic            3       en            direct   \n",
       "3     FEMALE  42.0      facebook            0       en            direct   \n",
       "4  -unknown-  41.0         basic            0       en            direct   \n",
       "\n",
       "  affiliate_provider first_affiliate_tracked signup_app first_device_type  \\\n",
       "0             direct               untracked        Web       Mac Desktop   \n",
       "1             google               untracked        Web       Mac Desktop   \n",
       "2             direct               untracked        Web   Windows Desktop   \n",
       "3             direct               untracked        Web       Mac Desktop   \n",
       "4             direct               untracked        Web       Mac Desktop   \n",
       "\n",
       "  first_browser country_destination  \n",
       "0        Chrome                 NDF  \n",
       "1        Chrome                 NDF  \n",
       "2            IE                  US  \n",
       "3       Firefox               other  \n",
       "4        Chrome                  US  "
      ]
     },
     "execution_count": 12,
     "metadata": {},
     "output_type": "execute_result"
    }
   ],
   "source": [
    "train_users.head()"
   ]
  },
  {
   "cell_type": "code",
   "execution_count": 13,
   "metadata": {
    "ExecuteTime": {
     "end_time": "2019-03-07T21:40:40.659526Z",
     "start_time": "2019-03-07T21:40:40.649011Z"
    }
   },
   "outputs": [
    {
     "data": {
      "text/plain": [
       "(213451, 16)"
      ]
     },
     "execution_count": 13,
     "metadata": {},
     "output_type": "execute_result"
    }
   ],
   "source": [
    "train_users.shape"
   ]
  },
  {
   "cell_type": "code",
   "execution_count": 14,
   "metadata": {
    "ExecuteTime": {
     "end_time": "2019-03-07T21:40:46.802572Z",
     "start_time": "2019-03-07T21:40:46.540390Z"
    }
   },
   "outputs": [
    {
     "name": "stdout",
     "output_type": "stream",
     "text": [
      "date_first_booking         124543\n",
      "age                         87990\n",
      "first_affiliate_tracked      6065\n",
      "dtype: int64\n"
     ]
    }
   ],
   "source": [
    "null_columns = train_users.columns[train_users.isnull().any()]\n",
    "print(train_users[null_columns].isnull().sum())"
   ]
  },
  {
   "cell_type": "code",
   "execution_count": 15,
   "metadata": {
    "ExecuteTime": {
     "end_time": "2019-03-07T21:40:50.586507Z",
     "start_time": "2019-03-07T21:40:49.779967Z"
    }
   },
   "outputs": [
    {
     "data": {
      "text/plain": [
       "<matplotlib.axes._subplots.AxesSubplot at 0x1186dbc88>"
      ]
     },
     "execution_count": 15,
     "metadata": {},
     "output_type": "execute_result"
    },
    {
     "data": {
      "image/png": "[encoded data removed]",
      "text/plain": [
       "<matplotlib.figure.Figure at 0x115e9e748>"
      ]
     },
     "metadata": {},
     "output_type": "display_data"
    }
   ],
   "source": [
    "train_users['timestamp_first_active'].hist(bins=10)"
   ]
  },
  {
   "cell_type": "code",
   "execution_count": 16,
   "metadata": {
    "ExecuteTime": {
     "end_time": "2019-03-07T21:41:03.371912Z",
     "start_time": "2019-03-07T21:40:58.702491Z"
    }
   },
   "outputs": [
    {
     "data": {
      "text/plain": [
       "<matplotlib.axes._subplots.AxesSubplot at 0x1186db710>"
      ]
     },
     "execution_count": 16,
     "metadata": {},
     "output_type": "execute_result"
    },
    {
     "data": {
      "image/png": "[encoded data removed]",
      "text/plain": [
       "<matplotlib.figure.Figure at 0x118a33320>"
      ]
     },
     "metadata": {},
     "output_type": "display_data"
    }
   ],
   "source": [
    "train_users.gender.hist()"
   ]
  },
  {
   "cell_type": "code",
   "execution_count": 17,
   "metadata": {
    "ExecuteTime": {
     "end_time": "2019-03-07T21:41:08.622604Z",
     "start_time": "2019-03-07T21:41:08.307228Z"
    },
    "scrolled": true
   },
   "outputs": [
    {
     "data": {
      "text/html": [
       "<div>\n",
       "<style scoped>\n",
       "    .dataframe tbody tr th:only-of-type {\n",
       "        vertical-align: middle;\n",
       "    }\n",
       "\n",
       "    .dataframe tbody tr th {\n",
       "        vertical-align: top;\n",
       "    }\n",
       "\n",
       "    .dataframe thead th {\n",
       "        text-align: right;\n",
       "    }\n",
       "</style>\n",
       "<table border=\"1\" class=\"dataframe\">\n",
       "  <thead>\n",
       "    <tr style=\"text-align: right;\">\n",
       "      <th></th>\n",
       "      <th></th>\n",
       "      <th>timestamp_first_active</th>\n",
       "      <th>signup_flow</th>\n",
       "    </tr>\n",
       "    <tr>\n",
       "      <th>age</th>\n",
       "      <th>country_destination</th>\n",
       "      <th></th>\n",
       "      <th></th>\n",
       "    </tr>\n",
       "  </thead>\n",
       "  <tbody>\n",
       "    <tr>\n",
       "      <th>1.0</th>\n",
       "      <th>NDF</th>\n",
       "      <td>40271136071591</td>\n",
       "      <td>24</td>\n",
       "    </tr>\n",
       "    <tr>\n",
       "      <th rowspan=\"4\" valign=\"top\">2.0</th>\n",
       "      <th>ES</th>\n",
       "      <td>20130910134332</td>\n",
       "      <td>0</td>\n",
       "    </tr>\n",
       "    <tr>\n",
       "      <th>NDF</th>\n",
       "      <td>60401649643946</td>\n",
       "      <td>25</td>\n",
       "    </tr>\n",
       "    <tr>\n",
       "      <th>US</th>\n",
       "      <td>40261234205547</td>\n",
       "      <td>0</td>\n",
       "    </tr>\n",
       "    <tr>\n",
       "      <th>other</th>\n",
       "      <td>20110616193150</td>\n",
       "      <td>2</td>\n",
       "    </tr>\n",
       "    <tr>\n",
       "      <th rowspan=\"2\" valign=\"top\">4.0</th>\n",
       "      <th>IT</th>\n",
       "      <td>20100806065100</td>\n",
       "      <td>3</td>\n",
       "    </tr>\n",
       "    <tr>\n",
       "      <th>NDF</th>\n",
       "      <td>40201640245562</td>\n",
       "      <td>4</td>\n",
       "    </tr>\n",
       "    <tr>\n",
       "      <th rowspan=\"6\" valign=\"top\">5.0</th>\n",
       "      <th>DE</th>\n",
       "      <td>20100911155324</td>\n",
       "      <td>3</td>\n",
       "    </tr>\n",
       "    <tr>\n",
       "      <th>FR</th>\n",
       "      <td>40201217247859</td>\n",
       "      <td>5</td>\n",
       "    </tr>\n",
       "    <tr>\n",
       "      <th>GB</th>\n",
       "      <td>20100817002755</td>\n",
       "      <td>2</td>\n",
       "    </tr>\n",
       "    <tr>\n",
       "      <th>IT</th>\n",
       "      <td>20100429161617</td>\n",
       "      <td>0</td>\n",
       "    </tr>\n",
       "    <tr>\n",
       "      <th>NDF</th>\n",
       "      <td>723627854390117</td>\n",
       "      <td>79</td>\n",
       "    </tr>\n",
       "    <tr>\n",
       "      <th>US</th>\n",
       "      <td>80402690565964</td>\n",
       "      <td>10</td>\n",
       "    </tr>\n",
       "    <tr>\n",
       "      <th rowspan=\"2\" valign=\"top\">15.0</th>\n",
       "      <th>NDF</th>\n",
       "      <td>100673779672982</td>\n",
       "      <td>25</td>\n",
       "    </tr>\n",
       "    <tr>\n",
       "      <th>US</th>\n",
       "      <td>60380958368364</td>\n",
       "      <td>0</td>\n",
       "    </tr>\n",
       "    <tr>\n",
       "      <th rowspan=\"2\" valign=\"top\">16.0</th>\n",
       "      <th>NDF</th>\n",
       "      <td>503346766541434</td>\n",
       "      <td>87</td>\n",
       "    </tr>\n",
       "    <tr>\n",
       "      <th>US</th>\n",
       "      <td>20140524074410</td>\n",
       "      <td>0</td>\n",
       "    </tr>\n",
       "    <tr>\n",
       "      <th rowspan=\"3\" valign=\"top\">17.0</th>\n",
       "      <th>GB</th>\n",
       "      <td>20140521110218</td>\n",
       "      <td>0</td>\n",
       "    </tr>\n",
       "    <tr>\n",
       "      <th>NDF</th>\n",
       "      <td>1268422941397709</td>\n",
       "      <td>190</td>\n",
       "    </tr>\n",
       "    <tr>\n",
       "      <th>US</th>\n",
       "      <td>60381035240015</td>\n",
       "      <td>2</td>\n",
       "    </tr>\n",
       "    <tr>\n",
       "      <th rowspan=\"10\" valign=\"top\">18.0</th>\n",
       "      <th>AU</th>\n",
       "      <td>20120827100521</td>\n",
       "      <td>12</td>\n",
       "    </tr>\n",
       "    <tr>\n",
       "      <th>CA</th>\n",
       "      <td>221397823943879</td>\n",
       "      <td>10</td>\n",
       "    </tr>\n",
       "    <tr>\n",
       "      <th>DE</th>\n",
       "      <td>241497975254809</td>\n",
       "      <td>16</td>\n",
       "    </tr>\n",
       "    <tr>\n",
       "      <th>ES</th>\n",
       "      <td>140853592176770</td>\n",
       "      <td>29</td>\n",
       "    </tr>\n",
       "    <tr>\n",
       "      <th>FR</th>\n",
       "      <td>483015115586797</td>\n",
       "      <td>13</td>\n",
       "    </tr>\n",
       "    <tr>\n",
       "      <th>GB</th>\n",
       "      <td>221417146547439</td>\n",
       "      <td>26</td>\n",
       "    </tr>\n",
       "    <tr>\n",
       "      <th>IT</th>\n",
       "      <td>362288181783879</td>\n",
       "      <td>29</td>\n",
       "    </tr>\n",
       "    <tr>\n",
       "      <th>NDF</th>\n",
       "      <td>5978631436322363</td>\n",
       "      <td>730</td>\n",
       "    </tr>\n",
       "    <tr>\n",
       "      <th>NL</th>\n",
       "      <td>100652961894219</td>\n",
       "      <td>0</td>\n",
       "    </tr>\n",
       "    <tr>\n",
       "      <th>US</th>\n",
       "      <td>4689480734717955</td>\n",
       "      <td>425</td>\n",
       "    </tr>\n",
       "    <tr>\n",
       "      <th>...</th>\n",
       "      <th>...</th>\n",
       "      <td>...</td>\n",
       "      <td>...</td>\n",
       "    </tr>\n",
       "    <tr>\n",
       "      <th rowspan=\"2\" valign=\"top\">1936.0</th>\n",
       "      <th>NDF</th>\n",
       "      <td>20140504195714</td>\n",
       "      <td>25</td>\n",
       "    </tr>\n",
       "    <tr>\n",
       "      <th>US</th>\n",
       "      <td>20130824181551</td>\n",
       "      <td>0</td>\n",
       "    </tr>\n",
       "    <tr>\n",
       "      <th>1938.0</th>\n",
       "      <th>US</th>\n",
       "      <td>20140531031949</td>\n",
       "      <td>0</td>\n",
       "    </tr>\n",
       "    <tr>\n",
       "      <th>1942.0</th>\n",
       "      <th>FR</th>\n",
       "      <td>20140308072555</td>\n",
       "      <td>23</td>\n",
       "    </tr>\n",
       "    <tr>\n",
       "      <th rowspan=\"2\" valign=\"top\">1947.0</th>\n",
       "      <th>US</th>\n",
       "      <td>20140617230607</td>\n",
       "      <td>0</td>\n",
       "    </tr>\n",
       "    <tr>\n",
       "      <th>other</th>\n",
       "      <td>20140529072549</td>\n",
       "      <td>23</td>\n",
       "    </tr>\n",
       "    <tr>\n",
       "      <th rowspan=\"2\" valign=\"top\">1949.0</th>\n",
       "      <th>NDF</th>\n",
       "      <td>20140622214130</td>\n",
       "      <td>0</td>\n",
       "    </tr>\n",
       "    <tr>\n",
       "      <th>US</th>\n",
       "      <td>40261431247689</td>\n",
       "      <td>35</td>\n",
       "    </tr>\n",
       "    <tr>\n",
       "      <th>1952.0</th>\n",
       "      <th>NDF</th>\n",
       "      <td>20131022053400</td>\n",
       "      <td>0</td>\n",
       "    </tr>\n",
       "    <tr>\n",
       "      <th>1953.0</th>\n",
       "      <th>NDF</th>\n",
       "      <td>20140226225536</td>\n",
       "      <td>23</td>\n",
       "    </tr>\n",
       "    <tr>\n",
       "      <th>1995.0</th>\n",
       "      <th>NDF</th>\n",
       "      <td>20140319204406</td>\n",
       "      <td>24</td>\n",
       "    </tr>\n",
       "    <tr>\n",
       "      <th>2008.0</th>\n",
       "      <th>US</th>\n",
       "      <td>20140420214553</td>\n",
       "      <td>24</td>\n",
       "    </tr>\n",
       "    <tr>\n",
       "      <th rowspan=\"6\" valign=\"top\">2013.0</th>\n",
       "      <th>FR</th>\n",
       "      <td>20131014203034</td>\n",
       "      <td>0</td>\n",
       "    </tr>\n",
       "    <tr>\n",
       "      <th>GB</th>\n",
       "      <td>20131101215216</td>\n",
       "      <td>0</td>\n",
       "    </tr>\n",
       "    <tr>\n",
       "      <th>NDF</th>\n",
       "      <td>483014947700421</td>\n",
       "      <td>18</td>\n",
       "    </tr>\n",
       "    <tr>\n",
       "      <th>NL</th>\n",
       "      <td>20111214163000</td>\n",
       "      <td>0</td>\n",
       "    </tr>\n",
       "    <tr>\n",
       "      <th>US</th>\n",
       "      <td>221346968559814</td>\n",
       "      <td>5</td>\n",
       "    </tr>\n",
       "    <tr>\n",
       "      <th>other</th>\n",
       "      <td>20130502183255</td>\n",
       "      <td>0</td>\n",
       "    </tr>\n",
       "    <tr>\n",
       "      <th rowspan=\"12\" valign=\"top\">2014.0</th>\n",
       "      <th>AU</th>\n",
       "      <td>20130706185647</td>\n",
       "      <td>0</td>\n",
       "    </tr>\n",
       "    <tr>\n",
       "      <th>CA</th>\n",
       "      <td>120754413317868</td>\n",
       "      <td>0</td>\n",
       "    </tr>\n",
       "    <tr>\n",
       "      <th>DE</th>\n",
       "      <td>140843917895642</td>\n",
       "      <td>10</td>\n",
       "    </tr>\n",
       "    <tr>\n",
       "      <th>ES</th>\n",
       "      <td>181174410171398</td>\n",
       "      <td>0</td>\n",
       "    </tr>\n",
       "    <tr>\n",
       "      <th>FR</th>\n",
       "      <td>342091761921051</td>\n",
       "      <td>39</td>\n",
       "    </tr>\n",
       "    <tr>\n",
       "      <th>GB</th>\n",
       "      <td>181174744988808</td>\n",
       "      <td>3</td>\n",
       "    </tr>\n",
       "    <tr>\n",
       "      <th>IT</th>\n",
       "      <td>261725334743253</td>\n",
       "      <td>25</td>\n",
       "    </tr>\n",
       "    <tr>\n",
       "      <th>NDF</th>\n",
       "      <td>7406431511046695</td>\n",
       "      <td>299</td>\n",
       "    </tr>\n",
       "    <tr>\n",
       "      <th>NL</th>\n",
       "      <td>80521445394857</td>\n",
       "      <td>3</td>\n",
       "    </tr>\n",
       "    <tr>\n",
       "      <th>PT</th>\n",
       "      <td>20140112063455</td>\n",
       "      <td>0</td>\n",
       "    </tr>\n",
       "    <tr>\n",
       "      <th>US</th>\n",
       "      <td>4689475005063806</td>\n",
       "      <td>369</td>\n",
       "    </tr>\n",
       "    <tr>\n",
       "      <th>other</th>\n",
       "      <td>845248266123085</td>\n",
       "      <td>60</td>\n",
       "    </tr>\n",
       "  </tbody>\n",
       "</table>\n",
       "<p>894 rows × 2 columns</p>\n",
       "</div>"
      ],
      "text/plain": [
       "                            timestamp_first_active  signup_flow\n",
       "age    country_destination                                     \n",
       "1.0    NDF                          40271136071591           24\n",
       "2.0    ES                           20130910134332            0\n",
       "       NDF                          60401649643946           25\n",
       "       US                           40261234205547            0\n",
       "       other                        20110616193150            2\n",
       "4.0    IT                           20100806065100            3\n",
       "       NDF                          40201640245562            4\n",
       "5.0    DE                           20100911155324            3\n",
       "       FR                           40201217247859            5\n",
       "       GB                           20100817002755            2\n",
       "       IT                           20100429161617            0\n",
       "       NDF                         723627854390117           79\n",
       "       US                           80402690565964           10\n",
       "15.0   NDF                         100673779672982           25\n",
       "       US                           60380958368364            0\n",
       "16.0   NDF                         503346766541434           87\n",
       "       US                           20140524074410            0\n",
       "17.0   GB                           20140521110218            0\n",
       "       NDF                        1268422941397709          190\n",
       "       US                           60381035240015            2\n",
       "18.0   AU                           20120827100521           12\n",
       "       CA                          221397823943879           10\n",
       "       DE                          241497975254809           16\n",
       "       ES                          140853592176770           29\n",
       "       FR                          483015115586797           13\n",
       "       GB                          221417146547439           26\n",
       "       IT                          362288181783879           29\n",
       "       NDF                        5978631436322363          730\n",
       "       NL                          100652961894219            0\n",
       "       US                         4689480734717955          425\n",
       "...                                            ...          ...\n",
       "1936.0 NDF                          20140504195714           25\n",
       "       US                           20130824181551            0\n",
       "1938.0 US                           20140531031949            0\n",
       "1942.0 FR                           20140308072555           23\n",
       "1947.0 US                           20140617230607            0\n",
       "       other                        20140529072549           23\n",
       "1949.0 NDF                          20140622214130            0\n",
       "       US                           40261431247689           35\n",
       "1952.0 NDF                          20131022053400            0\n",
       "1953.0 NDF                          20140226225536           23\n",
       "1995.0 NDF                          20140319204406           24\n",
       "2008.0 US                           20140420214553           24\n",
       "2013.0 FR                           20131014203034            0\n",
       "       GB                           20131101215216            0\n",
       "       NDF                         483014947700421           18\n",
       "       NL                           20111214163000            0\n",
       "       US                          221346968559814            5\n",
       "       other                        20130502183255            0\n",
       "2014.0 AU                           20130706185647            0\n",
       "       CA                          120754413317868            0\n",
       "       DE                          140843917895642           10\n",
       "       ES                          181174410171398            0\n",
       "       FR                          342091761921051           39\n",
       "       GB                          181174744988808            3\n",
       "       IT                          261725334743253           25\n",
       "       NDF                        7406431511046695          299\n",
       "       NL                           80521445394857            3\n",
       "       PT                           20140112063455            0\n",
       "       US                         4689475005063806          369\n",
       "       other                       845248266123085           60\n",
       "\n",
       "[894 rows x 2 columns]"
      ]
     },
     "execution_count": 17,
     "metadata": {},
     "output_type": "execute_result"
    }
   ],
   "source": [
    "train_users.groupby(['age','country_destination']).sum()"
   ]
  },
  {
   "cell_type": "code",
   "execution_count": 18,
   "metadata": {
    "ExecuteTime": {
     "end_time": "2019-03-07T21:41:17.515950Z",
     "start_time": "2019-03-07T21:41:17.483360Z"
    }
   },
   "outputs": [
    {
     "name": "stdout",
     "output_type": "stream",
     "text": [
      "158\n",
      "2543\n",
      "87990\n"
     ]
    }
   ],
   "source": [
    "print(train_users.age[train_users.age<18].count())\n",
    "print(train_users.age[train_users.age>90].count())\n",
    "print(train_users.age.isna().sum())"
   ]
  },
  {
   "cell_type": "code",
   "execution_count": 28,
   "metadata": {
    "ExecuteTime": {
     "end_time": "2019-03-07T21:45:05.468759Z",
     "start_time": "2019-03-07T21:45:05.071989Z"
    }
   },
   "outputs": [
    {
     "name": "stderr",
     "output_type": "stream",
     "text": [
      "/anaconda3/lib/python3.6/site-packages/ipykernel_launcher.py:1: SettingWithCopyWarning: \n",
      "A value is trying to be set on a copy of a slice from a DataFrame\n",
      "\n",
      "See the caveats in the documentation: http://pandas.pydata.org/pandas-docs/stable/indexing.html#indexing-view-versus-copy\n",
      "  \"\"\"Entry point for launching an IPython kernel.\n"
     ]
    }
   ],
   "source": [
    "train_users.age[train_users.age>90]=np.nan"
   ]
  },
  {
   "cell_type": "code",
   "execution_count": 29,
   "metadata": {
    "ExecuteTime": {
     "end_time": "2019-03-07T21:45:09.686757Z",
     "start_time": "2019-03-07T21:45:09.626031Z"
    }
   },
   "outputs": [
    {
     "name": "stderr",
     "output_type": "stream",
     "text": [
      "/anaconda3/lib/python3.6/site-packages/ipykernel_launcher.py:1: SettingWithCopyWarning: \n",
      "A value is trying to be set on a copy of a slice from a DataFrame\n",
      "\n",
      "See the caveats in the documentation: http://pandas.pydata.org/pandas-docs/stable/indexing.html#indexing-view-versus-copy\n",
      "  \"\"\"Entry point for launching an IPython kernel.\n"
     ]
    }
   ],
   "source": [
    "train_users.age[train_users.age<18]=np.nan"
   ]
  },
  {
   "cell_type": "code",
   "execution_count": 30,
   "metadata": {
    "ExecuteTime": {
     "end_time": "2019-03-07T21:45:13.013006Z",
     "start_time": "2019-03-07T21:45:12.995000Z"
    }
   },
   "outputs": [
    {
     "name": "stdout",
     "output_type": "stream",
     "text": [
      "0\n",
      "0\n",
      "90691\n"
     ]
    }
   ],
   "source": [
    "print(train_users.age[(train_users.age<18)&(train_users.age>0)].count())\n",
    "print(train_users.age[train_users.age>90].count())\n",
    "print(train_users.age.isna().sum())"
   ]
  },
  {
   "cell_type": "code",
   "execution_count": 31,
   "metadata": {
    "ExecuteTime": {
     "end_time": "2019-03-07T21:45:21.377391Z",
     "start_time": "2019-03-07T21:45:21.122994Z"
    }
   },
   "outputs": [
    {
     "data": {
      "text/plain": [
       "<matplotlib.axes._subplots.AxesSubplot at 0x111044160>"
      ]
     },
     "execution_count": 31,
     "metadata": {},
     "output_type": "execute_result"
    },
    {
     "data": {
      "image/png": "[encoded data removed]",
      "text/plain": [
       "<matplotlib.figure.Figure at 0x111044128>"
      ]
     },
     "metadata": {},
     "output_type": "display_data"
    }
   ],
   "source": [
    "train_users.age.hist(bins=50)"
   ]
  },
  {
   "cell_type": "code",
   "execution_count": 35,
   "metadata": {
    "ExecuteTime": {
     "end_time": "2019-03-07T22:43:20.121909Z",
     "start_time": "2019-03-07T22:43:19.792890Z"
    }
   },
   "outputs": [
    {
     "data": {
      "image/png": "[encoded data removed]",
      "text/plain": [
       "<matplotlib.figure.Figure at 0x11a309208>"
      ]
     },
     "metadata": {},
     "output_type": "display_data"
    }
   ],
   "source": [
    "sns.distplot(train_users.age.dropna(), color='#FD5C64')\n",
    "plt.xlabel('Age')\n",
    "sns.despine()"
   ]
  },
  {
   "cell_type": "code",
   "execution_count": 23,
   "metadata": {
    "ExecuteTime": {
     "end_time": "2019-03-07T19:19:22.001984Z",
     "start_time": "2019-03-07T19:19:21.988814Z"
    }
   },
   "outputs": [
    {
     "data": {
      "text/plain": [
       "id                          object\n",
       "date_account_created        object\n",
       "timestamp_first_active       int64\n",
       "date_first_booking          object\n",
       "gender                      object\n",
       "age                        float64\n",
       "signup_method               object\n",
       "signup_flow                  int64\n",
       "language                    object\n",
       "affiliate_channel           object\n",
       "affiliate_provider          object\n",
       "first_affiliate_tracked     object\n",
       "signup_app                  object\n",
       "first_device_type           object\n",
       "first_browser               object\n",
       "country_destination         object\n",
       "dtype: object"
      ]
     },
     "execution_count": 23,
     "metadata": {},
     "output_type": "execute_result"
    }
   ],
   "source": [
    "train_users.dtypes"
   ]
  },
  {
   "cell_type": "code",
   "execution_count": 41,
   "metadata": {
    "ExecuteTime": {
     "end_time": "2019-03-07T23:33:05.817190Z",
     "start_time": "2019-03-07T23:33:05.759799Z"
    }
   },
   "outputs": [],
   "source": [
    "train_users['date_account_created'] = pd.to_datetime(train_users['date_account_created']).dt.year"
   ]
  },
  {
   "cell_type": "code",
   "execution_count": 78,
   "metadata": {
    "ExecuteTime": {
     "end_time": "2019-03-08T00:33:49.479881Z",
     "start_time": "2019-03-08T00:33:48.502271Z"
    }
   },
   "outputs": [],
   "source": [
    "train_users['timestamp_first_active'] = pd.to_datetime(train_users['timestamp_first_active'], format='%Y%m%d%H%M%S').dt.year"
   ]
  },
  {
   "cell_type": "code",
   "execution_count": 45,
   "metadata": {
    "ExecuteTime": {
     "end_time": "2019-03-07T23:43:53.175058Z",
     "start_time": "2019-03-07T23:43:53.143353Z"
    }
   },
   "outputs": [
    {
     "data": {
      "text/plain": [
       "213451"
      ]
     },
     "execution_count": 45,
     "metadata": {},
     "output_type": "execute_result"
    }
   ],
   "source": [
    "len(train_users)"
   ]
  },
  {
   "cell_type": "code",
   "execution_count": 97,
   "metadata": {
    "ExecuteTime": {
     "end_time": "2019-03-08T01:21:33.389032Z",
     "start_time": "2019-03-08T01:21:33.025325Z"
    }
   },
   "outputs": [
    {
     "data": {
      "image/png": "[encoded data removed]",
      "text/plain": [
       "<matplotlib.figure.Figure at 0x119809630>"
      ]
     },
     "metadata": {},
     "output_type": "display_data"
    }
   ],
   "source": [
    "train_users.country_destination.value_counts(normalize=True).plot(kind='bar')\n",
    "plt.xlabel('Destination Country')\n",
    "plt.ylabel('Percentage')\n",
    "plt.savefig(\"destinationPercentage.png\")"
   ]
  },
  {
   "cell_type": "code",
   "execution_count": 98,
   "metadata": {
    "ExecuteTime": {
     "end_time": "2019-03-08T01:31:35.954857Z",
     "start_time": "2019-03-08T01:31:34.571909Z"
    }
   },
   "outputs": [
    {
     "data": {
      "image/png": "[encoded data removed]",
      "text/plain": [
       "<matplotlib.figure.Figure at 0x1288f0eb8>"
      ]
     },
     "metadata": {},
     "output_type": "display_data"
    }
   ],
   "source": [
    "# plot data\n",
    "ax = train_users.groupby(['country_destination','timestamp_first_active']).size().apply(lambda x: (x/len(train_users))).unstack().plot(kind='bar',fontsize=15, figsize=(15,5))\n",
    "plt.ylabel('Percentage')\n",
    "plt.title('Frequency of bookings in diffrent countries between 2009 and 2015')\n",
    "plt.grid()\n",
    "fig = ax.get_figure()\n",
    "fig.savefig('bookingsFq.png')\n",
    "# use unstack()\n"
   ]
  },
  {
   "cell_type": "code",
   "execution_count": 65,
   "metadata": {
    "ExecuteTime": {
     "end_time": "2019-03-08T00:17:38.665334Z",
     "start_time": "2019-03-08T00:17:38.379670Z"
    }
   },
   "outputs": [
    {
     "data": {
      "text/html": [
       "<div>\n",
       "<style scoped>\n",
       "    .dataframe tbody tr th:only-of-type {\n",
       "        vertical-align: middle;\n",
       "    }\n",
       "\n",
       "    .dataframe tbody tr th {\n",
       "        vertical-align: top;\n",
       "    }\n",
       "\n",
       "    .dataframe thead th {\n",
       "        text-align: right;\n",
       "    }\n",
       "</style>\n",
       "<table border=\"1\" class=\"dataframe\">\n",
       "  <thead>\n",
       "    <tr style=\"text-align: right;\">\n",
       "      <th></th>\n",
       "      <th></th>\n",
       "      <th>id</th>\n",
       "      <th>date_account_created</th>\n",
       "      <th>timestamp_first_active</th>\n",
       "      <th>date_first_booking</th>\n",
       "      <th>gender</th>\n",
       "      <th>signup_method</th>\n",
       "      <th>signup_flow</th>\n",
       "      <th>language</th>\n",
       "      <th>affiliate_channel</th>\n",
       "      <th>affiliate_provider</th>\n",
       "      <th>first_affiliate_tracked</th>\n",
       "      <th>signup_app</th>\n",
       "      <th>first_device_type</th>\n",
       "      <th>first_browser</th>\n",
       "    </tr>\n",
       "    <tr>\n",
       "      <th>country_destination</th>\n",
       "      <th>age</th>\n",
       "      <th></th>\n",
       "      <th></th>\n",
       "      <th></th>\n",
       "      <th></th>\n",
       "      <th></th>\n",
       "      <th></th>\n",
       "      <th></th>\n",
       "      <th></th>\n",
       "      <th></th>\n",
       "      <th></th>\n",
       "      <th></th>\n",
       "      <th></th>\n",
       "      <th></th>\n",
       "      <th></th>\n",
       "    </tr>\n",
       "  </thead>\n",
       "  <tbody>\n",
       "    <tr>\n",
       "      <th rowspan=\"30\" valign=\"top\">AU</th>\n",
       "      <th>18.0</th>\n",
       "      <td>1</td>\n",
       "      <td>1</td>\n",
       "      <td>1</td>\n",
       "      <td>1</td>\n",
       "      <td>1</td>\n",
       "      <td>1</td>\n",
       "      <td>1</td>\n",
       "      <td>1</td>\n",
       "      <td>1</td>\n",
       "      <td>1</td>\n",
       "      <td>1</td>\n",
       "      <td>1</td>\n",
       "      <td>1</td>\n",
       "      <td>1</td>\n",
       "    </tr>\n",
       "    <tr>\n",
       "      <th>19.0</th>\n",
       "      <td>6</td>\n",
       "      <td>6</td>\n",
       "      <td>6</td>\n",
       "      <td>6</td>\n",
       "      <td>6</td>\n",
       "      <td>6</td>\n",
       "      <td>6</td>\n",
       "      <td>6</td>\n",
       "      <td>6</td>\n",
       "      <td>6</td>\n",
       "      <td>6</td>\n",
       "      <td>6</td>\n",
       "      <td>6</td>\n",
       "      <td>6</td>\n",
       "    </tr>\n",
       "    <tr>\n",
       "      <th>20.0</th>\n",
       "      <td>1</td>\n",
       "      <td>1</td>\n",
       "      <td>1</td>\n",
       "      <td>1</td>\n",
       "      <td>1</td>\n",
       "      <td>1</td>\n",
       "      <td>1</td>\n",
       "      <td>1</td>\n",
       "      <td>1</td>\n",
       "      <td>1</td>\n",
       "      <td>1</td>\n",
       "      <td>1</td>\n",
       "      <td>1</td>\n",
       "      <td>1</td>\n",
       "    </tr>\n",
       "    <tr>\n",
       "      <th>21.0</th>\n",
       "      <td>1</td>\n",
       "      <td>1</td>\n",
       "      <td>1</td>\n",
       "      <td>1</td>\n",
       "      <td>1</td>\n",
       "      <td>1</td>\n",
       "      <td>1</td>\n",
       "      <td>1</td>\n",
       "      <td>1</td>\n",
       "      <td>1</td>\n",
       "      <td>1</td>\n",
       "      <td>1</td>\n",
       "      <td>1</td>\n",
       "      <td>1</td>\n",
       "    </tr>\n",
       "    <tr>\n",
       "      <th>22.0</th>\n",
       "      <td>2</td>\n",
       "      <td>2</td>\n",
       "      <td>2</td>\n",
       "      <td>2</td>\n",
       "      <td>2</td>\n",
       "      <td>2</td>\n",
       "      <td>2</td>\n",
       "      <td>2</td>\n",
       "      <td>2</td>\n",
       "      <td>2</td>\n",
       "      <td>2</td>\n",
       "      <td>2</td>\n",
       "      <td>2</td>\n",
       "      <td>2</td>\n",
       "    </tr>\n",
       "    <tr>\n",
       "      <th>23.0</th>\n",
       "      <td>3</td>\n",
       "      <td>3</td>\n",
       "      <td>3</td>\n",
       "      <td>3</td>\n",
       "      <td>3</td>\n",
       "      <td>3</td>\n",
       "      <td>3</td>\n",
       "      <td>3</td>\n",
       "      <td>3</td>\n",
       "      <td>3</td>\n",
       "      <td>3</td>\n",
       "      <td>3</td>\n",
       "      <td>3</td>\n",
       "      <td>3</td>\n",
       "    </tr>\n",
       "    <tr>\n",
       "      <th>24.0</th>\n",
       "      <td>11</td>\n",
       "      <td>11</td>\n",
       "      <td>11</td>\n",
       "      <td>11</td>\n",
       "      <td>11</td>\n",
       "      <td>11</td>\n",
       "      <td>11</td>\n",
       "      <td>11</td>\n",
       "      <td>11</td>\n",
       "      <td>11</td>\n",
       "      <td>11</td>\n",
       "      <td>11</td>\n",
       "      <td>11</td>\n",
       "      <td>11</td>\n",
       "    </tr>\n",
       "    <tr>\n",
       "      <th>25.0</th>\n",
       "      <td>5</td>\n",
       "      <td>5</td>\n",
       "      <td>5</td>\n",
       "      <td>5</td>\n",
       "      <td>5</td>\n",
       "      <td>5</td>\n",
       "      <td>5</td>\n",
       "      <td>5</td>\n",
       "      <td>5</td>\n",
       "      <td>5</td>\n",
       "      <td>5</td>\n",
       "      <td>5</td>\n",
       "      <td>5</td>\n",
       "      <td>5</td>\n",
       "    </tr>\n",
       "    <tr>\n",
       "      <th>26.0</th>\n",
       "      <td>14</td>\n",
       "      <td>14</td>\n",
       "      <td>14</td>\n",
       "      <td>14</td>\n",
       "      <td>14</td>\n",
       "      <td>14</td>\n",
       "      <td>14</td>\n",
       "      <td>14</td>\n",
       "      <td>14</td>\n",
       "      <td>14</td>\n",
       "      <td>14</td>\n",
       "      <td>14</td>\n",
       "      <td>14</td>\n",
       "      <td>14</td>\n",
       "    </tr>\n",
       "    <tr>\n",
       "      <th>27.0</th>\n",
       "      <td>21</td>\n",
       "      <td>21</td>\n",
       "      <td>21</td>\n",
       "      <td>21</td>\n",
       "      <td>21</td>\n",
       "      <td>21</td>\n",
       "      <td>21</td>\n",
       "      <td>21</td>\n",
       "      <td>21</td>\n",
       "      <td>21</td>\n",
       "      <td>21</td>\n",
       "      <td>21</td>\n",
       "      <td>21</td>\n",
       "      <td>21</td>\n",
       "    </tr>\n",
       "    <tr>\n",
       "      <th>28.0</th>\n",
       "      <td>20</td>\n",
       "      <td>20</td>\n",
       "      <td>20</td>\n",
       "      <td>20</td>\n",
       "      <td>20</td>\n",
       "      <td>20</td>\n",
       "      <td>20</td>\n",
       "      <td>20</td>\n",
       "      <td>20</td>\n",
       "      <td>20</td>\n",
       "      <td>20</td>\n",
       "      <td>20</td>\n",
       "      <td>20</td>\n",
       "      <td>20</td>\n",
       "    </tr>\n",
       "    <tr>\n",
       "      <th>29.0</th>\n",
       "      <td>28</td>\n",
       "      <td>28</td>\n",
       "      <td>28</td>\n",
       "      <td>28</td>\n",
       "      <td>28</td>\n",
       "      <td>28</td>\n",
       "      <td>28</td>\n",
       "      <td>28</td>\n",
       "      <td>28</td>\n",
       "      <td>28</td>\n",
       "      <td>28</td>\n",
       "      <td>28</td>\n",
       "      <td>28</td>\n",
       "      <td>28</td>\n",
       "    </tr>\n",
       "    <tr>\n",
       "      <th>30.0</th>\n",
       "      <td>35</td>\n",
       "      <td>35</td>\n",
       "      <td>35</td>\n",
       "      <td>35</td>\n",
       "      <td>35</td>\n",
       "      <td>35</td>\n",
       "      <td>35</td>\n",
       "      <td>35</td>\n",
       "      <td>35</td>\n",
       "      <td>35</td>\n",
       "      <td>35</td>\n",
       "      <td>35</td>\n",
       "      <td>35</td>\n",
       "      <td>35</td>\n",
       "    </tr>\n",
       "    <tr>\n",
       "      <th>31.0</th>\n",
       "      <td>14</td>\n",
       "      <td>14</td>\n",
       "      <td>14</td>\n",
       "      <td>14</td>\n",
       "      <td>14</td>\n",
       "      <td>14</td>\n",
       "      <td>14</td>\n",
       "      <td>14</td>\n",
       "      <td>14</td>\n",
       "      <td>14</td>\n",
       "      <td>14</td>\n",
       "      <td>14</td>\n",
       "      <td>14</td>\n",
       "      <td>14</td>\n",
       "    </tr>\n",
       "    <tr>\n",
       "      <th>32.0</th>\n",
       "      <td>18</td>\n",
       "      <td>18</td>\n",
       "      <td>18</td>\n",
       "      <td>18</td>\n",
       "      <td>18</td>\n",
       "      <td>18</td>\n",
       "      <td>18</td>\n",
       "      <td>18</td>\n",
       "      <td>18</td>\n",
       "      <td>18</td>\n",
       "      <td>18</td>\n",
       "      <td>18</td>\n",
       "      <td>18</td>\n",
       "      <td>18</td>\n",
       "    </tr>\n",
       "    <tr>\n",
       "      <th>33.0</th>\n",
       "      <td>21</td>\n",
       "      <td>21</td>\n",
       "      <td>21</td>\n",
       "      <td>21</td>\n",
       "      <td>21</td>\n",
       "      <td>21</td>\n",
       "      <td>21</td>\n",
       "      <td>21</td>\n",
       "      <td>21</td>\n",
       "      <td>21</td>\n",
       "      <td>20</td>\n",
       "      <td>21</td>\n",
       "      <td>21</td>\n",
       "      <td>21</td>\n",
       "    </tr>\n",
       "    <tr>\n",
       "      <th>34.0</th>\n",
       "      <td>11</td>\n",
       "      <td>11</td>\n",
       "      <td>11</td>\n",
       "      <td>11</td>\n",
       "      <td>11</td>\n",
       "      <td>11</td>\n",
       "      <td>11</td>\n",
       "      <td>11</td>\n",
       "      <td>11</td>\n",
       "      <td>11</td>\n",
       "      <td>11</td>\n",
       "      <td>11</td>\n",
       "      <td>11</td>\n",
       "      <td>11</td>\n",
       "    </tr>\n",
       "    <tr>\n",
       "      <th>35.0</th>\n",
       "      <td>12</td>\n",
       "      <td>12</td>\n",
       "      <td>12</td>\n",
       "      <td>12</td>\n",
       "      <td>12</td>\n",
       "      <td>12</td>\n",
       "      <td>12</td>\n",
       "      <td>12</td>\n",
       "      <td>12</td>\n",
       "      <td>12</td>\n",
       "      <td>12</td>\n",
       "      <td>12</td>\n",
       "      <td>12</td>\n",
       "      <td>12</td>\n",
       "    </tr>\n",
       "    <tr>\n",
       "      <th>36.0</th>\n",
       "      <td>16</td>\n",
       "      <td>16</td>\n",
       "      <td>16</td>\n",
       "      <td>16</td>\n",
       "      <td>16</td>\n",
       "      <td>16</td>\n",
       "      <td>16</td>\n",
       "      <td>16</td>\n",
       "      <td>16</td>\n",
       "      <td>16</td>\n",
       "      <td>15</td>\n",
       "      <td>16</td>\n",
       "      <td>16</td>\n",
       "      <td>16</td>\n",
       "    </tr>\n",
       "    <tr>\n",
       "      <th>37.0</th>\n",
       "      <td>18</td>\n",
       "      <td>18</td>\n",
       "      <td>18</td>\n",
       "      <td>18</td>\n",
       "      <td>18</td>\n",
       "      <td>18</td>\n",
       "      <td>18</td>\n",
       "      <td>18</td>\n",
       "      <td>18</td>\n",
       "      <td>18</td>\n",
       "      <td>18</td>\n",
       "      <td>18</td>\n",
       "      <td>18</td>\n",
       "      <td>18</td>\n",
       "    </tr>\n",
       "    <tr>\n",
       "      <th>38.0</th>\n",
       "      <td>19</td>\n",
       "      <td>19</td>\n",
       "      <td>19</td>\n",
       "      <td>19</td>\n",
       "      <td>19</td>\n",
       "      <td>19</td>\n",
       "      <td>19</td>\n",
       "      <td>19</td>\n",
       "      <td>19</td>\n",
       "      <td>19</td>\n",
       "      <td>19</td>\n",
       "      <td>19</td>\n",
       "      <td>19</td>\n",
       "      <td>19</td>\n",
       "    </tr>\n",
       "    <tr>\n",
       "      <th>39.0</th>\n",
       "      <td>17</td>\n",
       "      <td>17</td>\n",
       "      <td>17</td>\n",
       "      <td>17</td>\n",
       "      <td>17</td>\n",
       "      <td>17</td>\n",
       "      <td>17</td>\n",
       "      <td>17</td>\n",
       "      <td>17</td>\n",
       "      <td>17</td>\n",
       "      <td>17</td>\n",
       "      <td>17</td>\n",
       "      <td>17</td>\n",
       "      <td>17</td>\n",
       "    </tr>\n",
       "    <tr>\n",
       "      <th>40.0</th>\n",
       "      <td>10</td>\n",
       "      <td>10</td>\n",
       "      <td>10</td>\n",
       "      <td>10</td>\n",
       "      <td>10</td>\n",
       "      <td>10</td>\n",
       "      <td>10</td>\n",
       "      <td>10</td>\n",
       "      <td>10</td>\n",
       "      <td>10</td>\n",
       "      <td>10</td>\n",
       "      <td>10</td>\n",
       "      <td>10</td>\n",
       "      <td>10</td>\n",
       "    </tr>\n",
       "    <tr>\n",
       "      <th>41.0</th>\n",
       "      <td>8</td>\n",
       "      <td>8</td>\n",
       "      <td>8</td>\n",
       "      <td>8</td>\n",
       "      <td>8</td>\n",
       "      <td>8</td>\n",
       "      <td>8</td>\n",
       "      <td>8</td>\n",
       "      <td>8</td>\n",
       "      <td>8</td>\n",
       "      <td>8</td>\n",
       "      <td>8</td>\n",
       "      <td>8</td>\n",
       "      <td>8</td>\n",
       "    </tr>\n",
       "    <tr>\n",
       "      <th>42.0</th>\n",
       "      <td>6</td>\n",
       "      <td>6</td>\n",
       "      <td>6</td>\n",
       "      <td>6</td>\n",
       "      <td>6</td>\n",
       "      <td>6</td>\n",
       "      <td>6</td>\n",
       "      <td>6</td>\n",
       "      <td>6</td>\n",
       "      <td>6</td>\n",
       "      <td>6</td>\n",
       "      <td>6</td>\n",
       "      <td>6</td>\n",
       "      <td>6</td>\n",
       "    </tr>\n",
       "    <tr>\n",
       "      <th>43.0</th>\n",
       "      <td>8</td>\n",
       "      <td>8</td>\n",
       "      <td>8</td>\n",
       "      <td>8</td>\n",
       "      <td>8</td>\n",
       "      <td>8</td>\n",
       "      <td>8</td>\n",
       "      <td>8</td>\n",
       "      <td>8</td>\n",
       "      <td>8</td>\n",
       "      <td>8</td>\n",
       "      <td>8</td>\n",
       "      <td>8</td>\n",
       "      <td>8</td>\n",
       "    </tr>\n",
       "    <tr>\n",
       "      <th>44.0</th>\n",
       "      <td>10</td>\n",
       "      <td>10</td>\n",
       "      <td>10</td>\n",
       "      <td>10</td>\n",
       "      <td>10</td>\n",
       "      <td>10</td>\n",
       "      <td>10</td>\n",
       "      <td>10</td>\n",
       "      <td>10</td>\n",
       "      <td>10</td>\n",
       "      <td>10</td>\n",
       "      <td>10</td>\n",
       "      <td>10</td>\n",
       "      <td>10</td>\n",
       "    </tr>\n",
       "    <tr>\n",
       "      <th>45.0</th>\n",
       "      <td>7</td>\n",
       "      <td>7</td>\n",
       "      <td>7</td>\n",
       "      <td>7</td>\n",
       "      <td>7</td>\n",
       "      <td>7</td>\n",
       "      <td>7</td>\n",
       "      <td>7</td>\n",
       "      <td>7</td>\n",
       "      <td>7</td>\n",
       "      <td>7</td>\n",
       "      <td>7</td>\n",
       "      <td>7</td>\n",
       "      <td>7</td>\n",
       "    </tr>\n",
       "    <tr>\n",
       "      <th>46.0</th>\n",
       "      <td>8</td>\n",
       "      <td>8</td>\n",
       "      <td>8</td>\n",
       "      <td>8</td>\n",
       "      <td>8</td>\n",
       "      <td>8</td>\n",
       "      <td>8</td>\n",
       "      <td>8</td>\n",
       "      <td>8</td>\n",
       "      <td>8</td>\n",
       "      <td>8</td>\n",
       "      <td>8</td>\n",
       "      <td>8</td>\n",
       "      <td>8</td>\n",
       "    </tr>\n",
       "    <tr>\n",
       "      <th>47.0</th>\n",
       "      <td>8</td>\n",
       "      <td>8</td>\n",
       "      <td>8</td>\n",
       "      <td>8</td>\n",
       "      <td>8</td>\n",
       "      <td>8</td>\n",
       "      <td>8</td>\n",
       "      <td>8</td>\n",
       "      <td>8</td>\n",
       "      <td>8</td>\n",
       "      <td>8</td>\n",
       "      <td>8</td>\n",
       "      <td>8</td>\n",
       "      <td>8</td>\n",
       "    </tr>\n",
       "    <tr>\n",
       "      <th>...</th>\n",
       "      <th>...</th>\n",
       "      <td>...</td>\n",
       "      <td>...</td>\n",
       "      <td>...</td>\n",
       "      <td>...</td>\n",
       "      <td>...</td>\n",
       "      <td>...</td>\n",
       "      <td>...</td>\n",
       "      <td>...</td>\n",
       "      <td>...</td>\n",
       "      <td>...</td>\n",
       "      <td>...</td>\n",
       "      <td>...</td>\n",
       "      <td>...</td>\n",
       "      <td>...</td>\n",
       "    </tr>\n",
       "    <tr>\n",
       "      <th rowspan=\"30\" valign=\"top\">other</th>\n",
       "      <th>58.0</th>\n",
       "      <td>51</td>\n",
       "      <td>51</td>\n",
       "      <td>51</td>\n",
       "      <td>51</td>\n",
       "      <td>51</td>\n",
       "      <td>51</td>\n",
       "      <td>51</td>\n",
       "      <td>51</td>\n",
       "      <td>51</td>\n",
       "      <td>51</td>\n",
       "      <td>51</td>\n",
       "      <td>51</td>\n",
       "      <td>51</td>\n",
       "      <td>51</td>\n",
       "    </tr>\n",
       "    <tr>\n",
       "      <th>59.0</th>\n",
       "      <td>39</td>\n",
       "      <td>39</td>\n",
       "      <td>39</td>\n",
       "      <td>39</td>\n",
       "      <td>39</td>\n",
       "      <td>39</td>\n",
       "      <td>39</td>\n",
       "      <td>39</td>\n",
       "      <td>39</td>\n",
       "      <td>39</td>\n",
       "      <td>39</td>\n",
       "      <td>39</td>\n",
       "      <td>39</td>\n",
       "      <td>39</td>\n",
       "    </tr>\n",
       "    <tr>\n",
       "      <th>60.0</th>\n",
       "      <td>42</td>\n",
       "      <td>42</td>\n",
       "      <td>42</td>\n",
       "      <td>42</td>\n",
       "      <td>42</td>\n",
       "      <td>42</td>\n",
       "      <td>42</td>\n",
       "      <td>42</td>\n",
       "      <td>42</td>\n",
       "      <td>42</td>\n",
       "      <td>41</td>\n",
       "      <td>42</td>\n",
       "      <td>42</td>\n",
       "      <td>42</td>\n",
       "    </tr>\n",
       "    <tr>\n",
       "      <th>61.0</th>\n",
       "      <td>35</td>\n",
       "      <td>35</td>\n",
       "      <td>35</td>\n",
       "      <td>35</td>\n",
       "      <td>35</td>\n",
       "      <td>35</td>\n",
       "      <td>35</td>\n",
       "      <td>35</td>\n",
       "      <td>35</td>\n",
       "      <td>35</td>\n",
       "      <td>35</td>\n",
       "      <td>35</td>\n",
       "      <td>35</td>\n",
       "      <td>35</td>\n",
       "    </tr>\n",
       "    <tr>\n",
       "      <th>62.0</th>\n",
       "      <td>30</td>\n",
       "      <td>30</td>\n",
       "      <td>30</td>\n",
       "      <td>30</td>\n",
       "      <td>30</td>\n",
       "      <td>30</td>\n",
       "      <td>30</td>\n",
       "      <td>30</td>\n",
       "      <td>30</td>\n",
       "      <td>30</td>\n",
       "      <td>30</td>\n",
       "      <td>30</td>\n",
       "      <td>30</td>\n",
       "      <td>30</td>\n",
       "    </tr>\n",
       "    <tr>\n",
       "      <th>63.0</th>\n",
       "      <td>43</td>\n",
       "      <td>43</td>\n",
       "      <td>43</td>\n",
       "      <td>43</td>\n",
       "      <td>43</td>\n",
       "      <td>43</td>\n",
       "      <td>43</td>\n",
       "      <td>43</td>\n",
       "      <td>43</td>\n",
       "      <td>43</td>\n",
       "      <td>43</td>\n",
       "      <td>43</td>\n",
       "      <td>43</td>\n",
       "      <td>43</td>\n",
       "    </tr>\n",
       "    <tr>\n",
       "      <th>64.0</th>\n",
       "      <td>29</td>\n",
       "      <td>29</td>\n",
       "      <td>29</td>\n",
       "      <td>29</td>\n",
       "      <td>29</td>\n",
       "      <td>29</td>\n",
       "      <td>29</td>\n",
       "      <td>29</td>\n",
       "      <td>29</td>\n",
       "      <td>29</td>\n",
       "      <td>29</td>\n",
       "      <td>29</td>\n",
       "      <td>29</td>\n",
       "      <td>29</td>\n",
       "    </tr>\n",
       "    <tr>\n",
       "      <th>65.0</th>\n",
       "      <td>23</td>\n",
       "      <td>23</td>\n",
       "      <td>23</td>\n",
       "      <td>23</td>\n",
       "      <td>23</td>\n",
       "      <td>23</td>\n",
       "      <td>23</td>\n",
       "      <td>23</td>\n",
       "      <td>23</td>\n",
       "      <td>23</td>\n",
       "      <td>22</td>\n",
       "      <td>23</td>\n",
       "      <td>23</td>\n",
       "      <td>23</td>\n",
       "    </tr>\n",
       "    <tr>\n",
       "      <th>66.0</th>\n",
       "      <td>24</td>\n",
       "      <td>24</td>\n",
       "      <td>24</td>\n",
       "      <td>24</td>\n",
       "      <td>24</td>\n",
       "      <td>24</td>\n",
       "      <td>24</td>\n",
       "      <td>24</td>\n",
       "      <td>24</td>\n",
       "      <td>24</td>\n",
       "      <td>24</td>\n",
       "      <td>24</td>\n",
       "      <td>24</td>\n",
       "      <td>24</td>\n",
       "    </tr>\n",
       "    <tr>\n",
       "      <th>67.0</th>\n",
       "      <td>31</td>\n",
       "      <td>31</td>\n",
       "      <td>31</td>\n",
       "      <td>31</td>\n",
       "      <td>31</td>\n",
       "      <td>31</td>\n",
       "      <td>31</td>\n",
       "      <td>31</td>\n",
       "      <td>31</td>\n",
       "      <td>31</td>\n",
       "      <td>31</td>\n",
       "      <td>31</td>\n",
       "      <td>31</td>\n",
       "      <td>31</td>\n",
       "    </tr>\n",
       "    <tr>\n",
       "      <th>68.0</th>\n",
       "      <td>32</td>\n",
       "      <td>32</td>\n",
       "      <td>32</td>\n",
       "      <td>32</td>\n",
       "      <td>32</td>\n",
       "      <td>32</td>\n",
       "      <td>32</td>\n",
       "      <td>32</td>\n",
       "      <td>32</td>\n",
       "      <td>32</td>\n",
       "      <td>32</td>\n",
       "      <td>32</td>\n",
       "      <td>32</td>\n",
       "      <td>32</td>\n",
       "    </tr>\n",
       "    <tr>\n",
       "      <th>69.0</th>\n",
       "      <td>10</td>\n",
       "      <td>10</td>\n",
       "      <td>10</td>\n",
       "      <td>10</td>\n",
       "      <td>10</td>\n",
       "      <td>10</td>\n",
       "      <td>10</td>\n",
       "      <td>10</td>\n",
       "      <td>10</td>\n",
       "      <td>10</td>\n",
       "      <td>10</td>\n",
       "      <td>10</td>\n",
       "      <td>10</td>\n",
       "      <td>10</td>\n",
       "    </tr>\n",
       "    <tr>\n",
       "      <th>70.0</th>\n",
       "      <td>15</td>\n",
       "      <td>15</td>\n",
       "      <td>15</td>\n",
       "      <td>15</td>\n",
       "      <td>15</td>\n",
       "      <td>15</td>\n",
       "      <td>15</td>\n",
       "      <td>15</td>\n",
       "      <td>15</td>\n",
       "      <td>15</td>\n",
       "      <td>15</td>\n",
       "      <td>15</td>\n",
       "      <td>15</td>\n",
       "      <td>15</td>\n",
       "    </tr>\n",
       "    <tr>\n",
       "      <th>71.0</th>\n",
       "      <td>12</td>\n",
       "      <td>12</td>\n",
       "      <td>12</td>\n",
       "      <td>12</td>\n",
       "      <td>12</td>\n",
       "      <td>12</td>\n",
       "      <td>12</td>\n",
       "      <td>12</td>\n",
       "      <td>12</td>\n",
       "      <td>12</td>\n",
       "      <td>11</td>\n",
       "      <td>12</td>\n",
       "      <td>12</td>\n",
       "      <td>12</td>\n",
       "    </tr>\n",
       "    <tr>\n",
       "      <th>72.0</th>\n",
       "      <td>14</td>\n",
       "      <td>14</td>\n",
       "      <td>14</td>\n",
       "      <td>14</td>\n",
       "      <td>14</td>\n",
       "      <td>14</td>\n",
       "      <td>14</td>\n",
       "      <td>14</td>\n",
       "      <td>14</td>\n",
       "      <td>14</td>\n",
       "      <td>14</td>\n",
       "      <td>14</td>\n",
       "      <td>14</td>\n",
       "      <td>14</td>\n",
       "    </tr>\n",
       "    <tr>\n",
       "      <th>73.0</th>\n",
       "      <td>10</td>\n",
       "      <td>10</td>\n",
       "      <td>10</td>\n",
       "      <td>10</td>\n",
       "      <td>10</td>\n",
       "      <td>10</td>\n",
       "      <td>10</td>\n",
       "      <td>10</td>\n",
       "      <td>10</td>\n",
       "      <td>10</td>\n",
       "      <td>10</td>\n",
       "      <td>10</td>\n",
       "      <td>10</td>\n",
       "      <td>10</td>\n",
       "    </tr>\n",
       "    <tr>\n",
       "      <th>74.0</th>\n",
       "      <td>8</td>\n",
       "      <td>8</td>\n",
       "      <td>8</td>\n",
       "      <td>8</td>\n",
       "      <td>8</td>\n",
       "      <td>8</td>\n",
       "      <td>8</td>\n",
       "      <td>8</td>\n",
       "      <td>8</td>\n",
       "      <td>8</td>\n",
       "      <td>8</td>\n",
       "      <td>8</td>\n",
       "      <td>8</td>\n",
       "      <td>8</td>\n",
       "    </tr>\n",
       "    <tr>\n",
       "      <th>75.0</th>\n",
       "      <td>3</td>\n",
       "      <td>3</td>\n",
       "      <td>3</td>\n",
       "      <td>3</td>\n",
       "      <td>3</td>\n",
       "      <td>3</td>\n",
       "      <td>3</td>\n",
       "      <td>3</td>\n",
       "      <td>3</td>\n",
       "      <td>3</td>\n",
       "      <td>3</td>\n",
       "      <td>3</td>\n",
       "      <td>3</td>\n",
       "      <td>3</td>\n",
       "    </tr>\n",
       "    <tr>\n",
       "      <th>76.0</th>\n",
       "      <td>4</td>\n",
       "      <td>4</td>\n",
       "      <td>4</td>\n",
       "      <td>4</td>\n",
       "      <td>4</td>\n",
       "      <td>4</td>\n",
       "      <td>4</td>\n",
       "      <td>4</td>\n",
       "      <td>4</td>\n",
       "      <td>4</td>\n",
       "      <td>4</td>\n",
       "      <td>4</td>\n",
       "      <td>4</td>\n",
       "      <td>4</td>\n",
       "    </tr>\n",
       "    <tr>\n",
       "      <th>77.0</th>\n",
       "      <td>5</td>\n",
       "      <td>5</td>\n",
       "      <td>5</td>\n",
       "      <td>5</td>\n",
       "      <td>5</td>\n",
       "      <td>5</td>\n",
       "      <td>5</td>\n",
       "      <td>5</td>\n",
       "      <td>5</td>\n",
       "      <td>5</td>\n",
       "      <td>5</td>\n",
       "      <td>5</td>\n",
       "      <td>5</td>\n",
       "      <td>5</td>\n",
       "    </tr>\n",
       "    <tr>\n",
       "      <th>78.0</th>\n",
       "      <td>1</td>\n",
       "      <td>1</td>\n",
       "      <td>1</td>\n",
       "      <td>1</td>\n",
       "      <td>1</td>\n",
       "      <td>1</td>\n",
       "      <td>1</td>\n",
       "      <td>1</td>\n",
       "      <td>1</td>\n",
       "      <td>1</td>\n",
       "      <td>1</td>\n",
       "      <td>1</td>\n",
       "      <td>1</td>\n",
       "      <td>1</td>\n",
       "    </tr>\n",
       "    <tr>\n",
       "      <th>80.0</th>\n",
       "      <td>5</td>\n",
       "      <td>5</td>\n",
       "      <td>5</td>\n",
       "      <td>5</td>\n",
       "      <td>5</td>\n",
       "      <td>5</td>\n",
       "      <td>5</td>\n",
       "      <td>5</td>\n",
       "      <td>5</td>\n",
       "      <td>5</td>\n",
       "      <td>5</td>\n",
       "      <td>5</td>\n",
       "      <td>5</td>\n",
       "      <td>5</td>\n",
       "    </tr>\n",
       "    <tr>\n",
       "      <th>81.0</th>\n",
       "      <td>2</td>\n",
       "      <td>2</td>\n",
       "      <td>2</td>\n",
       "      <td>2</td>\n",
       "      <td>2</td>\n",
       "      <td>2</td>\n",
       "      <td>2</td>\n",
       "      <td>2</td>\n",
       "      <td>2</td>\n",
       "      <td>2</td>\n",
       "      <td>2</td>\n",
       "      <td>2</td>\n",
       "      <td>2</td>\n",
       "      <td>2</td>\n",
       "    </tr>\n",
       "    <tr>\n",
       "      <th>82.0</th>\n",
       "      <td>1</td>\n",
       "      <td>1</td>\n",
       "      <td>1</td>\n",
       "      <td>1</td>\n",
       "      <td>1</td>\n",
       "      <td>1</td>\n",
       "      <td>1</td>\n",
       "      <td>1</td>\n",
       "      <td>1</td>\n",
       "      <td>1</td>\n",
       "      <td>1</td>\n",
       "      <td>1</td>\n",
       "      <td>1</td>\n",
       "      <td>1</td>\n",
       "    </tr>\n",
       "    <tr>\n",
       "      <th>83.0</th>\n",
       "      <td>1</td>\n",
       "      <td>1</td>\n",
       "      <td>1</td>\n",
       "      <td>1</td>\n",
       "      <td>1</td>\n",
       "      <td>1</td>\n",
       "      <td>1</td>\n",
       "      <td>1</td>\n",
       "      <td>1</td>\n",
       "      <td>1</td>\n",
       "      <td>1</td>\n",
       "      <td>1</td>\n",
       "      <td>1</td>\n",
       "      <td>1</td>\n",
       "    </tr>\n",
       "    <tr>\n",
       "      <th>84.0</th>\n",
       "      <td>1</td>\n",
       "      <td>1</td>\n",
       "      <td>1</td>\n",
       "      <td>1</td>\n",
       "      <td>1</td>\n",
       "      <td>1</td>\n",
       "      <td>1</td>\n",
       "      <td>1</td>\n",
       "      <td>1</td>\n",
       "      <td>1</td>\n",
       "      <td>1</td>\n",
       "      <td>1</td>\n",
       "      <td>1</td>\n",
       "      <td>1</td>\n",
       "    </tr>\n",
       "    <tr>\n",
       "      <th>85.0</th>\n",
       "      <td>2</td>\n",
       "      <td>2</td>\n",
       "      <td>2</td>\n",
       "      <td>2</td>\n",
       "      <td>2</td>\n",
       "      <td>2</td>\n",
       "      <td>2</td>\n",
       "      <td>2</td>\n",
       "      <td>2</td>\n",
       "      <td>2</td>\n",
       "      <td>2</td>\n",
       "      <td>2</td>\n",
       "      <td>2</td>\n",
       "      <td>2</td>\n",
       "    </tr>\n",
       "    <tr>\n",
       "      <th>87.0</th>\n",
       "      <td>1</td>\n",
       "      <td>1</td>\n",
       "      <td>1</td>\n",
       "      <td>1</td>\n",
       "      <td>1</td>\n",
       "      <td>1</td>\n",
       "      <td>1</td>\n",
       "      <td>1</td>\n",
       "      <td>1</td>\n",
       "      <td>1</td>\n",
       "      <td>1</td>\n",
       "      <td>1</td>\n",
       "      <td>1</td>\n",
       "      <td>1</td>\n",
       "    </tr>\n",
       "    <tr>\n",
       "      <th>88.0</th>\n",
       "      <td>1</td>\n",
       "      <td>1</td>\n",
       "      <td>1</td>\n",
       "      <td>1</td>\n",
       "      <td>1</td>\n",
       "      <td>1</td>\n",
       "      <td>1</td>\n",
       "      <td>1</td>\n",
       "      <td>1</td>\n",
       "      <td>1</td>\n",
       "      <td>1</td>\n",
       "      <td>1</td>\n",
       "      <td>1</td>\n",
       "      <td>1</td>\n",
       "    </tr>\n",
       "    <tr>\n",
       "      <th>90.0</th>\n",
       "      <td>3</td>\n",
       "      <td>3</td>\n",
       "      <td>3</td>\n",
       "      <td>3</td>\n",
       "      <td>3</td>\n",
       "      <td>3</td>\n",
       "      <td>3</td>\n",
       "      <td>3</td>\n",
       "      <td>3</td>\n",
       "      <td>3</td>\n",
       "      <td>3</td>\n",
       "      <td>3</td>\n",
       "      <td>3</td>\n",
       "      <td>3</td>\n",
       "    </tr>\n",
       "  </tbody>\n",
       "</table>\n",
       "<p>745 rows × 14 columns</p>\n",
       "</div>"
      ],
      "text/plain": [
       "                          id  date_account_created  timestamp_first_active  \\\n",
       "country_destination age                                                      \n",
       "AU                  18.0   1                     1                       1   \n",
       "                    19.0   6                     6                       6   \n",
       "                    20.0   1                     1                       1   \n",
       "                    21.0   1                     1                       1   \n",
       "                    22.0   2                     2                       2   \n",
       "                    23.0   3                     3                       3   \n",
       "                    24.0  11                    11                      11   \n",
       "                    25.0   5                     5                       5   \n",
       "                    26.0  14                    14                      14   \n",
       "                    27.0  21                    21                      21   \n",
       "                    28.0  20                    20                      20   \n",
       "                    29.0  28                    28                      28   \n",
       "                    30.0  35                    35                      35   \n",
       "                    31.0  14                    14                      14   \n",
       "                    32.0  18                    18                      18   \n",
       "                    33.0  21                    21                      21   \n",
       "                    34.0  11                    11                      11   \n",
       "                    35.0  12                    12                      12   \n",
       "                    36.0  16                    16                      16   \n",
       "                    37.0  18                    18                      18   \n",
       "                    38.0  19                    19                      19   \n",
       "                    39.0  17                    17                      17   \n",
       "                    40.0  10                    10                      10   \n",
       "                    41.0   8                     8                       8   \n",
       "                    42.0   6                     6                       6   \n",
       "                    43.0   8                     8                       8   \n",
       "                    44.0  10                    10                      10   \n",
       "                    45.0   7                     7                       7   \n",
       "                    46.0   8                     8                       8   \n",
       "                    47.0   8                     8                       8   \n",
       "...                       ..                   ...                     ...   \n",
       "other               58.0  51                    51                      51   \n",
       "                    59.0  39                    39                      39   \n",
       "                    60.0  42                    42                      42   \n",
       "                    61.0  35                    35                      35   \n",
       "                    62.0  30                    30                      30   \n",
       "                    63.0  43                    43                      43   \n",
       "                    64.0  29                    29                      29   \n",
       "                    65.0  23                    23                      23   \n",
       "                    66.0  24                    24                      24   \n",
       "                    67.0  31                    31                      31   \n",
       "                    68.0  32                    32                      32   \n",
       "                    69.0  10                    10                      10   \n",
       "                    70.0  15                    15                      15   \n",
       "                    71.0  12                    12                      12   \n",
       "                    72.0  14                    14                      14   \n",
       "                    73.0  10                    10                      10   \n",
       "                    74.0   8                     8                       8   \n",
       "                    75.0   3                     3                       3   \n",
       "                    76.0   4                     4                       4   \n",
       "                    77.0   5                     5                       5   \n",
       "                    78.0   1                     1                       1   \n",
       "                    80.0   5                     5                       5   \n",
       "                    81.0   2                     2                       2   \n",
       "                    82.0   1                     1                       1   \n",
       "                    83.0   1                     1                       1   \n",
       "                    84.0   1                     1                       1   \n",
       "                    85.0   2                     2                       2   \n",
       "                    87.0   1                     1                       1   \n",
       "                    88.0   1                     1                       1   \n",
       "                    90.0   3                     3                       3   \n",
       "\n",
       "                          date_first_booking  gender  signup_method  \\\n",
       "country_destination age                                               \n",
       "AU                  18.0                   1       1              1   \n",
       "                    19.0                   6       6              6   \n",
       "                    20.0                   1       1              1   \n",
       "                    21.0                   1       1              1   \n",
       "                    22.0                   2       2              2   \n",
       "                    23.0                   3       3              3   \n",
       "                    24.0                  11      11             11   \n",
       "                    25.0                   5       5              5   \n",
       "                    26.0                  14      14             14   \n",
       "                    27.0                  21      21             21   \n",
       "                    28.0                  20      20             20   \n",
       "                    29.0                  28      28             28   \n",
       "                    30.0                  35      35             35   \n",
       "                    31.0                  14      14             14   \n",
       "                    32.0                  18      18             18   \n",
       "                    33.0                  21      21             21   \n",
       "                    34.0                  11      11             11   \n",
       "                    35.0                  12      12             12   \n",
       "                    36.0                  16      16             16   \n",
       "                    37.0                  18      18             18   \n",
       "                    38.0                  19      19             19   \n",
       "                    39.0                  17      17             17   \n",
       "                    40.0                  10      10             10   \n",
       "                    41.0                   8       8              8   \n",
       "                    42.0                   6       6              6   \n",
       "                    43.0                   8       8              8   \n",
       "                    44.0                  10      10             10   \n",
       "                    45.0                   7       7              7   \n",
       "                    46.0                   8       8              8   \n",
       "                    47.0                   8       8              8   \n",
       "...                                      ...     ...            ...   \n",
       "other               58.0                  51      51             51   \n",
       "                    59.0                  39      39             39   \n",
       "                    60.0                  42      42             42   \n",
       "                    61.0                  35      35             35   \n",
       "                    62.0                  30      30             30   \n",
       "                    63.0                  43      43             43   \n",
       "                    64.0                  29      29             29   \n",
       "                    65.0                  23      23             23   \n",
       "                    66.0                  24      24             24   \n",
       "                    67.0                  31      31             31   \n",
       "                    68.0                  32      32             32   \n",
       "                    69.0                  10      10             10   \n",
       "                    70.0                  15      15             15   \n",
       "                    71.0                  12      12             12   \n",
       "                    72.0                  14      14             14   \n",
       "                    73.0                  10      10             10   \n",
       "                    74.0                   8       8              8   \n",
       "                    75.0                   3       3              3   \n",
       "                    76.0                   4       4              4   \n",
       "                    77.0                   5       5              5   \n",
       "                    78.0                   1       1              1   \n",
       "                    80.0                   5       5              5   \n",
       "                    81.0                   2       2              2   \n",
       "                    82.0                   1       1              1   \n",
       "                    83.0                   1       1              1   \n",
       "                    84.0                   1       1              1   \n",
       "                    85.0                   2       2              2   \n",
       "                    87.0                   1       1              1   \n",
       "                    88.0                   1       1              1   \n",
       "                    90.0                   3       3              3   \n",
       "\n",
       "                          signup_flow  language  affiliate_channel  \\\n",
       "country_destination age                                              \n",
       "AU                  18.0            1         1                  1   \n",
       "                    19.0            6         6                  6   \n",
       "                    20.0            1         1                  1   \n",
       "                    21.0            1         1                  1   \n",
       "                    22.0            2         2                  2   \n",
       "                    23.0            3         3                  3   \n",
       "                    24.0           11        11                 11   \n",
       "                    25.0            5         5                  5   \n",
       "                    26.0           14        14                 14   \n",
       "                    27.0           21        21                 21   \n",
       "                    28.0           20        20                 20   \n",
       "                    29.0           28        28                 28   \n",
       "                    30.0           35        35                 35   \n",
       "                    31.0           14        14                 14   \n",
       "                    32.0           18        18                 18   \n",
       "                    33.0           21        21                 21   \n",
       "                    34.0           11        11                 11   \n",
       "                    35.0           12        12                 12   \n",
       "                    36.0           16        16                 16   \n",
       "                    37.0           18        18                 18   \n",
       "                    38.0           19        19                 19   \n",
       "                    39.0           17        17                 17   \n",
       "                    40.0           10        10                 10   \n",
       "                    41.0            8         8                  8   \n",
       "                    42.0            6         6                  6   \n",
       "                    43.0            8         8                  8   \n",
       "                    44.0           10        10                 10   \n",
       "                    45.0            7         7                  7   \n",
       "                    46.0            8         8                  8   \n",
       "                    47.0            8         8                  8   \n",
       "...                               ...       ...                ...   \n",
       "other               58.0           51        51                 51   \n",
       "                    59.0           39        39                 39   \n",
       "                    60.0           42        42                 42   \n",
       "                    61.0           35        35                 35   \n",
       "                    62.0           30        30                 30   \n",
       "                    63.0           43        43                 43   \n",
       "                    64.0           29        29                 29   \n",
       "                    65.0           23        23                 23   \n",
       "                    66.0           24        24                 24   \n",
       "                    67.0           31        31                 31   \n",
       "                    68.0           32        32                 32   \n",
       "                    69.0           10        10                 10   \n",
       "                    70.0           15        15                 15   \n",
       "                    71.0           12        12                 12   \n",
       "                    72.0           14        14                 14   \n",
       "                    73.0           10        10                 10   \n",
       "                    74.0            8         8                  8   \n",
       "                    75.0            3         3                  3   \n",
       "                    76.0            4         4                  4   \n",
       "                    77.0            5         5                  5   \n",
       "                    78.0            1         1                  1   \n",
       "                    80.0            5         5                  5   \n",
       "                    81.0            2         2                  2   \n",
       "                    82.0            1         1                  1   \n",
       "                    83.0            1         1                  1   \n",
       "                    84.0            1         1                  1   \n",
       "                    85.0            2         2                  2   \n",
       "                    87.0            1         1                  1   \n",
       "                    88.0            1         1                  1   \n",
       "                    90.0            3         3                  3   \n",
       "\n",
       "                          affiliate_provider  first_affiliate_tracked  \\\n",
       "country_destination age                                                 \n",
       "AU                  18.0                   1                        1   \n",
       "                    19.0                   6                        6   \n",
       "                    20.0                   1                        1   \n",
       "                    21.0                   1                        1   \n",
       "                    22.0                   2                        2   \n",
       "                    23.0                   3                        3   \n",
       "                    24.0                  11                       11   \n",
       "                    25.0                   5                        5   \n",
       "                    26.0                  14                       14   \n",
       "                    27.0                  21                       21   \n",
       "                    28.0                  20                       20   \n",
       "                    29.0                  28                       28   \n",
       "                    30.0                  35                       35   \n",
       "                    31.0                  14                       14   \n",
       "                    32.0                  18                       18   \n",
       "                    33.0                  21                       20   \n",
       "                    34.0                  11                       11   \n",
       "                    35.0                  12                       12   \n",
       "                    36.0                  16                       15   \n",
       "                    37.0                  18                       18   \n",
       "                    38.0                  19                       19   \n",
       "                    39.0                  17                       17   \n",
       "                    40.0                  10                       10   \n",
       "                    41.0                   8                        8   \n",
       "                    42.0                   6                        6   \n",
       "                    43.0                   8                        8   \n",
       "                    44.0                  10                       10   \n",
       "                    45.0                   7                        7   \n",
       "                    46.0                   8                        8   \n",
       "                    47.0                   8                        8   \n",
       "...                                      ...                      ...   \n",
       "other               58.0                  51                       51   \n",
       "                    59.0                  39                       39   \n",
       "                    60.0                  42                       41   \n",
       "                    61.0                  35                       35   \n",
       "                    62.0                  30                       30   \n",
       "                    63.0                  43                       43   \n",
       "                    64.0                  29                       29   \n",
       "                    65.0                  23                       22   \n",
       "                    66.0                  24                       24   \n",
       "                    67.0                  31                       31   \n",
       "                    68.0                  32                       32   \n",
       "                    69.0                  10                       10   \n",
       "                    70.0                  15                       15   \n",
       "                    71.0                  12                       11   \n",
       "                    72.0                  14                       14   \n",
       "                    73.0                  10                       10   \n",
       "                    74.0                   8                        8   \n",
       "                    75.0                   3                        3   \n",
       "                    76.0                   4                        4   \n",
       "                    77.0                   5                        5   \n",
       "                    78.0                   1                        1   \n",
       "                    80.0                   5                        5   \n",
       "                    81.0                   2                        2   \n",
       "                    82.0                   1                        1   \n",
       "                    83.0                   1                        1   \n",
       "                    84.0                   1                        1   \n",
       "                    85.0                   2                        2   \n",
       "                    87.0                   1                        1   \n",
       "                    88.0                   1                        1   \n",
       "                    90.0                   3                        3   \n",
       "\n",
       "                          signup_app  first_device_type  first_browser  \n",
       "country_destination age                                                 \n",
       "AU                  18.0           1                  1              1  \n",
       "                    19.0           6                  6              6  \n",
       "                    20.0           1                  1              1  \n",
       "                    21.0           1                  1              1  \n",
       "                    22.0           2                  2              2  \n",
       "                    23.0           3                  3              3  \n",
       "                    24.0          11                 11             11  \n",
       "                    25.0           5                  5              5  \n",
       "                    26.0          14                 14             14  \n",
       "                    27.0          21                 21             21  \n",
       "                    28.0          20                 20             20  \n",
       "                    29.0          28                 28             28  \n",
       "                    30.0          35                 35             35  \n",
       "                    31.0          14                 14             14  \n",
       "                    32.0          18                 18             18  \n",
       "                    33.0          21                 21             21  \n",
       "                    34.0          11                 11             11  \n",
       "                    35.0          12                 12             12  \n",
       "                    36.0          16                 16             16  \n",
       "                    37.0          18                 18             18  \n",
       "                    38.0          19                 19             19  \n",
       "                    39.0          17                 17             17  \n",
       "                    40.0          10                 10             10  \n",
       "                    41.0           8                  8              8  \n",
       "                    42.0           6                  6              6  \n",
       "                    43.0           8                  8              8  \n",
       "                    44.0          10                 10             10  \n",
       "                    45.0           7                  7              7  \n",
       "                    46.0           8                  8              8  \n",
       "                    47.0           8                  8              8  \n",
       "...                              ...                ...            ...  \n",
       "other               58.0          51                 51             51  \n",
       "                    59.0          39                 39             39  \n",
       "                    60.0          42                 42             42  \n",
       "                    61.0          35                 35             35  \n",
       "                    62.0          30                 30             30  \n",
       "                    63.0          43                 43             43  \n",
       "                    64.0          29                 29             29  \n",
       "                    65.0          23                 23             23  \n",
       "                    66.0          24                 24             24  \n",
       "                    67.0          31                 31             31  \n",
       "                    68.0          32                 32             32  \n",
       "                    69.0          10                 10             10  \n",
       "                    70.0          15                 15             15  \n",
       "                    71.0          12                 12             12  \n",
       "                    72.0          14                 14             14  \n",
       "                    73.0          10                 10             10  \n",
       "                    74.0           8                  8              8  \n",
       "                    75.0           3                  3              3  \n",
       "                    76.0           4                  4              4  \n",
       "                    77.0           5                  5              5  \n",
       "                    78.0           1                  1              1  \n",
       "                    80.0           5                  5              5  \n",
       "                    81.0           2                  2              2  \n",
       "                    82.0           1                  1              1  \n",
       "                    83.0           1                  1              1  \n",
       "                    84.0           1                  1              1  \n",
       "                    85.0           2                  2              2  \n",
       "                    87.0           1                  1              1  \n",
       "                    88.0           1                  1              1  \n",
       "                    90.0           3                  3              3  \n",
       "\n",
       "[745 rows x 14 columns]"
      ]
     },
     "execution_count": 65,
     "metadata": {},
     "output_type": "execute_result"
    }
   ],
   "source": [
    " train_users.groupby(['country_destination','age']).count()"
   ]
  },
  {
   "cell_type": "code",
   "execution_count": 96,
   "metadata": {
    "ExecuteTime": {
     "end_time": "2019-03-08T01:19:18.177856Z",
     "start_time": "2019-03-08T01:19:17.521744Z"
    }
   },
   "outputs": [
    {
     "data": {
      "image/png": "[encoded data removed]",
      "text/plain": [
       "<matplotlib.figure.Figure at 0x118f506d8>"
      ]
     },
     "metadata": {},
     "output_type": "display_data"
    }
   ],
   "source": [
    "age = 50\n",
    "width = 0.4\n",
    "\n",
    "younger = sum(train_users.loc[train_users['age'] < age, 'country_destination'].value_counts())\n",
    "older = sum(train_users.loc[train_users['age'] > age, 'country_destination'].value_counts())\n",
    "\n",
    "younger_destinations = train_users.loc[train_users['age'] < age, 'country_destination'].value_counts() / younger * 100\n",
    "older_destinations = train_users.loc[train_users['age'] > age, 'country_destination'].value_counts() / older * 100\n",
    "\n",
    "younger_destinations.plot(kind='bar', width=width, color='#4DD3C9', position=0, label='Youngers', rot=0)\n",
    "older_destinations.plot(kind='bar', width=width, color='#FFA35D', position=1, label='Olders', rot=0)\n",
    "\n",
    "plt.legend()\n",
    "plt.xlabel('Destination Country')\n",
    "plt.ylabel('Percentage')\n",
    "plt.savefig(\"agedestination.png\")\n",
    "\n",
    "sns.despine()\n",
    "plt.show()"
   ]
  },
  {
   "cell_type": "markdown",
   "metadata": {},
   "source": [
    "##### Sessions"
   ]
  },
  {
   "cell_type": "markdown",
   "metadata": {},
   "source": [
    "The `sessions` table contains several entries for a subset of the users. Session data is available for approx. `63% of the users`. The top user has `more than 2700 sessions`.\n",
    "\n",
    "Each session entry contains information on\n",
    "- which action was taken (`action`)\n",
    "- which type of action that is (`action_type`)\n",
    "- a more detailed description of the action (`action_detail`) \n",
    "- the type of device that action was taken on (`device_type`)\n",
    "- how many seconds have passed since the last action was taken (`secs_elapsed`)"
   ]
  },
  {
   "cell_type": "code",
   "execution_count": 24,
   "metadata": {
    "ExecuteTime": {
     "end_time": "2019-03-07T19:19:42.543251Z",
     "start_time": "2019-03-07T19:19:29.680078Z"
    }
   },
   "outputs": [],
   "source": [
    "# load session dataset\n",
    "sessions = pd.read_csv(DATA_PATH / \"sessions.csv\")"
   ]
  },
  {
   "cell_type": "code",
   "execution_count": 25,
   "metadata": {
    "ExecuteTime": {
     "end_time": "2019-03-07T19:19:42.565919Z",
     "start_time": "2019-03-07T19:19:42.545749Z"
    }
   },
   "outputs": [
    {
     "data": {
      "text/html": [
       "<div>\n",
       "<style scoped>\n",
       "    .dataframe tbody tr th:only-of-type {\n",
       "        vertical-align: middle;\n",
       "    }\n",
       "\n",
       "    .dataframe tbody tr th {\n",
       "        vertical-align: top;\n",
       "    }\n",
       "\n",
       "    .dataframe thead th {\n",
       "        text-align: right;\n",
       "    }\n",
       "</style>\n",
       "<table border=\"1\" class=\"dataframe\">\n",
       "  <thead>\n",
       "    <tr style=\"text-align: right;\">\n",
       "      <th></th>\n",
       "      <th>user_id</th>\n",
       "      <th>action</th>\n",
       "      <th>action_type</th>\n",
       "      <th>action_detail</th>\n",
       "      <th>device_type</th>\n",
       "      <th>secs_elapsed</th>\n",
       "    </tr>\n",
       "  </thead>\n",
       "  <tbody>\n",
       "    <tr>\n",
       "      <th>0</th>\n",
       "      <td>d1mm9tcy42</td>\n",
       "      <td>lookup</td>\n",
       "      <td>NaN</td>\n",
       "      <td>NaN</td>\n",
       "      <td>Windows Desktop</td>\n",
       "      <td>319.0</td>\n",
       "    </tr>\n",
       "    <tr>\n",
       "      <th>1</th>\n",
       "      <td>d1mm9tcy42</td>\n",
       "      <td>search_results</td>\n",
       "      <td>click</td>\n",
       "      <td>view_search_results</td>\n",
       "      <td>Windows Desktop</td>\n",
       "      <td>67753.0</td>\n",
       "    </tr>\n",
       "    <tr>\n",
       "      <th>2</th>\n",
       "      <td>d1mm9tcy42</td>\n",
       "      <td>lookup</td>\n",
       "      <td>NaN</td>\n",
       "      <td>NaN</td>\n",
       "      <td>Windows Desktop</td>\n",
       "      <td>301.0</td>\n",
       "    </tr>\n",
       "    <tr>\n",
       "      <th>3</th>\n",
       "      <td>d1mm9tcy42</td>\n",
       "      <td>search_results</td>\n",
       "      <td>click</td>\n",
       "      <td>view_search_results</td>\n",
       "      <td>Windows Desktop</td>\n",
       "      <td>22141.0</td>\n",
       "    </tr>\n",
       "    <tr>\n",
       "      <th>4</th>\n",
       "      <td>d1mm9tcy42</td>\n",
       "      <td>lookup</td>\n",
       "      <td>NaN</td>\n",
       "      <td>NaN</td>\n",
       "      <td>Windows Desktop</td>\n",
       "      <td>435.0</td>\n",
       "    </tr>\n",
       "  </tbody>\n",
       "</table>\n",
       "</div>"
      ],
      "text/plain": [
       "      user_id          action action_type        action_detail  \\\n",
       "0  d1mm9tcy42          lookup         NaN                  NaN   \n",
       "1  d1mm9tcy42  search_results       click  view_search_results   \n",
       "2  d1mm9tcy42          lookup         NaN                  NaN   \n",
       "3  d1mm9tcy42  search_results       click  view_search_results   \n",
       "4  d1mm9tcy42          lookup         NaN                  NaN   \n",
       "\n",
       "       device_type  secs_elapsed  \n",
       "0  Windows Desktop         319.0  \n",
       "1  Windows Desktop       67753.0  \n",
       "2  Windows Desktop         301.0  \n",
       "3  Windows Desktop       22141.0  \n",
       "4  Windows Desktop         435.0  "
      ]
     },
     "execution_count": 25,
     "metadata": {},
     "output_type": "execute_result"
    }
   ],
   "source": [
    "sessions.head()"
   ]
  },
  {
   "cell_type": "code",
   "execution_count": 26,
   "metadata": {
    "ExecuteTime": {
     "end_time": "2019-03-07T19:19:42.579697Z",
     "start_time": "2019-03-07T19:19:42.571018Z"
    }
   },
   "outputs": [
    {
     "data": {
      "text/plain": [
       "(10567737, 6)"
      ]
     },
     "execution_count": 26,
     "metadata": {},
     "output_type": "execute_result"
    }
   ],
   "source": [
    "sessions.shape"
   ]
  },
  {
   "cell_type": "code",
   "execution_count": 27,
   "metadata": {
    "ExecuteTime": {
     "end_time": "2019-03-07T19:19:43.780256Z",
     "start_time": "2019-03-07T19:19:42.584628Z"
    }
   },
   "outputs": [
    {
     "data": {
      "text/plain": [
       "135483"
      ]
     },
     "execution_count": 27,
     "metadata": {},
     "output_type": "execute_result"
    }
   ],
   "source": [
    "sessions['user_id'].nunique()"
   ]
  },
  {
   "cell_type": "markdown",
   "metadata": {},
   "source": [
    "#### Prepare data for modeling"
   ]
  },
  {
   "cell_type": "markdown",
   "metadata": {},
   "source": [
    "##### Add aggregated sessions data"
   ]
  },
  {
   "cell_type": "code",
   "execution_count": 28,
   "metadata": {
    "ExecuteTime": {
     "end_time": "2019-03-07T19:19:51.376260Z",
     "start_time": "2019-03-07T19:19:43.784088Z"
    }
   },
   "outputs": [],
   "source": [
    "# rename the user_id column to id and drop the rows with missing \n",
    "sessions = (sessions\n",
    "            .rename({\"user_id\" : \"id\"}, axis=\"columns\")\n",
    "            .dropna(subset=[\"id\"])\n",
    "           )"
   ]
  },
  {
   "cell_type": "markdown",
   "metadata": {},
   "source": [
    "**Devices used to access AirBnB**"
   ]
  },
  {
   "cell_type": "code",
   "execution_count": 29,
   "metadata": {
    "ExecuteTime": {
     "end_time": "2019-03-07T19:19:51.976232Z",
     "start_time": "2019-03-07T19:19:51.379553Z"
    }
   },
   "outputs": [
    {
     "data": {
      "text/plain": [
       "14"
      ]
     },
     "execution_count": 29,
     "metadata": {},
     "output_type": "execute_result"
    }
   ],
   "source": [
    "# define the unique number of devices used by the users\n",
    "sessions.device_type.nunique()"
   ]
  },
  {
   "cell_type": "code",
   "execution_count": 30,
   "metadata": {
    "ExecuteTime": {
     "end_time": "2019-03-07T19:19:55.892578Z",
     "start_time": "2019-03-07T19:19:51.979494Z"
    }
   },
   "outputs": [],
   "source": [
    "# reshape the data frame based on the device types and the number of time they have been used by a single user\n",
    "sessions_device_type_count = (pd.DataFrame(sessions\n",
    "                                             .groupby(\"id\")\n",
    "                                             .device_type\n",
    "                                             .value_counts()\n",
    "                                          )\n",
    "                              .rename({\"device_type\" : \"count_sessions_device\"}, axis=\"columns\")\n",
    "                              .reset_index()\n",
    "                              .pivot(index=\"id\",\n",
    "                                     columns=\"device_type\",\n",
    "                                     values=\"count_sessions_device\")\n",
    "                              .reset_index()\n",
    "                              .fillna(-1)\n",
    "                             )"
   ]
  },
  {
   "cell_type": "code",
   "execution_count": 31,
   "metadata": {
    "ExecuteTime": {
     "end_time": "2019-03-07T19:19:55.907120Z",
     "start_time": "2019-03-07T19:19:55.895624Z"
    }
   },
   "outputs": [
    {
     "data": {
      "text/plain": [
       "(135483, 15)"
      ]
     },
     "execution_count": 31,
     "metadata": {},
     "output_type": "execute_result"
    }
   ],
   "source": [
    "sessions_device_type_count.shape"
   ]
  },
  {
   "cell_type": "code",
   "execution_count": 32,
   "metadata": {
    "ExecuteTime": {
     "end_time": "2019-03-07T19:19:55.948483Z",
     "start_time": "2019-03-07T19:19:55.910091Z"
    }
   },
   "outputs": [
    {
     "data": {
      "text/html": [
       "<div>\n",
       "<style scoped>\n",
       "    .dataframe tbody tr th:only-of-type {\n",
       "        vertical-align: middle;\n",
       "    }\n",
       "\n",
       "    .dataframe tbody tr th {\n",
       "        vertical-align: top;\n",
       "    }\n",
       "\n",
       "    .dataframe thead th {\n",
       "        text-align: right;\n",
       "    }\n",
       "</style>\n",
       "<table border=\"1\" class=\"dataframe\">\n",
       "  <thead>\n",
       "    <tr style=\"text-align: right;\">\n",
       "      <th>device_type</th>\n",
       "      <th>id</th>\n",
       "      <th>-unknown-</th>\n",
       "      <th>Android App Unknown Phone/Tablet</th>\n",
       "      <th>Android Phone</th>\n",
       "      <th>Blackberry</th>\n",
       "      <th>Chromebook</th>\n",
       "      <th>Linux Desktop</th>\n",
       "      <th>Mac Desktop</th>\n",
       "      <th>Opera Phone</th>\n",
       "      <th>Tablet</th>\n",
       "      <th>Windows Desktop</th>\n",
       "      <th>Windows Phone</th>\n",
       "      <th>iPad Tablet</th>\n",
       "      <th>iPhone</th>\n",
       "      <th>iPodtouch</th>\n",
       "    </tr>\n",
       "  </thead>\n",
       "  <tbody>\n",
       "    <tr>\n",
       "      <th>0</th>\n",
       "      <td>00023iyk9l</td>\n",
       "      <td>-1.0</td>\n",
       "      <td>-1.0</td>\n",
       "      <td>-1.0</td>\n",
       "      <td>-1.0</td>\n",
       "      <td>-1.0</td>\n",
       "      <td>-1.0</td>\n",
       "      <td>36.0</td>\n",
       "      <td>-1.0</td>\n",
       "      <td>-1.0</td>\n",
       "      <td>-1.0</td>\n",
       "      <td>-1.0</td>\n",
       "      <td>-1.0</td>\n",
       "      <td>4.0</td>\n",
       "      <td>-1.0</td>\n",
       "    </tr>\n",
       "    <tr>\n",
       "      <th>1</th>\n",
       "      <td>0010k6l0om</td>\n",
       "      <td>-1.0</td>\n",
       "      <td>-1.0</td>\n",
       "      <td>-1.0</td>\n",
       "      <td>-1.0</td>\n",
       "      <td>-1.0</td>\n",
       "      <td>-1.0</td>\n",
       "      <td>63.0</td>\n",
       "      <td>-1.0</td>\n",
       "      <td>-1.0</td>\n",
       "      <td>-1.0</td>\n",
       "      <td>-1.0</td>\n",
       "      <td>-1.0</td>\n",
       "      <td>-1.0</td>\n",
       "      <td>-1.0</td>\n",
       "    </tr>\n",
       "    <tr>\n",
       "      <th>2</th>\n",
       "      <td>001wyh0pz8</td>\n",
       "      <td>-1.0</td>\n",
       "      <td>90.0</td>\n",
       "      <td>-1.0</td>\n",
       "      <td>-1.0</td>\n",
       "      <td>-1.0</td>\n",
       "      <td>-1.0</td>\n",
       "      <td>-1.0</td>\n",
       "      <td>-1.0</td>\n",
       "      <td>-1.0</td>\n",
       "      <td>-1.0</td>\n",
       "      <td>-1.0</td>\n",
       "      <td>-1.0</td>\n",
       "      <td>-1.0</td>\n",
       "      <td>-1.0</td>\n",
       "    </tr>\n",
       "    <tr>\n",
       "      <th>3</th>\n",
       "      <td>0028jgx1x1</td>\n",
       "      <td>30.0</td>\n",
       "      <td>-1.0</td>\n",
       "      <td>1.0</td>\n",
       "      <td>-1.0</td>\n",
       "      <td>-1.0</td>\n",
       "      <td>-1.0</td>\n",
       "      <td>-1.0</td>\n",
       "      <td>-1.0</td>\n",
       "      <td>-1.0</td>\n",
       "      <td>-1.0</td>\n",
       "      <td>-1.0</td>\n",
       "      <td>-1.0</td>\n",
       "      <td>-1.0</td>\n",
       "      <td>-1.0</td>\n",
       "    </tr>\n",
       "    <tr>\n",
       "      <th>4</th>\n",
       "      <td>002qnbzfs5</td>\n",
       "      <td>14.0</td>\n",
       "      <td>-1.0</td>\n",
       "      <td>-1.0</td>\n",
       "      <td>-1.0</td>\n",
       "      <td>-1.0</td>\n",
       "      <td>-1.0</td>\n",
       "      <td>-1.0</td>\n",
       "      <td>-1.0</td>\n",
       "      <td>-1.0</td>\n",
       "      <td>-1.0</td>\n",
       "      <td>-1.0</td>\n",
       "      <td>-1.0</td>\n",
       "      <td>775.0</td>\n",
       "      <td>-1.0</td>\n",
       "    </tr>\n",
       "  </tbody>\n",
       "</table>\n",
       "</div>"
      ],
      "text/plain": [
       "device_type          id  -unknown-  Android App Unknown Phone/Tablet  \\\n",
       "0            00023iyk9l       -1.0                              -1.0   \n",
       "1            0010k6l0om       -1.0                              -1.0   \n",
       "2            001wyh0pz8       -1.0                              90.0   \n",
       "3            0028jgx1x1       30.0                              -1.0   \n",
       "4            002qnbzfs5       14.0                              -1.0   \n",
       "\n",
       "device_type  Android Phone  Blackberry  Chromebook  Linux Desktop  \\\n",
       "0                     -1.0        -1.0        -1.0           -1.0   \n",
       "1                     -1.0        -1.0        -1.0           -1.0   \n",
       "2                     -1.0        -1.0        -1.0           -1.0   \n",
       "3                      1.0        -1.0        -1.0           -1.0   \n",
       "4                     -1.0        -1.0        -1.0           -1.0   \n",
       "\n",
       "device_type  Mac Desktop  Opera Phone  Tablet  Windows Desktop  Windows Phone  \\\n",
       "0                   36.0         -1.0    -1.0             -1.0           -1.0   \n",
       "1                   63.0         -1.0    -1.0             -1.0           -1.0   \n",
       "2                   -1.0         -1.0    -1.0             -1.0           -1.0   \n",
       "3                   -1.0         -1.0    -1.0             -1.0           -1.0   \n",
       "4                   -1.0         -1.0    -1.0             -1.0           -1.0   \n",
       "\n",
       "device_type  iPad Tablet  iPhone  iPodtouch  \n",
       "0                   -1.0     4.0       -1.0  \n",
       "1                   -1.0    -1.0       -1.0  \n",
       "2                   -1.0    -1.0       -1.0  \n",
       "3                   -1.0    -1.0       -1.0  \n",
       "4                   -1.0   775.0       -1.0  "
      ]
     },
     "execution_count": 32,
     "metadata": {},
     "output_type": "execute_result"
    }
   ],
   "source": [
    "sessions_device_type_count.head()"
   ]
  },
  {
   "cell_type": "code",
   "execution_count": 33,
   "metadata": {
    "ExecuteTime": {
     "end_time": "2019-03-07T19:19:55.961896Z",
     "start_time": "2019-03-07T19:19:55.953462Z"
    }
   },
   "outputs": [],
   "source": [
    "# a mapper to rename the columns in sessions_device_type_count dataframe\n",
    "colname_mapper_devices = {c : f\"count_device_{c.replace(' ', '_').lower()}\"\n",
    "                          for c in sessions_device_type_count.columns\n",
    "                          if c != \"id\"}"
   ]
  },
  {
   "cell_type": "code",
   "execution_count": 34,
   "metadata": {
    "ExecuteTime": {
     "end_time": "2019-03-07T19:19:55.980679Z",
     "start_time": "2019-03-07T19:19:55.966420Z"
    }
   },
   "outputs": [],
   "source": [
    "# rename the column names in sessions_device_type_count dataframe\n",
    "sessions_device_type_count.rename(colname_mapper_devices, axis=\"columns\", inplace=True)"
   ]
  },
  {
   "cell_type": "code",
   "execution_count": 35,
   "metadata": {
    "ExecuteTime": {
     "end_time": "2019-03-07T19:19:56.012839Z",
     "start_time": "2019-03-07T19:19:55.983695Z"
    }
   },
   "outputs": [
    {
     "data": {
      "text/html": [
       "<div>\n",
       "<style scoped>\n",
       "    .dataframe tbody tr th:only-of-type {\n",
       "        vertical-align: middle;\n",
       "    }\n",
       "\n",
       "    .dataframe tbody tr th {\n",
       "        vertical-align: top;\n",
       "    }\n",
       "\n",
       "    .dataframe thead th {\n",
       "        text-align: right;\n",
       "    }\n",
       "</style>\n",
       "<table border=\"1\" class=\"dataframe\">\n",
       "  <thead>\n",
       "    <tr style=\"text-align: right;\">\n",
       "      <th>device_type</th>\n",
       "      <th>id</th>\n",
       "      <th>count_device_-unknown-</th>\n",
       "      <th>count_device_android_app_unknown_phone/tablet</th>\n",
       "      <th>count_device_android_phone</th>\n",
       "      <th>count_device_blackberry</th>\n",
       "      <th>count_device_chromebook</th>\n",
       "      <th>count_device_linux_desktop</th>\n",
       "      <th>count_device_mac_desktop</th>\n",
       "      <th>count_device_opera_phone</th>\n",
       "      <th>count_device_tablet</th>\n",
       "      <th>count_device_windows_desktop</th>\n",
       "      <th>count_device_windows_phone</th>\n",
       "      <th>count_device_ipad_tablet</th>\n",
       "      <th>count_device_iphone</th>\n",
       "      <th>count_device_ipodtouch</th>\n",
       "    </tr>\n",
       "  </thead>\n",
       "  <tbody>\n",
       "    <tr>\n",
       "      <th>0</th>\n",
       "      <td>00023iyk9l</td>\n",
       "      <td>-1.0</td>\n",
       "      <td>-1.0</td>\n",
       "      <td>-1.0</td>\n",
       "      <td>-1.0</td>\n",
       "      <td>-1.0</td>\n",
       "      <td>-1.0</td>\n",
       "      <td>36.0</td>\n",
       "      <td>-1.0</td>\n",
       "      <td>-1.0</td>\n",
       "      <td>-1.0</td>\n",
       "      <td>-1.0</td>\n",
       "      <td>-1.0</td>\n",
       "      <td>4.0</td>\n",
       "      <td>-1.0</td>\n",
       "    </tr>\n",
       "    <tr>\n",
       "      <th>1</th>\n",
       "      <td>0010k6l0om</td>\n",
       "      <td>-1.0</td>\n",
       "      <td>-1.0</td>\n",
       "      <td>-1.0</td>\n",
       "      <td>-1.0</td>\n",
       "      <td>-1.0</td>\n",
       "      <td>-1.0</td>\n",
       "      <td>63.0</td>\n",
       "      <td>-1.0</td>\n",
       "      <td>-1.0</td>\n",
       "      <td>-1.0</td>\n",
       "      <td>-1.0</td>\n",
       "      <td>-1.0</td>\n",
       "      <td>-1.0</td>\n",
       "      <td>-1.0</td>\n",
       "    </tr>\n",
       "    <tr>\n",
       "      <th>2</th>\n",
       "      <td>001wyh0pz8</td>\n",
       "      <td>-1.0</td>\n",
       "      <td>90.0</td>\n",
       "      <td>-1.0</td>\n",
       "      <td>-1.0</td>\n",
       "      <td>-1.0</td>\n",
       "      <td>-1.0</td>\n",
       "      <td>-1.0</td>\n",
       "      <td>-1.0</td>\n",
       "      <td>-1.0</td>\n",
       "      <td>-1.0</td>\n",
       "      <td>-1.0</td>\n",
       "      <td>-1.0</td>\n",
       "      <td>-1.0</td>\n",
       "      <td>-1.0</td>\n",
       "    </tr>\n",
       "    <tr>\n",
       "      <th>3</th>\n",
       "      <td>0028jgx1x1</td>\n",
       "      <td>30.0</td>\n",
       "      <td>-1.0</td>\n",
       "      <td>1.0</td>\n",
       "      <td>-1.0</td>\n",
       "      <td>-1.0</td>\n",
       "      <td>-1.0</td>\n",
       "      <td>-1.0</td>\n",
       "      <td>-1.0</td>\n",
       "      <td>-1.0</td>\n",
       "      <td>-1.0</td>\n",
       "      <td>-1.0</td>\n",
       "      <td>-1.0</td>\n",
       "      <td>-1.0</td>\n",
       "      <td>-1.0</td>\n",
       "    </tr>\n",
       "    <tr>\n",
       "      <th>4</th>\n",
       "      <td>002qnbzfs5</td>\n",
       "      <td>14.0</td>\n",
       "      <td>-1.0</td>\n",
       "      <td>-1.0</td>\n",
       "      <td>-1.0</td>\n",
       "      <td>-1.0</td>\n",
       "      <td>-1.0</td>\n",
       "      <td>-1.0</td>\n",
       "      <td>-1.0</td>\n",
       "      <td>-1.0</td>\n",
       "      <td>-1.0</td>\n",
       "      <td>-1.0</td>\n",
       "      <td>-1.0</td>\n",
       "      <td>775.0</td>\n",
       "      <td>-1.0</td>\n",
       "    </tr>\n",
       "  </tbody>\n",
       "</table>\n",
       "</div>"
      ],
      "text/plain": [
       "device_type          id  count_device_-unknown-  \\\n",
       "0            00023iyk9l                    -1.0   \n",
       "1            0010k6l0om                    -1.0   \n",
       "2            001wyh0pz8                    -1.0   \n",
       "3            0028jgx1x1                    30.0   \n",
       "4            002qnbzfs5                    14.0   \n",
       "\n",
       "device_type  count_device_android_app_unknown_phone/tablet  \\\n",
       "0                                                     -1.0   \n",
       "1                                                     -1.0   \n",
       "2                                                     90.0   \n",
       "3                                                     -1.0   \n",
       "4                                                     -1.0   \n",
       "\n",
       "device_type  count_device_android_phone  count_device_blackberry  \\\n",
       "0                                  -1.0                     -1.0   \n",
       "1                                  -1.0                     -1.0   \n",
       "2                                  -1.0                     -1.0   \n",
       "3                                   1.0                     -1.0   \n",
       "4                                  -1.0                     -1.0   \n",
       "\n",
       "device_type  count_device_chromebook  count_device_linux_desktop  \\\n",
       "0                               -1.0                        -1.0   \n",
       "1                               -1.0                        -1.0   \n",
       "2                               -1.0                        -1.0   \n",
       "3                               -1.0                        -1.0   \n",
       "4                               -1.0                        -1.0   \n",
       "\n",
       "device_type  count_device_mac_desktop  count_device_opera_phone  \\\n",
       "0                                36.0                      -1.0   \n",
       "1                                63.0                      -1.0   \n",
       "2                                -1.0                      -1.0   \n",
       "3                                -1.0                      -1.0   \n",
       "4                                -1.0                      -1.0   \n",
       "\n",
       "device_type  count_device_tablet  count_device_windows_desktop  \\\n",
       "0                           -1.0                          -1.0   \n",
       "1                           -1.0                          -1.0   \n",
       "2                           -1.0                          -1.0   \n",
       "3                           -1.0                          -1.0   \n",
       "4                           -1.0                          -1.0   \n",
       "\n",
       "device_type  count_device_windows_phone  count_device_ipad_tablet  \\\n",
       "0                                  -1.0                      -1.0   \n",
       "1                                  -1.0                      -1.0   \n",
       "2                                  -1.0                      -1.0   \n",
       "3                                  -1.0                      -1.0   \n",
       "4                                  -1.0                      -1.0   \n",
       "\n",
       "device_type  count_device_iphone  count_device_ipodtouch  \n",
       "0                            4.0                    -1.0  \n",
       "1                           -1.0                    -1.0  \n",
       "2                           -1.0                    -1.0  \n",
       "3                           -1.0                    -1.0  \n",
       "4                          775.0                    -1.0  "
      ]
     },
     "execution_count": 35,
     "metadata": {},
     "output_type": "execute_result"
    }
   ],
   "source": [
    "sessions_device_type_count.head()"
   ]
  },
  {
   "cell_type": "code",
   "execution_count": 36,
   "metadata": {
    "ExecuteTime": {
     "end_time": "2019-03-07T19:20:00.176899Z",
     "start_time": "2019-03-07T19:19:56.016602Z"
    }
   },
   "outputs": [],
   "source": [
    "# define the prefered device for each user\n",
    "sessions_preferred_device = (pd.DataFrame(sessions\n",
    "                                             .groupby(\"id\")\n",
    "                                             .device_type\n",
    "                                             .value_counts()\n",
    "                                             .groupby(level=0)\n",
    "                                             .head(1))\n",
    "                             .rename({\"device_type\" : \"to_drop\"}, axis=\"columns\")\n",
    "                             .reset_index()\n",
    "                             .rename({\"device_type\" : \"preferred_device\"}, axis=\"columns\")\n",
    "                             .drop(\"to_drop\", axis=\"columns\")\n",
    "                            )"
   ]
  },
  {
   "cell_type": "code",
   "execution_count": 37,
   "metadata": {
    "ExecuteTime": {
     "end_time": "2019-03-07T19:20:00.204082Z",
     "start_time": "2019-03-07T19:20:00.180788Z"
    }
   },
   "outputs": [
    {
     "data": {
      "text/html": [
       "<div>\n",
       "<style scoped>\n",
       "    .dataframe tbody tr th:only-of-type {\n",
       "        vertical-align: middle;\n",
       "    }\n",
       "\n",
       "    .dataframe tbody tr th {\n",
       "        vertical-align: top;\n",
       "    }\n",
       "\n",
       "    .dataframe thead th {\n",
       "        text-align: right;\n",
       "    }\n",
       "</style>\n",
       "<table border=\"1\" class=\"dataframe\">\n",
       "  <thead>\n",
       "    <tr style=\"text-align: right;\">\n",
       "      <th></th>\n",
       "      <th>id</th>\n",
       "      <th>preferred_device</th>\n",
       "    </tr>\n",
       "  </thead>\n",
       "  <tbody>\n",
       "    <tr>\n",
       "      <th>0</th>\n",
       "      <td>00023iyk9l</td>\n",
       "      <td>Mac Desktop</td>\n",
       "    </tr>\n",
       "    <tr>\n",
       "      <th>1</th>\n",
       "      <td>0010k6l0om</td>\n",
       "      <td>Mac Desktop</td>\n",
       "    </tr>\n",
       "    <tr>\n",
       "      <th>2</th>\n",
       "      <td>001wyh0pz8</td>\n",
       "      <td>Android App Unknown Phone/Tablet</td>\n",
       "    </tr>\n",
       "    <tr>\n",
       "      <th>3</th>\n",
       "      <td>0028jgx1x1</td>\n",
       "      <td>-unknown-</td>\n",
       "    </tr>\n",
       "    <tr>\n",
       "      <th>4</th>\n",
       "      <td>002qnbzfs5</td>\n",
       "      <td>iPhone</td>\n",
       "    </tr>\n",
       "  </tbody>\n",
       "</table>\n",
       "</div>"
      ],
      "text/plain": [
       "           id                  preferred_device\n",
       "0  00023iyk9l                       Mac Desktop\n",
       "1  0010k6l0om                       Mac Desktop\n",
       "2  001wyh0pz8  Android App Unknown Phone/Tablet\n",
       "3  0028jgx1x1                         -unknown-\n",
       "4  002qnbzfs5                            iPhone"
      ]
     },
     "execution_count": 37,
     "metadata": {},
     "output_type": "execute_result"
    }
   ],
   "source": [
    "sessions_preferred_device.head()"
   ]
  },
  {
   "cell_type": "markdown",
   "metadata": {
    "ExecuteTime": {
     "end_time": "2018-12-09T10:46:28.325984Z",
     "start_time": "2018-12-09T10:46:28.264499Z"
    }
   },
   "source": [
    "**Actions taken on AirBnB**"
   ]
  },
  {
   "cell_type": "code",
   "execution_count": 38,
   "metadata": {
    "ExecuteTime": {
     "end_time": "2019-03-07T19:20:02.426906Z",
     "start_time": "2019-03-07T19:20:00.208396Z"
    }
   },
   "outputs": [
    {
     "data": {
      "text/plain": [
       "359"
      ]
     },
     "execution_count": 38,
     "metadata": {},
     "output_type": "execute_result"
    }
   ],
   "source": [
    "sessions.action.nunique()"
   ]
  },
  {
   "cell_type": "markdown",
   "metadata": {},
   "source": [
    "There are many distinct values for \"action\", let's bin the long tail into a \"other\" category"
   ]
  },
  {
   "cell_type": "code",
   "execution_count": 39,
   "metadata": {
    "ExecuteTime": {
     "end_time": "2019-03-07T19:20:02.451611Z",
     "start_time": "2019-03-07T19:20:02.431360Z"
    }
   },
   "outputs": [],
   "source": [
    "def add_others(df_in, make_others, k=50):\n",
    "    df = df_in.copy()\n",
    "    for col in make_others:\n",
    "        cnts = df[col].value_counts()\n",
    "        df.loc[df.loc[:, col].isin(list(cnts.iloc[k-1:].index)), col] = \"Other\"\n",
    "        \n",
    "    return df"
   ]
  },
  {
   "cell_type": "code",
   "execution_count": 40,
   "metadata": {
    "ExecuteTime": {
     "end_time": "2019-03-07T19:20:07.502449Z",
     "start_time": "2019-03-07T19:20:02.460627Z"
    }
   },
   "outputs": [],
   "source": [
    "sessions = add_others(sessions, [\"action\"])"
   ]
  },
  {
   "cell_type": "code",
   "execution_count": 41,
   "metadata": {
    "ExecuteTime": {
     "end_time": "2019-03-07T19:20:07.539266Z",
     "start_time": "2019-03-07T19:20:07.505817Z"
    }
   },
   "outputs": [
    {
     "data": {
      "text/html": [
       "<div>\n",
       "<style scoped>\n",
       "    .dataframe tbody tr th:only-of-type {\n",
       "        vertical-align: middle;\n",
       "    }\n",
       "\n",
       "    .dataframe tbody tr th {\n",
       "        vertical-align: top;\n",
       "    }\n",
       "\n",
       "    .dataframe thead th {\n",
       "        text-align: right;\n",
       "    }\n",
       "</style>\n",
       "<table border=\"1\" class=\"dataframe\">\n",
       "  <thead>\n",
       "    <tr style=\"text-align: right;\">\n",
       "      <th></th>\n",
       "      <th>id</th>\n",
       "      <th>action</th>\n",
       "      <th>action_type</th>\n",
       "      <th>action_detail</th>\n",
       "      <th>device_type</th>\n",
       "      <th>secs_elapsed</th>\n",
       "    </tr>\n",
       "  </thead>\n",
       "  <tbody>\n",
       "    <tr>\n",
       "      <th>0</th>\n",
       "      <td>d1mm9tcy42</td>\n",
       "      <td>lookup</td>\n",
       "      <td>NaN</td>\n",
       "      <td>NaN</td>\n",
       "      <td>Windows Desktop</td>\n",
       "      <td>319.0</td>\n",
       "    </tr>\n",
       "    <tr>\n",
       "      <th>1</th>\n",
       "      <td>d1mm9tcy42</td>\n",
       "      <td>search_results</td>\n",
       "      <td>click</td>\n",
       "      <td>view_search_results</td>\n",
       "      <td>Windows Desktop</td>\n",
       "      <td>67753.0</td>\n",
       "    </tr>\n",
       "    <tr>\n",
       "      <th>2</th>\n",
       "      <td>d1mm9tcy42</td>\n",
       "      <td>lookup</td>\n",
       "      <td>NaN</td>\n",
       "      <td>NaN</td>\n",
       "      <td>Windows Desktop</td>\n",
       "      <td>301.0</td>\n",
       "    </tr>\n",
       "    <tr>\n",
       "      <th>3</th>\n",
       "      <td>d1mm9tcy42</td>\n",
       "      <td>search_results</td>\n",
       "      <td>click</td>\n",
       "      <td>view_search_results</td>\n",
       "      <td>Windows Desktop</td>\n",
       "      <td>22141.0</td>\n",
       "    </tr>\n",
       "    <tr>\n",
       "      <th>4</th>\n",
       "      <td>d1mm9tcy42</td>\n",
       "      <td>lookup</td>\n",
       "      <td>NaN</td>\n",
       "      <td>NaN</td>\n",
       "      <td>Windows Desktop</td>\n",
       "      <td>435.0</td>\n",
       "    </tr>\n",
       "    <tr>\n",
       "      <th>5</th>\n",
       "      <td>d1mm9tcy42</td>\n",
       "      <td>search_results</td>\n",
       "      <td>click</td>\n",
       "      <td>view_search_results</td>\n",
       "      <td>Windows Desktop</td>\n",
       "      <td>7703.0</td>\n",
       "    </tr>\n",
       "    <tr>\n",
       "      <th>6</th>\n",
       "      <td>d1mm9tcy42</td>\n",
       "      <td>lookup</td>\n",
       "      <td>NaN</td>\n",
       "      <td>NaN</td>\n",
       "      <td>Windows Desktop</td>\n",
       "      <td>115.0</td>\n",
       "    </tr>\n",
       "    <tr>\n",
       "      <th>7</th>\n",
       "      <td>d1mm9tcy42</td>\n",
       "      <td>personalize</td>\n",
       "      <td>data</td>\n",
       "      <td>wishlist_content_update</td>\n",
       "      <td>Windows Desktop</td>\n",
       "      <td>831.0</td>\n",
       "    </tr>\n",
       "    <tr>\n",
       "      <th>8</th>\n",
       "      <td>d1mm9tcy42</td>\n",
       "      <td>index</td>\n",
       "      <td>view</td>\n",
       "      <td>view_search_results</td>\n",
       "      <td>Windows Desktop</td>\n",
       "      <td>20842.0</td>\n",
       "    </tr>\n",
       "    <tr>\n",
       "      <th>9</th>\n",
       "      <td>d1mm9tcy42</td>\n",
       "      <td>lookup</td>\n",
       "      <td>NaN</td>\n",
       "      <td>NaN</td>\n",
       "      <td>Windows Desktop</td>\n",
       "      <td>683.0</td>\n",
       "    </tr>\n",
       "    <tr>\n",
       "      <th>10</th>\n",
       "      <td>d1mm9tcy42</td>\n",
       "      <td>search_results</td>\n",
       "      <td>click</td>\n",
       "      <td>view_search_results</td>\n",
       "      <td>Windows Desktop</td>\n",
       "      <td>59274.0</td>\n",
       "    </tr>\n",
       "    <tr>\n",
       "      <th>11</th>\n",
       "      <td>d1mm9tcy42</td>\n",
       "      <td>lookup</td>\n",
       "      <td>NaN</td>\n",
       "      <td>NaN</td>\n",
       "      <td>Windows Desktop</td>\n",
       "      <td>95.0</td>\n",
       "    </tr>\n",
       "    <tr>\n",
       "      <th>12</th>\n",
       "      <td>d1mm9tcy42</td>\n",
       "      <td>personalize</td>\n",
       "      <td>data</td>\n",
       "      <td>wishlist_content_update</td>\n",
       "      <td>Windows Desktop</td>\n",
       "      <td>1399.0</td>\n",
       "    </tr>\n",
       "    <tr>\n",
       "      <th>13</th>\n",
       "      <td>d1mm9tcy42</td>\n",
       "      <td>index</td>\n",
       "      <td>view</td>\n",
       "      <td>view_search_results</td>\n",
       "      <td>Windows Desktop</td>\n",
       "      <td>74886.0</td>\n",
       "    </tr>\n",
       "    <tr>\n",
       "      <th>14</th>\n",
       "      <td>d1mm9tcy42</td>\n",
       "      <td>similar_listings</td>\n",
       "      <td>data</td>\n",
       "      <td>similar_listings</td>\n",
       "      <td>Windows Desktop</td>\n",
       "      <td>255.0</td>\n",
       "    </tr>\n",
       "    <tr>\n",
       "      <th>15</th>\n",
       "      <td>d1mm9tcy42</td>\n",
       "      <td>ajax_refresh_subtotal</td>\n",
       "      <td>click</td>\n",
       "      <td>change_trip_characteristics</td>\n",
       "      <td>Windows Desktop</td>\n",
       "      <td>8134.0</td>\n",
       "    </tr>\n",
       "    <tr>\n",
       "      <th>16</th>\n",
       "      <td>d1mm9tcy42</td>\n",
       "      <td>similar_listings</td>\n",
       "      <td>data</td>\n",
       "      <td>similar_listings</td>\n",
       "      <td>Windows Desktop</td>\n",
       "      <td>183.0</td>\n",
       "    </tr>\n",
       "    <tr>\n",
       "      <th>17</th>\n",
       "      <td>d1mm9tcy42</td>\n",
       "      <td>ajax_refresh_subtotal</td>\n",
       "      <td>click</td>\n",
       "      <td>change_trip_characteristics</td>\n",
       "      <td>Windows Desktop</td>\n",
       "      <td>175570.0</td>\n",
       "    </tr>\n",
       "    <tr>\n",
       "      <th>18</th>\n",
       "      <td>d1mm9tcy42</td>\n",
       "      <td>show</td>\n",
       "      <td>NaN</td>\n",
       "      <td>NaN</td>\n",
       "      <td>Windows Desktop</td>\n",
       "      <td>86.0</td>\n",
       "    </tr>\n",
       "    <tr>\n",
       "      <th>19</th>\n",
       "      <td>d1mm9tcy42</td>\n",
       "      <td>personalize</td>\n",
       "      <td>data</td>\n",
       "      <td>wishlist_content_update</td>\n",
       "      <td>Windows Desktop</td>\n",
       "      <td>1535.0</td>\n",
       "    </tr>\n",
       "  </tbody>\n",
       "</table>\n",
       "</div>"
      ],
      "text/plain": [
       "            id                 action action_type  \\\n",
       "0   d1mm9tcy42                 lookup         NaN   \n",
       "1   d1mm9tcy42         search_results       click   \n",
       "2   d1mm9tcy42                 lookup         NaN   \n",
       "3   d1mm9tcy42         search_results       click   \n",
       "4   d1mm9tcy42                 lookup         NaN   \n",
       "5   d1mm9tcy42         search_results       click   \n",
       "6   d1mm9tcy42                 lookup         NaN   \n",
       "7   d1mm9tcy42            personalize        data   \n",
       "8   d1mm9tcy42                  index        view   \n",
       "9   d1mm9tcy42                 lookup         NaN   \n",
       "10  d1mm9tcy42         search_results       click   \n",
       "11  d1mm9tcy42                 lookup         NaN   \n",
       "12  d1mm9tcy42            personalize        data   \n",
       "13  d1mm9tcy42                  index        view   \n",
       "14  d1mm9tcy42       similar_listings        data   \n",
       "15  d1mm9tcy42  ajax_refresh_subtotal       click   \n",
       "16  d1mm9tcy42       similar_listings        data   \n",
       "17  d1mm9tcy42  ajax_refresh_subtotal       click   \n",
       "18  d1mm9tcy42                   show         NaN   \n",
       "19  d1mm9tcy42            personalize        data   \n",
       "\n",
       "                  action_detail      device_type  secs_elapsed  \n",
       "0                           NaN  Windows Desktop         319.0  \n",
       "1           view_search_results  Windows Desktop       67753.0  \n",
       "2                           NaN  Windows Desktop         301.0  \n",
       "3           view_search_results  Windows Desktop       22141.0  \n",
       "4                           NaN  Windows Desktop         435.0  \n",
       "5           view_search_results  Windows Desktop        7703.0  \n",
       "6                           NaN  Windows Desktop         115.0  \n",
       "7       wishlist_content_update  Windows Desktop         831.0  \n",
       "8           view_search_results  Windows Desktop       20842.0  \n",
       "9                           NaN  Windows Desktop         683.0  \n",
       "10          view_search_results  Windows Desktop       59274.0  \n",
       "11                          NaN  Windows Desktop          95.0  \n",
       "12      wishlist_content_update  Windows Desktop        1399.0  \n",
       "13          view_search_results  Windows Desktop       74886.0  \n",
       "14             similar_listings  Windows Desktop         255.0  \n",
       "15  change_trip_characteristics  Windows Desktop        8134.0  \n",
       "16             similar_listings  Windows Desktop         183.0  \n",
       "17  change_trip_characteristics  Windows Desktop      175570.0  \n",
       "18                          NaN  Windows Desktop          86.0  \n",
       "19      wishlist_content_update  Windows Desktop        1535.0  "
      ]
     },
     "execution_count": 41,
     "metadata": {},
     "output_type": "execute_result"
    }
   ],
   "source": [
    "sessions.head(20)"
   ]
  },
  {
   "cell_type": "code",
   "execution_count": 42,
   "metadata": {
    "ExecuteTime": {
     "end_time": "2019-03-07T19:20:15.274206Z",
     "start_time": "2019-03-07T19:20:07.545059Z"
    }
   },
   "outputs": [],
   "source": [
    "sessions_action_count = (pd.DataFrame(sessions\n",
    "                                             .groupby(\"id\")\n",
    "                                             .action\n",
    "                                             .value_counts()\n",
    "                                          )\n",
    "                              .rename({\"action\" : \"count_sessions_action\"}, axis=\"columns\")\n",
    "                              .reset_index()\n",
    "                              .pivot(index=\"id\",\n",
    "                                     columns=\"action\",\n",
    "                                     values=\"count_sessions_action\")\n",
    "                              .reset_index()\n",
    "                              .fillna(-1)\n",
    "                             )"
   ]
  },
  {
   "cell_type": "code",
   "execution_count": 43,
   "metadata": {
    "ExecuteTime": {
     "end_time": "2019-03-07T19:20:15.291541Z",
     "start_time": "2019-03-07T19:20:15.277526Z"
    }
   },
   "outputs": [],
   "source": [
    "colname_mapper_actions = {c : f\"count_action_{c.replace(' ', '_').lower()}\"\n",
    "                          for c in sessions_action_count.columns\n",
    "                          if c != \"id\"}"
   ]
  },
  {
   "cell_type": "code",
   "execution_count": 44,
   "metadata": {
    "ExecuteTime": {
     "end_time": "2019-03-07T19:20:15.327450Z",
     "start_time": "2019-03-07T19:20:15.296037Z"
    }
   },
   "outputs": [],
   "source": [
    "sessions_action_count.rename(colname_mapper_actions, axis=\"columns\", inplace=True)"
   ]
  },
  {
   "cell_type": "markdown",
   "metadata": {},
   "source": [
    "**Summary statistics of time elapsed, i.e. time spent in interaction with AirBnB**"
   ]
  },
  {
   "cell_type": "code",
   "execution_count": 45,
   "metadata": {
    "ExecuteTime": {
     "end_time": "2019-03-07T19:20:18.333677Z",
     "start_time": "2019-03-07T19:20:15.330315Z"
    }
   },
   "outputs": [],
   "source": [
    "sessions_agg_elapsed = (pd.DataFrame(sessions\n",
    "                                          .groupby(\"id\")\n",
    "                                          .secs_elapsed\n",
    "                                          .agg([\"min\", \"median\", \"max\"]))\n",
    "                         .reset_index()\n",
    "                       )"
   ]
  },
  {
   "cell_type": "code",
   "execution_count": 46,
   "metadata": {
    "ExecuteTime": {
     "end_time": "2019-03-07T19:20:18.343335Z",
     "start_time": "2019-03-07T19:20:18.337233Z"
    }
   },
   "outputs": [],
   "source": [
    "colname_mapper_secs_elapsed = {c : f\"{c}_secs_elapsed\"\n",
    "                               for c in sessions_agg_elapsed.columns\n",
    "                               if c != \"id\"}"
   ]
  },
  {
   "cell_type": "code",
   "execution_count": 47,
   "metadata": {
    "ExecuteTime": {
     "end_time": "2019-03-07T19:20:18.363495Z",
     "start_time": "2019-03-07T19:20:18.347734Z"
    }
   },
   "outputs": [],
   "source": [
    "sessions_agg_elapsed.rename(colname_mapper_secs_elapsed, axis=\"columns\", inplace=True)"
   ]
  },
  {
   "cell_type": "code",
   "execution_count": null,
   "metadata": {},
   "outputs": [],
   "source": []
  },
  {
   "cell_type": "markdown",
   "metadata": {},
   "source": [
    "**Combine all sessions features into a single dataframe and merge with train data**"
   ]
  },
  {
   "cell_type": "code",
   "execution_count": 48,
   "metadata": {
    "ExecuteTime": {
     "end_time": "2019-03-07T19:20:19.059897Z",
     "start_time": "2019-03-07T19:20:18.367146Z"
    }
   },
   "outputs": [],
   "source": [
    "sessions_features = (sessions_agg_elapsed\n",
    "                     .merge(sessions_action_count, how=\"outer\", on=\"id\")\n",
    "                     .merge(sessions_device_type_count, how=\"outer\", on=\"id\")\n",
    "                     .merge(sessions_preferred_device, how=\"outer\", on=\"id\")\n",
    "                    )"
   ]
  },
  {
   "cell_type": "markdown",
   "metadata": {},
   "source": [
    "Gather feature names to fill NAs later on"
   ]
  },
  {
   "cell_type": "code",
   "execution_count": 49,
   "metadata": {
    "ExecuteTime": {
     "end_time": "2019-03-07T19:20:19.070185Z",
     "start_time": "2019-03-07T19:20:19.063257Z"
    }
   },
   "outputs": [],
   "source": [
    "session_action_count_features = list(colname_mapper_actions.values())\n",
    "session_agg_elapsed_features = list(colname_mapper_secs_elapsed.values())\n",
    "session_count_device_features = list(colname_mapper_devices.values())"
   ]
  },
  {
   "cell_type": "code",
   "execution_count": 50,
   "metadata": {
    "ExecuteTime": {
     "end_time": "2019-03-07T19:20:20.251241Z",
     "start_time": "2019-03-07T19:20:19.076124Z"
    }
   },
   "outputs": [],
   "source": [
    "train_users_sessions = pd.merge(train_users,\n",
    "                                sessions_features,\n",
    "                                how=\"left\",\n",
    "                                on=\"id\")"
   ]
  },
  {
   "cell_type": "code",
   "execution_count": 51,
   "metadata": {
    "ExecuteTime": {
     "end_time": "2019-03-07T19:20:20.275846Z",
     "start_time": "2019-03-07T19:20:20.258424Z"
    }
   },
   "outputs": [
    {
     "data": {
      "text/plain": [
       "((213451, 16), (213451, 84))"
      ]
     },
     "execution_count": 51,
     "metadata": {},
     "output_type": "execute_result"
    }
   ],
   "source": [
    "train_users.shape, train_users_sessions.shape"
   ]
  },
  {
   "cell_type": "markdown",
   "metadata": {},
   "source": [
    "#### Save intermediate result"
   ]
  },
  {
   "cell_type": "code",
   "execution_count": 52,
   "metadata": {
    "ExecuteTime": {
     "end_time": "2019-03-07T19:20:21.314750Z",
     "start_time": "2019-03-07T19:20:20.280382Z"
    }
   },
   "outputs": [],
   "source": [
    "DATA_OUTPUT_PATH = Path.cwd() / \"output\"\n",
    "\n",
    "if not DATA_OUTPUT_PATH.is_dir():\n",
    "    DATA_OUTPUT_PATH.mkdir()\n",
    "    \n",
    "train_users_sessions.to_pickle(DATA_OUTPUT_PATH / \"train_users_sessions.pkl\")"
   ]
  },
  {
   "cell_type": "markdown",
   "metadata": {},
   "source": [
    "### Modeling"
   ]
  },
  {
   "cell_type": "markdown",
   "metadata": {},
   "source": [
    "#### Read in data"
   ]
  },
  {
   "cell_type": "code",
   "execution_count": 53,
   "metadata": {
    "ExecuteTime": {
     "end_time": "2019-03-07T19:20:21.324537Z",
     "start_time": "2019-03-07T19:20:21.317822Z"
    }
   },
   "outputs": [],
   "source": [
    "DATA_OUTPUT_PATH = Path.cwd() / \"output\""
   ]
  },
  {
   "cell_type": "code",
   "execution_count": 54,
   "metadata": {
    "ExecuteTime": {
     "end_time": "2019-03-07T19:20:21.902063Z",
     "start_time": "2019-03-07T19:20:21.329523Z"
    }
   },
   "outputs": [],
   "source": [
    "train_users_sessions = pd.read_pickle(DATA_OUTPUT_PATH / \"train_users_sessions.pkl\")"
   ]
  },
  {
   "cell_type": "code",
   "execution_count": 55,
   "metadata": {
    "ExecuteTime": {
     "end_time": "2019-03-07T19:20:23.012308Z",
     "start_time": "2019-03-07T19:20:21.908875Z"
    }
   },
   "outputs": [],
   "source": [
    "df = (train_users_sessions\n",
    "      .set_index(\"id\")\n",
    "      .sort_values(by=\"date_account_created\")\n",
    "      .drop([\"date_account_created\", \"date_first_booking\"], axis=1))"
   ]
  },
  {
   "cell_type": "code",
   "execution_count": 56,
   "metadata": {
    "ExecuteTime": {
     "end_time": "2019-03-07T19:20:23.078740Z",
     "start_time": "2019-03-07T19:20:23.015185Z"
    }
   },
   "outputs": [
    {
     "data": {
      "text/html": [
       "<div>\n",
       "<style scoped>\n",
       "    .dataframe tbody tr th:only-of-type {\n",
       "        vertical-align: middle;\n",
       "    }\n",
       "\n",
       "    .dataframe tbody tr th {\n",
       "        vertical-align: top;\n",
       "    }\n",
       "\n",
       "    .dataframe thead th {\n",
       "        text-align: right;\n",
       "    }\n",
       "</style>\n",
       "<table border=\"1\" class=\"dataframe\">\n",
       "  <thead>\n",
       "    <tr style=\"text-align: right;\">\n",
       "      <th></th>\n",
       "      <th>timestamp_first_active</th>\n",
       "      <th>gender</th>\n",
       "      <th>age</th>\n",
       "      <th>signup_method</th>\n",
       "      <th>signup_flow</th>\n",
       "      <th>language</th>\n",
       "      <th>affiliate_channel</th>\n",
       "      <th>affiliate_provider</th>\n",
       "      <th>first_affiliate_tracked</th>\n",
       "      <th>signup_app</th>\n",
       "      <th>...</th>\n",
       "      <th>count_device_linux_desktop</th>\n",
       "      <th>count_device_mac_desktop</th>\n",
       "      <th>count_device_opera_phone</th>\n",
       "      <th>count_device_tablet</th>\n",
       "      <th>count_device_windows_desktop</th>\n",
       "      <th>count_device_windows_phone</th>\n",
       "      <th>count_device_ipad_tablet</th>\n",
       "      <th>count_device_iphone</th>\n",
       "      <th>count_device_ipodtouch</th>\n",
       "      <th>preferred_device</th>\n",
       "    </tr>\n",
       "    <tr>\n",
       "      <th>id</th>\n",
       "      <th></th>\n",
       "      <th></th>\n",
       "      <th></th>\n",
       "      <th></th>\n",
       "      <th></th>\n",
       "      <th></th>\n",
       "      <th></th>\n",
       "      <th></th>\n",
       "      <th></th>\n",
       "      <th></th>\n",
       "      <th></th>\n",
       "      <th></th>\n",
       "      <th></th>\n",
       "      <th></th>\n",
       "      <th></th>\n",
       "      <th></th>\n",
       "      <th></th>\n",
       "      <th></th>\n",
       "      <th></th>\n",
       "      <th></th>\n",
       "      <th></th>\n",
       "    </tr>\n",
       "  </thead>\n",
       "  <tbody>\n",
       "    <tr>\n",
       "      <th>osr2jwljor</th>\n",
       "      <td>20100101215619</td>\n",
       "      <td>-unknown-</td>\n",
       "      <td>NaN</td>\n",
       "      <td>basic</td>\n",
       "      <td>0</td>\n",
       "      <td>en</td>\n",
       "      <td>other</td>\n",
       "      <td>other</td>\n",
       "      <td>omg</td>\n",
       "      <td>Web</td>\n",
       "      <td>...</td>\n",
       "      <td>NaN</td>\n",
       "      <td>NaN</td>\n",
       "      <td>NaN</td>\n",
       "      <td>NaN</td>\n",
       "      <td>NaN</td>\n",
       "      <td>NaN</td>\n",
       "      <td>NaN</td>\n",
       "      <td>NaN</td>\n",
       "      <td>NaN</td>\n",
       "      <td>NaN</td>\n",
       "    </tr>\n",
       "    <tr>\n",
       "      <th>lsw9q7uk0j</th>\n",
       "      <td>20100102012558</td>\n",
       "      <td>FEMALE</td>\n",
       "      <td>46.0</td>\n",
       "      <td>basic</td>\n",
       "      <td>0</td>\n",
       "      <td>en</td>\n",
       "      <td>other</td>\n",
       "      <td>craigslist</td>\n",
       "      <td>untracked</td>\n",
       "      <td>Web</td>\n",
       "      <td>...</td>\n",
       "      <td>NaN</td>\n",
       "      <td>NaN</td>\n",
       "      <td>NaN</td>\n",
       "      <td>NaN</td>\n",
       "      <td>NaN</td>\n",
       "      <td>NaN</td>\n",
       "      <td>NaN</td>\n",
       "      <td>NaN</td>\n",
       "      <td>NaN</td>\n",
       "      <td>NaN</td>\n",
       "    </tr>\n",
       "    <tr>\n",
       "      <th>0d01nltbrs</th>\n",
       "      <td>20100103191905</td>\n",
       "      <td>FEMALE</td>\n",
       "      <td>47.0</td>\n",
       "      <td>basic</td>\n",
       "      <td>0</td>\n",
       "      <td>en</td>\n",
       "      <td>direct</td>\n",
       "      <td>direct</td>\n",
       "      <td>omg</td>\n",
       "      <td>Web</td>\n",
       "      <td>...</td>\n",
       "      <td>NaN</td>\n",
       "      <td>NaN</td>\n",
       "      <td>NaN</td>\n",
       "      <td>NaN</td>\n",
       "      <td>NaN</td>\n",
       "      <td>NaN</td>\n",
       "      <td>NaN</td>\n",
       "      <td>NaN</td>\n",
       "      <td>NaN</td>\n",
       "      <td>NaN</td>\n",
       "    </tr>\n",
       "    <tr>\n",
       "      <th>6uh8zyj2gn</th>\n",
       "      <td>20100104023758</td>\n",
       "      <td>-unknown-</td>\n",
       "      <td>46.0</td>\n",
       "      <td>basic</td>\n",
       "      <td>0</td>\n",
       "      <td>en</td>\n",
       "      <td>other</td>\n",
       "      <td>craigslist</td>\n",
       "      <td>omg</td>\n",
       "      <td>Web</td>\n",
       "      <td>...</td>\n",
       "      <td>NaN</td>\n",
       "      <td>NaN</td>\n",
       "      <td>NaN</td>\n",
       "      <td>NaN</td>\n",
       "      <td>NaN</td>\n",
       "      <td>NaN</td>\n",
       "      <td>NaN</td>\n",
       "      <td>NaN</td>\n",
       "      <td>NaN</td>\n",
       "      <td>NaN</td>\n",
       "    </tr>\n",
       "    <tr>\n",
       "      <th>a1vcnhxeij</th>\n",
       "      <td>20100104004211</td>\n",
       "      <td>FEMALE</td>\n",
       "      <td>50.0</td>\n",
       "      <td>basic</td>\n",
       "      <td>0</td>\n",
       "      <td>en</td>\n",
       "      <td>other</td>\n",
       "      <td>craigslist</td>\n",
       "      <td>untracked</td>\n",
       "      <td>Web</td>\n",
       "      <td>...</td>\n",
       "      <td>NaN</td>\n",
       "      <td>NaN</td>\n",
       "      <td>NaN</td>\n",
       "      <td>NaN</td>\n",
       "      <td>NaN</td>\n",
       "      <td>NaN</td>\n",
       "      <td>NaN</td>\n",
       "      <td>NaN</td>\n",
       "      <td>NaN</td>\n",
       "      <td>NaN</td>\n",
       "    </tr>\n",
       "    <tr>\n",
       "      <th>yuuqmid2rp</th>\n",
       "      <td>20100104194251</td>\n",
       "      <td>FEMALE</td>\n",
       "      <td>36.0</td>\n",
       "      <td>basic</td>\n",
       "      <td>0</td>\n",
       "      <td>en</td>\n",
       "      <td>other</td>\n",
       "      <td>craigslist</td>\n",
       "      <td>untracked</td>\n",
       "      <td>Web</td>\n",
       "      <td>...</td>\n",
       "      <td>NaN</td>\n",
       "      <td>NaN</td>\n",
       "      <td>NaN</td>\n",
       "      <td>NaN</td>\n",
       "      <td>NaN</td>\n",
       "      <td>NaN</td>\n",
       "      <td>NaN</td>\n",
       "      <td>NaN</td>\n",
       "      <td>NaN</td>\n",
       "      <td>NaN</td>\n",
       "    </tr>\n",
       "    <tr>\n",
       "      <th>dy3rgx56cu</th>\n",
       "      <td>20100105083259</td>\n",
       "      <td>FEMALE</td>\n",
       "      <td>37.0</td>\n",
       "      <td>basic</td>\n",
       "      <td>0</td>\n",
       "      <td>en</td>\n",
       "      <td>other</td>\n",
       "      <td>craigslist</td>\n",
       "      <td>linked</td>\n",
       "      <td>Web</td>\n",
       "      <td>...</td>\n",
       "      <td>NaN</td>\n",
       "      <td>NaN</td>\n",
       "      <td>NaN</td>\n",
       "      <td>NaN</td>\n",
       "      <td>NaN</td>\n",
       "      <td>NaN</td>\n",
       "      <td>NaN</td>\n",
       "      <td>NaN</td>\n",
       "      <td>NaN</td>\n",
       "      <td>NaN</td>\n",
       "    </tr>\n",
       "    <tr>\n",
       "      <th>om1ss59ys8</th>\n",
       "      <td>20100105051812</td>\n",
       "      <td>FEMALE</td>\n",
       "      <td>47.0</td>\n",
       "      <td>basic</td>\n",
       "      <td>0</td>\n",
       "      <td>en</td>\n",
       "      <td>other</td>\n",
       "      <td>craigslist</td>\n",
       "      <td>untracked</td>\n",
       "      <td>Web</td>\n",
       "      <td>...</td>\n",
       "      <td>NaN</td>\n",
       "      <td>NaN</td>\n",
       "      <td>NaN</td>\n",
       "      <td>NaN</td>\n",
       "      <td>NaN</td>\n",
       "      <td>NaN</td>\n",
       "      <td>NaN</td>\n",
       "      <td>NaN</td>\n",
       "      <td>NaN</td>\n",
       "      <td>NaN</td>\n",
       "    </tr>\n",
       "    <tr>\n",
       "      <th>k6np330cm1</th>\n",
       "      <td>20100105060859</td>\n",
       "      <td>-unknown-</td>\n",
       "      <td>NaN</td>\n",
       "      <td>basic</td>\n",
       "      <td>0</td>\n",
       "      <td>en</td>\n",
       "      <td>direct</td>\n",
       "      <td>direct</td>\n",
       "      <td>NaN</td>\n",
       "      <td>Web</td>\n",
       "      <td>...</td>\n",
       "      <td>NaN</td>\n",
       "      <td>NaN</td>\n",
       "      <td>NaN</td>\n",
       "      <td>NaN</td>\n",
       "      <td>NaN</td>\n",
       "      <td>NaN</td>\n",
       "      <td>NaN</td>\n",
       "      <td>NaN</td>\n",
       "      <td>NaN</td>\n",
       "      <td>NaN</td>\n",
       "    </tr>\n",
       "    <tr>\n",
       "      <th>2dwbwkx056</th>\n",
       "      <td>20100107215125</td>\n",
       "      <td>-unknown-</td>\n",
       "      <td>NaN</td>\n",
       "      <td>basic</td>\n",
       "      <td>0</td>\n",
       "      <td>en</td>\n",
       "      <td>other</td>\n",
       "      <td>craigslist</td>\n",
       "      <td>NaN</td>\n",
       "      <td>Web</td>\n",
       "      <td>...</td>\n",
       "      <td>NaN</td>\n",
       "      <td>NaN</td>\n",
       "      <td>NaN</td>\n",
       "      <td>NaN</td>\n",
       "      <td>NaN</td>\n",
       "      <td>NaN</td>\n",
       "      <td>NaN</td>\n",
       "      <td>NaN</td>\n",
       "      <td>NaN</td>\n",
       "      <td>NaN</td>\n",
       "    </tr>\n",
       "  </tbody>\n",
       "</table>\n",
       "<p>10 rows × 81 columns</p>\n",
       "</div>"
      ],
      "text/plain": [
       "            timestamp_first_active     gender   age signup_method  \\\n",
       "id                                                                  \n",
       "osr2jwljor          20100101215619  -unknown-   NaN         basic   \n",
       "lsw9q7uk0j          20100102012558     FEMALE  46.0         basic   \n",
       "0d01nltbrs          20100103191905     FEMALE  47.0         basic   \n",
       "6uh8zyj2gn          20100104023758  -unknown-  46.0         basic   \n",
       "a1vcnhxeij          20100104004211     FEMALE  50.0         basic   \n",
       "yuuqmid2rp          20100104194251     FEMALE  36.0         basic   \n",
       "dy3rgx56cu          20100105083259     FEMALE  37.0         basic   \n",
       "om1ss59ys8          20100105051812     FEMALE  47.0         basic   \n",
       "k6np330cm1          20100105060859  -unknown-   NaN         basic   \n",
       "2dwbwkx056          20100107215125  -unknown-   NaN         basic   \n",
       "\n",
       "            signup_flow language affiliate_channel affiliate_provider  \\\n",
       "id                                                                      \n",
       "osr2jwljor            0       en             other              other   \n",
       "lsw9q7uk0j            0       en             other         craigslist   \n",
       "0d01nltbrs            0       en            direct             direct   \n",
       "6uh8zyj2gn            0       en             other         craigslist   \n",
       "a1vcnhxeij            0       en             other         craigslist   \n",
       "yuuqmid2rp            0       en             other         craigslist   \n",
       "dy3rgx56cu            0       en             other         craigslist   \n",
       "om1ss59ys8            0       en             other         craigslist   \n",
       "k6np330cm1            0       en            direct             direct   \n",
       "2dwbwkx056            0       en             other         craigslist   \n",
       "\n",
       "           first_affiliate_tracked signup_app        ...         \\\n",
       "id                                                   ...          \n",
       "osr2jwljor                     omg        Web        ...          \n",
       "lsw9q7uk0j               untracked        Web        ...          \n",
       "0d01nltbrs                     omg        Web        ...          \n",
       "6uh8zyj2gn                     omg        Web        ...          \n",
       "a1vcnhxeij               untracked        Web        ...          \n",
       "yuuqmid2rp               untracked        Web        ...          \n",
       "dy3rgx56cu                  linked        Web        ...          \n",
       "om1ss59ys8               untracked        Web        ...          \n",
       "k6np330cm1                     NaN        Web        ...          \n",
       "2dwbwkx056                     NaN        Web        ...          \n",
       "\n",
       "           count_device_linux_desktop count_device_mac_desktop  \\\n",
       "id                                                               \n",
       "osr2jwljor                        NaN                      NaN   \n",
       "lsw9q7uk0j                        NaN                      NaN   \n",
       "0d01nltbrs                        NaN                      NaN   \n",
       "6uh8zyj2gn                        NaN                      NaN   \n",
       "a1vcnhxeij                        NaN                      NaN   \n",
       "yuuqmid2rp                        NaN                      NaN   \n",
       "dy3rgx56cu                        NaN                      NaN   \n",
       "om1ss59ys8                        NaN                      NaN   \n",
       "k6np330cm1                        NaN                      NaN   \n",
       "2dwbwkx056                        NaN                      NaN   \n",
       "\n",
       "           count_device_opera_phone  count_device_tablet  \\\n",
       "id                                                         \n",
       "osr2jwljor                      NaN                  NaN   \n",
       "lsw9q7uk0j                      NaN                  NaN   \n",
       "0d01nltbrs                      NaN                  NaN   \n",
       "6uh8zyj2gn                      NaN                  NaN   \n",
       "a1vcnhxeij                      NaN                  NaN   \n",
       "yuuqmid2rp                      NaN                  NaN   \n",
       "dy3rgx56cu                      NaN                  NaN   \n",
       "om1ss59ys8                      NaN                  NaN   \n",
       "k6np330cm1                      NaN                  NaN   \n",
       "2dwbwkx056                      NaN                  NaN   \n",
       "\n",
       "            count_device_windows_desktop  count_device_windows_phone  \\\n",
       "id                                                                     \n",
       "osr2jwljor                           NaN                         NaN   \n",
       "lsw9q7uk0j                           NaN                         NaN   \n",
       "0d01nltbrs                           NaN                         NaN   \n",
       "6uh8zyj2gn                           NaN                         NaN   \n",
       "a1vcnhxeij                           NaN                         NaN   \n",
       "yuuqmid2rp                           NaN                         NaN   \n",
       "dy3rgx56cu                           NaN                         NaN   \n",
       "om1ss59ys8                           NaN                         NaN   \n",
       "k6np330cm1                           NaN                         NaN   \n",
       "2dwbwkx056                           NaN                         NaN   \n",
       "\n",
       "            count_device_ipad_tablet  count_device_iphone  \\\n",
       "id                                                          \n",
       "osr2jwljor                       NaN                  NaN   \n",
       "lsw9q7uk0j                       NaN                  NaN   \n",
       "0d01nltbrs                       NaN                  NaN   \n",
       "6uh8zyj2gn                       NaN                  NaN   \n",
       "a1vcnhxeij                       NaN                  NaN   \n",
       "yuuqmid2rp                       NaN                  NaN   \n",
       "dy3rgx56cu                       NaN                  NaN   \n",
       "om1ss59ys8                       NaN                  NaN   \n",
       "k6np330cm1                       NaN                  NaN   \n",
       "2dwbwkx056                       NaN                  NaN   \n",
       "\n",
       "            count_device_ipodtouch  preferred_device  \n",
       "id                                                    \n",
       "osr2jwljor                     NaN               NaN  \n",
       "lsw9q7uk0j                     NaN               NaN  \n",
       "0d01nltbrs                     NaN               NaN  \n",
       "6uh8zyj2gn                     NaN               NaN  \n",
       "a1vcnhxeij                     NaN               NaN  \n",
       "yuuqmid2rp                     NaN               NaN  \n",
       "dy3rgx56cu                     NaN               NaN  \n",
       "om1ss59ys8                     NaN               NaN  \n",
       "k6np330cm1                     NaN               NaN  \n",
       "2dwbwkx056                     NaN               NaN  \n",
       "\n",
       "[10 rows x 81 columns]"
      ]
     },
     "execution_count": 56,
     "metadata": {},
     "output_type": "execute_result"
    }
   ],
   "source": [
    "df.head(10)"
   ]
  },
  {
   "cell_type": "code",
   "execution_count": 57,
   "metadata": {
    "ExecuteTime": {
     "end_time": "2019-03-07T19:20:23.092721Z",
     "start_time": "2019-03-07T19:20:23.086714Z"
    }
   },
   "outputs": [
    {
     "data": {
      "text/plain": [
       "(213451, 81)"
      ]
     },
     "execution_count": 57,
     "metadata": {},
     "output_type": "execute_result"
    }
   ],
   "source": [
    "df.shape"
   ]
  },
  {
   "cell_type": "code",
   "execution_count": 58,
   "metadata": {
    "ExecuteTime": {
     "end_time": "2019-03-07T19:20:23.570924Z",
     "start_time": "2019-03-07T19:20:23.095332Z"
    }
   },
   "outputs": [
    {
     "data": {
      "text/plain": [
       "timestamp_first_active                                0\n",
       "gender                                                0\n",
       "age                                               87990\n",
       "signup_method                                         0\n",
       "signup_flow                                           0\n",
       "language                                              0\n",
       "affiliate_channel                                     0\n",
       "affiliate_provider                                    0\n",
       "first_affiliate_tracked                            6065\n",
       "signup_app                                            0\n",
       "first_device_type                                     0\n",
       "first_browser                                         0\n",
       "country_destination                                   0\n",
       "min_secs_elapsed                                 140820\n",
       "median_secs_elapsed                              140820\n",
       "max_secs_elapsed                                 140820\n",
       "count_action_other                               140045\n",
       "count_action_active                              140045\n",
       "count_action_ajax_check_dates                    140045\n",
       "count_action_ajax_lwlb_contact                   140045\n",
       "count_action_ajax_photo_widget_form_iframe       140045\n",
       "count_action_ajax_refresh_subtotal               140045\n",
       "count_action_ask_question                        140045\n",
       "count_action_authenticate                        140045\n",
       "count_action_calendar_tab_inner2                 140045\n",
       "count_action_callback                            140045\n",
       "count_action_campaigns                           140045\n",
       "count_action_cancellation_policies               140045\n",
       "count_action_click                               140045\n",
       "count_action_collections                         140045\n",
       "                                                  ...  \n",
       "count_action_requested                           140045\n",
       "count_action_reviews                             140045\n",
       "count_action_search                              140045\n",
       "count_action_search_results                      140045\n",
       "count_action_settings                            140045\n",
       "count_action_show                                140045\n",
       "count_action_show_personalize                    140045\n",
       "count_action_similar_listings                    140045\n",
       "count_action_similar_listings_v2                 140045\n",
       "count_action_social_connections                  140045\n",
       "count_action_track_page_view                     140045\n",
       "count_action_travel_plans_current                140045\n",
       "count_action_unavailabilities                    140045\n",
       "count_action_update                              140045\n",
       "count_action_verify                              140045\n",
       "count_device_-unknown-                           139636\n",
       "count_device_android_app_unknown_phone/tablet    139636\n",
       "count_device_android_phone                       139636\n",
       "count_device_blackberry                          139636\n",
       "count_device_chromebook                          139636\n",
       "count_device_linux_desktop                       139636\n",
       "count_device_mac_desktop                         139636\n",
       "count_device_opera_phone                         139636\n",
       "count_device_tablet                              139636\n",
       "count_device_windows_desktop                     139636\n",
       "count_device_windows_phone                       139636\n",
       "count_device_ipad_tablet                         139636\n",
       "count_device_iphone                              139636\n",
       "count_device_ipodtouch                           139636\n",
       "preferred_device                                 139636\n",
       "Length: 81, dtype: int64"
      ]
     },
     "execution_count": 58,
     "metadata": {},
     "output_type": "execute_result"
    }
   ],
   "source": [
    "df.isna().sum()"
   ]
  },
  {
   "cell_type": "markdown",
   "metadata": {},
   "source": [
    "**Fill NAs**"
   ]
  },
  {
   "cell_type": "code",
   "execution_count": 59,
   "metadata": {
    "ExecuteTime": {
     "end_time": "2019-03-07T19:20:23.626780Z",
     "start_time": "2019-03-07T19:20:23.576178Z"
    }
   },
   "outputs": [],
   "source": [
    "df.age = df.age.fillna(-1)\n",
    "df.first_affiliate_tracked = df.age.fillna(\"unknown\")\n",
    "df.preferred_device = df.preferred_device.fillna(\"unknown\")"
   ]
  },
  {
   "cell_type": "code",
   "execution_count": 60,
   "metadata": {
    "ExecuteTime": {
     "end_time": "2019-03-07T19:20:24.018197Z",
     "start_time": "2019-03-07T19:20:23.629553Z"
    }
   },
   "outputs": [],
   "source": [
    "session_numerics_to_fill = session_action_count_features \\\n",
    "                            + session_agg_elapsed_features \\\n",
    "                            + session_count_device_features\n",
    "\n",
    "df[session_numerics_to_fill] = df[session_numerics_to_fill].fillna(-1)"
   ]
  },
  {
   "cell_type": "code",
   "execution_count": 61,
   "metadata": {
    "ExecuteTime": {
     "end_time": "2019-03-07T19:20:24.341111Z",
     "start_time": "2019-03-07T19:20:24.021341Z"
    }
   },
   "outputs": [],
   "source": [
    "df, cats = make_categorical(df)"
   ]
  },
  {
   "cell_type": "code",
   "execution_count": 62,
   "metadata": {
    "ExecuteTime": {
     "end_time": "2019-03-07T19:20:24.690409Z",
     "start_time": "2019-03-07T19:20:24.349865Z"
    }
   },
   "outputs": [],
   "source": [
    "n_train = int(.7 * df.shape[0])\n",
    "X = df.drop(\"country_destination\", axis=1).copy()\n",
    "y = df[\"country_destination\"].copy()\n",
    "\n",
    "X_train = X[:n_train]\n",
    "y_train = y[:n_train]\n",
    "\n",
    "X_valid = X[n_train:]\n",
    "y_valid = y[n_train:]"
   ]
  },
  {
   "cell_type": "code",
   "execution_count": 63,
   "metadata": {
    "ExecuteTime": {
     "end_time": "2019-03-07T19:20:24.702245Z",
     "start_time": "2019-03-07T19:20:24.693406Z"
    }
   },
   "outputs": [
    {
     "data": {
      "text/plain": [
       "((149415, 80), (149415,), (64036, 80), (64036,))"
      ]
     },
     "execution_count": 63,
     "metadata": {},
     "output_type": "execute_result"
    }
   ],
   "source": [
    "X_train.shape, y_train.shape, X_valid.shape, y_valid.shape"
   ]
  },
  {
   "cell_type": "code",
   "execution_count": 64,
   "metadata": {
    "ExecuteTime": {
     "end_time": "2019-03-07T19:20:24.720424Z",
     "start_time": "2019-03-07T19:20:24.708965Z"
    }
   },
   "outputs": [],
   "source": [
    "from sklearn.ensemble import RandomForestClassifier"
   ]
  },
  {
   "cell_type": "code",
   "execution_count": 65,
   "metadata": {
    "ExecuteTime": {
     "end_time": "2019-03-07T19:20:24.750576Z",
     "start_time": "2019-03-07T19:20:24.729188Z"
    }
   },
   "outputs": [],
   "source": [
    "m = RandomForestClassifier(n_estimators=50,\n",
    "                           min_samples_leaf=3,\n",
    "                           n_jobs=-1,\n",
    "                           random_state=42)"
   ]
  },
  {
   "cell_type": "code",
   "execution_count": 66,
   "metadata": {
    "ExecuteTime": {
     "end_time": "2019-03-07T19:20:33.180347Z",
     "start_time": "2019-03-07T19:20:24.753857Z"
    }
   },
   "outputs": [
    {
     "data": {
      "text/plain": [
       "RandomForestClassifier(bootstrap=True, class_weight=None, criterion='gini',\n",
       "            max_depth=None, max_features='auto', max_leaf_nodes=None,\n",
       "            min_impurity_decrease=0.0, min_impurity_split=None,\n",
       "            min_samples_leaf=3, min_samples_split=2,\n",
       "            min_weight_fraction_leaf=0.0, n_estimators=50, n_jobs=-1,\n",
       "            oob_score=False, random_state=42, verbose=0, warm_start=False)"
      ]
     },
     "execution_count": 66,
     "metadata": {},
     "output_type": "execute_result"
    }
   ],
   "source": [
    "m.fit(X_train, y_train)"
   ]
  },
  {
   "cell_type": "code",
   "execution_count": 67,
   "metadata": {
    "ExecuteTime": {
     "end_time": "2019-03-07T19:20:33.867099Z",
     "start_time": "2019-03-07T19:20:33.183648Z"
    }
   },
   "outputs": [
    {
     "data": {
      "text/plain": [
       "0.6906271472296833"
      ]
     },
     "execution_count": 67,
     "metadata": {},
     "output_type": "execute_result"
    }
   ],
   "source": [
    "m.score(X_valid, y_valid)"
   ]
  },
  {
   "cell_type": "code",
   "execution_count": 68,
   "metadata": {
    "ExecuteTime": {
     "end_time": "2019-03-07T19:20:35.800708Z",
     "start_time": "2019-03-07T19:20:33.875622Z"
    }
   },
   "outputs": [],
   "source": [
    "preds_train_wd = format_preds_wd(m, X_train)\n",
    "preds_valid_wd = format_preds_wd(m, X_valid)"
   ]
  },
  {
   "cell_type": "code",
   "execution_count": 69,
   "metadata": {
    "ExecuteTime": {
     "end_time": "2019-03-07T19:20:48.861303Z",
     "start_time": "2019-03-07T19:20:35.808968Z"
    }
   },
   "outputs": [
    {
     "name": "stdout",
     "output_type": "stream",
     "text": [
      "Average NDCG at 5: 0.8625\n"
     ]
    }
   ],
   "source": [
    "scores_train = score_predictions_wd(preds_train_wd, y_train)"
   ]
  },
  {
   "cell_type": "code",
   "execution_count": 70,
   "metadata": {
    "ExecuteTime": {
     "end_time": "2019-03-07T19:20:53.989025Z",
     "start_time": "2019-03-07T19:20:48.864871Z"
    }
   },
   "outputs": [
    {
     "name": "stdout",
     "output_type": "stream",
     "text": [
      "Average NDCG at 5: 0.8472\n"
     ]
    }
   ],
   "source": [
    "scores_valid = score_predictions_wd(preds_valid_wd, y_valid)"
   ]
  },
  {
   "cell_type": "markdown",
   "metadata": {},
   "source": [
    "#### Archive"
   ]
  },
  {
   "cell_type": "code",
   "execution_count": 71,
   "metadata": {
    "ExecuteTime": {
     "end_time": "2019-03-07T19:20:53.997936Z",
     "start_time": "2019-03-07T19:20:53.993984Z"
    }
   },
   "outputs": [],
   "source": [
    "#import xgboost"
   ]
  },
  {
   "cell_type": "code",
   "execution_count": 72,
   "metadata": {
    "ExecuteTime": {
     "end_time": "2019-03-07T19:20:54.004743Z",
     "start_time": "2019-03-07T19:20:54.001554Z"
    }
   },
   "outputs": [],
   "source": [
    "#gbm = GradientBoostingClassifier(n_estimators=50,random_state=42)"
   ]
  },
  {
   "cell_type": "code",
   "execution_count": 73,
   "metadata": {
    "ExecuteTime": {
     "end_time": "2019-03-07T19:20:54.014750Z",
     "start_time": "2019-03-07T19:20:54.008964Z"
    }
   },
   "outputs": [],
   "source": [
    "#rf = RandomForestClassifier(n_estimators=50,\n",
    "                           #min_samples_leaf=3,\n",
    "                           #n_jobs=-1,\n",
    "                           #random_state=42)"
   ]
  },
  {
   "cell_type": "code",
   "execution_count": 74,
   "metadata": {
    "ExecuteTime": {
     "end_time": "2019-03-07T19:20:54.023693Z",
     "start_time": "2019-03-07T19:20:54.019143Z"
    }
   },
   "outputs": [],
   "source": [
    "#from xgboost.sklearn import XGBClassifier"
   ]
  },
  {
   "cell_type": "code",
   "execution_count": 75,
   "metadata": {
    "ExecuteTime": {
     "end_time": "2019-03-07T19:20:54.036858Z",
     "start_time": "2019-03-07T19:20:54.030251Z"
    }
   },
   "outputs": [],
   "source": [
    "#xgb = XGBClassifier(n_estimators=50)"
   ]
  },
  {
   "cell_type": "code",
   "execution_count": 76,
   "metadata": {
    "ExecuteTime": {
     "end_time": "2019-03-07T19:20:54.048095Z",
     "start_time": "2019-03-07T19:20:54.042360Z"
    }
   },
   "outputs": [],
   "source": [
    "#xgb.fit(X_train, y_train)"
   ]
  },
  {
   "cell_type": "code",
   "execution_count": 77,
   "metadata": {
    "ExecuteTime": {
     "end_time": "2019-03-07T19:20:54.056420Z",
     "start_time": "2019-03-07T19:20:54.052427Z"
    }
   },
   "outputs": [],
   "source": [
    "#rf.fit(X_train, y_train)"
   ]
  },
  {
   "cell_type": "code",
   "execution_count": 78,
   "metadata": {
    "ExecuteTime": {
     "end_time": "2019-03-07T19:20:54.064821Z",
     "start_time": "2019-03-07T19:20:54.060631Z"
    },
    "scrolled": true
   },
   "outputs": [],
   "source": [
    "#xgb.score(X_valid, y_valid)"
   ]
  },
  {
   "cell_type": "code",
   "execution_count": 79,
   "metadata": {
    "ExecuteTime": {
     "end_time": "2019-03-07T19:20:54.073467Z",
     "start_time": "2019-03-07T19:20:54.069390Z"
    }
   },
   "outputs": [],
   "source": [
    "#m.score(X_valid, y_valid)"
   ]
  },
  {
   "cell_type": "code",
   "execution_count": 80,
   "metadata": {
    "ExecuteTime": {
     "end_time": "2019-03-07T19:20:54.081824Z",
     "start_time": "2019-03-07T19:20:54.077683Z"
    }
   },
   "outputs": [],
   "source": [
    "#preds_train_wd = format_preds_wd(xgb, X_train)\n",
    "#preds_valid_wd = format_preds_wd(xgb, X_valid)"
   ]
  },
  {
   "cell_type": "code",
   "execution_count": 81,
   "metadata": {
    "ExecuteTime": {
     "end_time": "2019-03-07T19:20:54.091389Z",
     "start_time": "2019-03-07T19:20:54.086180Z"
    }
   },
   "outputs": [],
   "source": [
    "#scores_train = score_predictions_wd(preds_train_wd, y_train)"
   ]
  },
  {
   "cell_type": "code",
   "execution_count": 82,
   "metadata": {
    "ExecuteTime": {
     "end_time": "2019-03-07T19:20:54.101809Z",
     "start_time": "2019-03-07T19:20:54.097144Z"
    }
   },
   "outputs": [],
   "source": [
    "#scores_valid = score_predictions_wd(preds_valid_wd, y_valid)"
   ]
  },
  {
   "cell_type": "code",
   "execution_count": 83,
   "metadata": {
    "ExecuteTime": {
     "end_time": "2019-03-07T19:20:54.112535Z",
     "start_time": "2019-03-07T19:20:54.106324Z"
    }
   },
   "outputs": [],
   "source": [
    "#preds_xgb = xgb.predict_proba(X_train)\n",
    "#preds_rf = rf.predict_proba(X_train)"
   ]
  },
  {
   "cell_type": "code",
   "execution_count": 84,
   "metadata": {
    "ExecuteTime": {
     "end_time": "2019-03-07T19:20:54.120827Z",
     "start_time": "2019-03-07T19:20:54.116722Z"
    }
   },
   "outputs": [],
   "source": [
    "#preds_xgb[1:10]"
   ]
  },
  {
   "cell_type": "code",
   "execution_count": 85,
   "metadata": {
    "ExecuteTime": {
     "end_time": "2019-03-07T19:20:54.129023Z",
     "start_time": "2019-03-07T19:20:54.125299Z"
    }
   },
   "outputs": [],
   "source": [
    "#preds_concat = np.hstack((preds_xgb, preds_rf))"
   ]
  },
  {
   "cell_type": "code",
   "execution_count": 86,
   "metadata": {
    "ExecuteTime": {
     "end_time": "2019-03-07T19:20:54.136926Z",
     "start_time": "2019-03-07T19:20:54.132916Z"
    }
   },
   "outputs": [],
   "source": [
    "#preds_xgb.shape, preds_rf.shape, preds_concat.shape"
   ]
  },
  {
   "cell_type": "code",
   "execution_count": 87,
   "metadata": {
    "ExecuteTime": {
     "end_time": "2019-03-07T19:20:54.146999Z",
     "start_time": "2019-03-07T19:20:54.142566Z"
    }
   },
   "outputs": [],
   "source": [
    "#gbm = GradientBoostingClassifier(n_estimators=50,random_state=42)"
   ]
  },
  {
   "cell_type": "code",
   "execution_count": 88,
   "metadata": {
    "ExecuteTime": {
     "end_time": "2019-03-07T19:20:54.156607Z",
     "start_time": "2019-03-07T19:20:54.151075Z"
    }
   },
   "outputs": [],
   "source": [
    "#gbm.fit(preds_concat, y_train)"
   ]
  },
  {
   "cell_type": "markdown",
   "metadata": {},
   "source": [
    "### Interpretation"
   ]
  },
  {
   "cell_type": "markdown",
   "metadata": {},
   "source": [
    "#### Visualize feature importance"
   ]
  },
  {
   "cell_type": "code",
   "execution_count": 89,
   "metadata": {
    "ExecuteTime": {
     "end_time": "2019-03-07T19:20:54.280746Z",
     "start_time": "2019-03-07T19:20:54.161881Z"
    }
   },
   "outputs": [],
   "source": [
    "feat_importance = pd.DataFrame({\"features\": X_train.columns, \n",
    "                              \"importance\": m.feature_importances_}).sort_values(\"importance\", ascending=False)"
   ]
  },
  {
   "cell_type": "code",
   "execution_count": 90,
   "metadata": {
    "ExecuteTime": {
     "end_time": "2019-03-07T19:20:54.830080Z",
     "start_time": "2019-03-07T19:20:54.283737Z"
    }
   },
   "outputs": [
    {
     "data": {
      "image/png": "[encoded data removed]",
      "text/plain": [
       "<matplotlib.figure.Figure at 0x124fbfba8>"
      ]
     },
     "metadata": {},
     "output_type": "display_data"
    }
   ],
   "source": [
    "plot = feat_importance.iloc[:30].plot('features', 'importance', 'barh', figsize=(12,7), legend=False)\n",
    "fig = plot.get_figure()\n",
    "fig.savefig(\"output.png\")"
   ]
  },
  {
   "cell_type": "code",
   "execution_count": 91,
   "metadata": {
    "ExecuteTime": {
     "end_time": "2019-03-07T19:20:54.835458Z",
     "start_time": "2019-03-07T19:20:54.832674Z"
    }
   },
   "outputs": [],
   "source": [
    "#rem_feat = list(feat_importance[feat_importance.importance> 0.01].features)+['country_destination']"
   ]
  },
  {
   "cell_type": "markdown",
   "metadata": {},
   "source": [
    "#### Use learnings to optimize model"
   ]
  },
  {
   "cell_type": "code",
   "execution_count": 92,
   "metadata": {
    "ExecuteTime": {
     "end_time": "2019-03-07T19:20:54.841648Z",
     "start_time": "2019-03-07T19:20:54.838250Z"
    }
   },
   "outputs": [],
   "source": [
    "#df = df[rem_feat]"
   ]
  },
  {
   "cell_type": "code",
   "execution_count": 93,
   "metadata": {
    "ExecuteTime": {
     "end_time": "2019-03-07T19:20:54.848428Z",
     "start_time": "2019-03-07T19:20:54.845262Z"
    }
   },
   "outputs": [],
   "source": [
    "#df.shape"
   ]
  },
  {
   "cell_type": "code",
   "execution_count": 94,
   "metadata": {
    "ExecuteTime": {
     "end_time": "2019-03-07T19:20:54.861201Z",
     "start_time": "2019-03-07T19:20:54.852692Z"
    }
   },
   "outputs": [
    {
     "data": {
      "text/plain": [
       "'\\nn_train = int(.7 * df.shape[0])\\nX = df.drop(\"country_destination\", axis=1).copy()\\ny = df[\"country_destination\"].copy()\\n\\nX_train = X[:n_train]\\ny_train = y[:n_train]\\n\\nX_valid = X[n_train:]\\ny_valid = y[n_train:]\\n'"
      ]
     },
     "execution_count": 94,
     "metadata": {},
     "output_type": "execute_result"
    }
   ],
   "source": [
    "'''\n",
    "n_train = int(.7 * df.shape[0])\n",
    "X = df.drop(\"country_destination\", axis=1).copy()\n",
    "y = df[\"country_destination\"].copy()\n",
    "\n",
    "X_train = X[:n_train]\n",
    "y_train = y[:n_train]\n",
    "\n",
    "X_valid = X[n_train:]\n",
    "y_valid = y[n_train:]\n",
    "'''"
   ]
  },
  {
   "cell_type": "code",
   "execution_count": 95,
   "metadata": {
    "ExecuteTime": {
     "end_time": "2019-03-07T19:20:54.868682Z",
     "start_time": "2019-03-07T19:20:54.864891Z"
    }
   },
   "outputs": [],
   "source": [
    "#X_train.shape, y_train.shape, X_valid.shape, y_valid.shape"
   ]
  },
  {
   "cell_type": "code",
   "execution_count": 96,
   "metadata": {
    "ExecuteTime": {
     "end_time": "2019-03-07T19:20:54.881401Z",
     "start_time": "2019-03-07T19:20:54.873732Z"
    }
   },
   "outputs": [
    {
     "data": {
      "text/plain": [
       "'\\nm = RandomForestClassifier(n_estimators=50,\\n                           min_samples_leaf=3,\\n                           n_jobs=-1,\\n                           random_state=42)\\n'"
      ]
     },
     "execution_count": 96,
     "metadata": {},
     "output_type": "execute_result"
    }
   ],
   "source": [
    "'''\n",
    "m = RandomForestClassifier(n_estimators=50,\n",
    "                           min_samples_leaf=3,\n",
    "                           n_jobs=-1,\n",
    "                           random_state=42)\n",
    "'''"
   ]
  },
  {
   "cell_type": "code",
   "execution_count": 97,
   "metadata": {
    "ExecuteTime": {
     "end_time": "2019-03-07T19:20:54.890005Z",
     "start_time": "2019-03-07T19:20:54.885312Z"
    }
   },
   "outputs": [],
   "source": [
    "#m.fit(X_train, y_train)"
   ]
  },
  {
   "cell_type": "code",
   "execution_count": 98,
   "metadata": {
    "ExecuteTime": {
     "end_time": "2019-03-07T19:20:54.898001Z",
     "start_time": "2019-03-07T19:20:54.894263Z"
    }
   },
   "outputs": [],
   "source": [
    "#m.score(X_valid, y_valid)"
   ]
  },
  {
   "cell_type": "code",
   "execution_count": 99,
   "metadata": {
    "ExecuteTime": {
     "end_time": "2019-03-07T19:20:54.908196Z",
     "start_time": "2019-03-07T19:20:54.902299Z"
    }
   },
   "outputs": [],
   "source": [
    "#preds_train_wd = format_preds_wd(m, X_train)\n",
    "#preds_valid_wd = format_preds_wd(m, X_valid)"
   ]
  },
  {
   "cell_type": "code",
   "execution_count": 100,
   "metadata": {
    "ExecuteTime": {
     "end_time": "2019-03-07T19:20:54.917268Z",
     "start_time": "2019-03-07T19:20:54.912702Z"
    }
   },
   "outputs": [],
   "source": [
    "#scores_train = score_predictions_wd(preds_train_wd, y_train)"
   ]
  },
  {
   "cell_type": "code",
   "execution_count": 101,
   "metadata": {
    "ExecuteTime": {
     "end_time": "2019-03-07T19:20:54.928778Z",
     "start_time": "2019-03-07T19:20:54.923726Z"
    }
   },
   "outputs": [],
   "source": [
    "#scores_valid = score_predictions_wd(preds_valid_wd, y_valid)"
   ]
  },
  {
   "cell_type": "markdown",
   "metadata": {},
   "source": [
    "### Final model"
   ]
  },
  {
   "cell_type": "markdown",
   "metadata": {},
   "source": [
    "#### Load and transform test data"
   ]
  },
  {
   "cell_type": "code",
   "execution_count": 102,
   "metadata": {
    "ExecuteTime": {
     "end_time": "2019-03-07T19:20:55.169233Z",
     "start_time": "2019-03-07T19:20:54.933690Z"
    }
   },
   "outputs": [],
   "source": [
    "test_users = pd.read_csv(DATA_PATH / \"test_users.csv\")"
   ]
  },
  {
   "cell_type": "code",
   "execution_count": 103,
   "metadata": {
    "ExecuteTime": {
     "end_time": "2019-03-07T19:20:55.179656Z",
     "start_time": "2019-03-07T19:20:55.172292Z"
    }
   },
   "outputs": [
    {
     "data": {
      "text/plain": [
       "(62096, 15)"
      ]
     },
     "execution_count": 103,
     "metadata": {},
     "output_type": "execute_result"
    }
   ],
   "source": [
    "test_users.shape"
   ]
  },
  {
   "cell_type": "code",
   "execution_count": 104,
   "metadata": {
    "ExecuteTime": {
     "end_time": "2019-03-07T19:20:55.212825Z",
     "start_time": "2019-03-07T19:20:55.183402Z"
    }
   },
   "outputs": [
    {
     "data": {
      "text/html": [
       "<div>\n",
       "<style scoped>\n",
       "    .dataframe tbody tr th:only-of-type {\n",
       "        vertical-align: middle;\n",
       "    }\n",
       "\n",
       "    .dataframe tbody tr th {\n",
       "        vertical-align: top;\n",
       "    }\n",
       "\n",
       "    .dataframe thead th {\n",
       "        text-align: right;\n",
       "    }\n",
       "</style>\n",
       "<table border=\"1\" class=\"dataframe\">\n",
       "  <thead>\n",
       "    <tr style=\"text-align: right;\">\n",
       "      <th></th>\n",
       "      <th>id</th>\n",
       "      <th>date_account_created</th>\n",
       "      <th>timestamp_first_active</th>\n",
       "      <th>date_first_booking</th>\n",
       "      <th>gender</th>\n",
       "      <th>age</th>\n",
       "      <th>signup_method</th>\n",
       "      <th>signup_flow</th>\n",
       "      <th>language</th>\n",
       "      <th>affiliate_channel</th>\n",
       "      <th>affiliate_provider</th>\n",
       "      <th>first_affiliate_tracked</th>\n",
       "      <th>signup_app</th>\n",
       "      <th>first_device_type</th>\n",
       "      <th>first_browser</th>\n",
       "    </tr>\n",
       "  </thead>\n",
       "  <tbody>\n",
       "    <tr>\n",
       "      <th>0</th>\n",
       "      <td>5uwns89zht</td>\n",
       "      <td>2014-07-01</td>\n",
       "      <td>20140701000006</td>\n",
       "      <td>NaN</td>\n",
       "      <td>FEMALE</td>\n",
       "      <td>35.0</td>\n",
       "      <td>facebook</td>\n",
       "      <td>0</td>\n",
       "      <td>en</td>\n",
       "      <td>direct</td>\n",
       "      <td>direct</td>\n",
       "      <td>untracked</td>\n",
       "      <td>Moweb</td>\n",
       "      <td>iPhone</td>\n",
       "      <td>Mobile Safari</td>\n",
       "    </tr>\n",
       "    <tr>\n",
       "      <th>1</th>\n",
       "      <td>jtl0dijy2j</td>\n",
       "      <td>2014-07-01</td>\n",
       "      <td>20140701000051</td>\n",
       "      <td>NaN</td>\n",
       "      <td>-unknown-</td>\n",
       "      <td>NaN</td>\n",
       "      <td>basic</td>\n",
       "      <td>0</td>\n",
       "      <td>en</td>\n",
       "      <td>direct</td>\n",
       "      <td>direct</td>\n",
       "      <td>untracked</td>\n",
       "      <td>Moweb</td>\n",
       "      <td>iPhone</td>\n",
       "      <td>Mobile Safari</td>\n",
       "    </tr>\n",
       "    <tr>\n",
       "      <th>2</th>\n",
       "      <td>xx0ulgorjt</td>\n",
       "      <td>2014-07-01</td>\n",
       "      <td>20140701000148</td>\n",
       "      <td>NaN</td>\n",
       "      <td>-unknown-</td>\n",
       "      <td>NaN</td>\n",
       "      <td>basic</td>\n",
       "      <td>0</td>\n",
       "      <td>en</td>\n",
       "      <td>direct</td>\n",
       "      <td>direct</td>\n",
       "      <td>linked</td>\n",
       "      <td>Web</td>\n",
       "      <td>Windows Desktop</td>\n",
       "      <td>Chrome</td>\n",
       "    </tr>\n",
       "    <tr>\n",
       "      <th>3</th>\n",
       "      <td>6c6puo6ix0</td>\n",
       "      <td>2014-07-01</td>\n",
       "      <td>20140701000215</td>\n",
       "      <td>NaN</td>\n",
       "      <td>-unknown-</td>\n",
       "      <td>NaN</td>\n",
       "      <td>basic</td>\n",
       "      <td>0</td>\n",
       "      <td>en</td>\n",
       "      <td>direct</td>\n",
       "      <td>direct</td>\n",
       "      <td>linked</td>\n",
       "      <td>Web</td>\n",
       "      <td>Windows Desktop</td>\n",
       "      <td>IE</td>\n",
       "    </tr>\n",
       "    <tr>\n",
       "      <th>4</th>\n",
       "      <td>czqhjk3yfe</td>\n",
       "      <td>2014-07-01</td>\n",
       "      <td>20140701000305</td>\n",
       "      <td>NaN</td>\n",
       "      <td>-unknown-</td>\n",
       "      <td>NaN</td>\n",
       "      <td>basic</td>\n",
       "      <td>0</td>\n",
       "      <td>en</td>\n",
       "      <td>direct</td>\n",
       "      <td>direct</td>\n",
       "      <td>untracked</td>\n",
       "      <td>Web</td>\n",
       "      <td>Mac Desktop</td>\n",
       "      <td>Safari</td>\n",
       "    </tr>\n",
       "  </tbody>\n",
       "</table>\n",
       "</div>"
      ],
      "text/plain": [
       "           id date_account_created  timestamp_first_active  \\\n",
       "0  5uwns89zht           2014-07-01          20140701000006   \n",
       "1  jtl0dijy2j           2014-07-01          20140701000051   \n",
       "2  xx0ulgorjt           2014-07-01          20140701000148   \n",
       "3  6c6puo6ix0           2014-07-01          20140701000215   \n",
       "4  czqhjk3yfe           2014-07-01          20140701000305   \n",
       "\n",
       "   date_first_booking     gender   age signup_method  signup_flow language  \\\n",
       "0                 NaN     FEMALE  35.0      facebook            0       en   \n",
       "1                 NaN  -unknown-   NaN         basic            0       en   \n",
       "2                 NaN  -unknown-   NaN         basic            0       en   \n",
       "3                 NaN  -unknown-   NaN         basic            0       en   \n",
       "4                 NaN  -unknown-   NaN         basic            0       en   \n",
       "\n",
       "  affiliate_channel affiliate_provider first_affiliate_tracked signup_app  \\\n",
       "0            direct             direct               untracked      Moweb   \n",
       "1            direct             direct               untracked      Moweb   \n",
       "2            direct             direct                  linked        Web   \n",
       "3            direct             direct                  linked        Web   \n",
       "4            direct             direct               untracked        Web   \n",
       "\n",
       "  first_device_type  first_browser  \n",
       "0            iPhone  Mobile Safari  \n",
       "1            iPhone  Mobile Safari  \n",
       "2   Windows Desktop         Chrome  \n",
       "3   Windows Desktop             IE  \n",
       "4       Mac Desktop         Safari  "
      ]
     },
     "execution_count": 104,
     "metadata": {},
     "output_type": "execute_result"
    }
   ],
   "source": [
    "test_users.head()"
   ]
  },
  {
   "cell_type": "code",
   "execution_count": 105,
   "metadata": {
    "ExecuteTime": {
     "end_time": "2019-03-07T19:20:55.234050Z",
     "start_time": "2019-03-07T19:20:55.216220Z"
    }
   },
   "outputs": [
    {
     "name": "stdout",
     "output_type": "stream",
     "text": [
      "30\n",
      "385\n",
      "28876\n"
     ]
    }
   ],
   "source": [
    "print(test_users.age[test_users.age<18].count())\n",
    "print(test_users.age[test_users.age>90].count())\n",
    "print(test_users.age.isna().sum())"
   ]
  },
  {
   "cell_type": "code",
   "execution_count": 106,
   "metadata": {
    "ExecuteTime": {
     "end_time": "2019-03-07T19:20:55.874663Z",
     "start_time": "2019-03-07T19:20:55.238253Z"
    }
   },
   "outputs": [],
   "source": [
    "test_users = pd.merge(test_users, sessions_features, how=\"left\", on=\"id\")"
   ]
  },
  {
   "cell_type": "code",
   "execution_count": 107,
   "metadata": {
    "ExecuteTime": {
     "end_time": "2019-03-07T19:20:56.051695Z",
     "start_time": "2019-03-07T19:20:55.877646Z"
    }
   },
   "outputs": [
    {
     "data": {
      "text/html": [
       "<div>\n",
       "<style scoped>\n",
       "    .dataframe tbody tr th:only-of-type {\n",
       "        vertical-align: middle;\n",
       "    }\n",
       "\n",
       "    .dataframe tbody tr th {\n",
       "        vertical-align: top;\n",
       "    }\n",
       "\n",
       "    .dataframe thead th {\n",
       "        text-align: right;\n",
       "    }\n",
       "</style>\n",
       "<table border=\"1\" class=\"dataframe\">\n",
       "  <thead>\n",
       "    <tr style=\"text-align: right;\">\n",
       "      <th></th>\n",
       "      <th>id</th>\n",
       "      <th>date_account_created</th>\n",
       "      <th>timestamp_first_active</th>\n",
       "      <th>date_first_booking</th>\n",
       "      <th>gender</th>\n",
       "      <th>age</th>\n",
       "      <th>signup_method</th>\n",
       "      <th>signup_flow</th>\n",
       "      <th>language</th>\n",
       "      <th>affiliate_channel</th>\n",
       "      <th>...</th>\n",
       "      <th>count_device_linux_desktop</th>\n",
       "      <th>count_device_mac_desktop</th>\n",
       "      <th>count_device_opera_phone</th>\n",
       "      <th>count_device_tablet</th>\n",
       "      <th>count_device_windows_desktop</th>\n",
       "      <th>count_device_windows_phone</th>\n",
       "      <th>count_device_ipad_tablet</th>\n",
       "      <th>count_device_iphone</th>\n",
       "      <th>count_device_ipodtouch</th>\n",
       "      <th>preferred_device</th>\n",
       "    </tr>\n",
       "  </thead>\n",
       "  <tbody>\n",
       "    <tr>\n",
       "      <th>62095</th>\n",
       "      <td>9uqfg8txu3</td>\n",
       "      <td>2014-09-30</td>\n",
       "      <td>20140930235901</td>\n",
       "      <td>NaN</td>\n",
       "      <td>FEMALE</td>\n",
       "      <td>49.0</td>\n",
       "      <td>basic</td>\n",
       "      <td>0</td>\n",
       "      <td>en</td>\n",
       "      <td>other</td>\n",
       "      <td>...</td>\n",
       "      <td>-1.0</td>\n",
       "      <td>-1.0</td>\n",
       "      <td>-1.0</td>\n",
       "      <td>-1.0</td>\n",
       "      <td>14.0</td>\n",
       "      <td>-1.0</td>\n",
       "      <td>-1.0</td>\n",
       "      <td>-1.0</td>\n",
       "      <td>-1.0</td>\n",
       "      <td>Windows Desktop</td>\n",
       "    </tr>\n",
       "    <tr>\n",
       "      <th>62094</th>\n",
       "      <td>87k0fy4ugm</td>\n",
       "      <td>2014-09-30</td>\n",
       "      <td>20140930235430</td>\n",
       "      <td>NaN</td>\n",
       "      <td>-unknown-</td>\n",
       "      <td>NaN</td>\n",
       "      <td>basic</td>\n",
       "      <td>0</td>\n",
       "      <td>en</td>\n",
       "      <td>sem-brand</td>\n",
       "      <td>...</td>\n",
       "      <td>-1.0</td>\n",
       "      <td>11.0</td>\n",
       "      <td>-1.0</td>\n",
       "      <td>-1.0</td>\n",
       "      <td>-1.0</td>\n",
       "      <td>-1.0</td>\n",
       "      <td>-1.0</td>\n",
       "      <td>4.0</td>\n",
       "      <td>-1.0</td>\n",
       "      <td>Mac Desktop</td>\n",
       "    </tr>\n",
       "    <tr>\n",
       "      <th>62093</th>\n",
       "      <td>fa6260ziny</td>\n",
       "      <td>2014-09-30</td>\n",
       "      <td>20140930235408</td>\n",
       "      <td>NaN</td>\n",
       "      <td>-unknown-</td>\n",
       "      <td>NaN</td>\n",
       "      <td>basic</td>\n",
       "      <td>0</td>\n",
       "      <td>de</td>\n",
       "      <td>direct</td>\n",
       "      <td>...</td>\n",
       "      <td>-1.0</td>\n",
       "      <td>-1.0</td>\n",
       "      <td>-1.0</td>\n",
       "      <td>-1.0</td>\n",
       "      <td>78.0</td>\n",
       "      <td>-1.0</td>\n",
       "      <td>-1.0</td>\n",
       "      <td>-1.0</td>\n",
       "      <td>-1.0</td>\n",
       "      <td>Windows Desktop</td>\n",
       "    </tr>\n",
       "    <tr>\n",
       "      <th>62092</th>\n",
       "      <td>zp8xfonng8</td>\n",
       "      <td>2014-09-30</td>\n",
       "      <td>20140930235306</td>\n",
       "      <td>NaN</td>\n",
       "      <td>-unknown-</td>\n",
       "      <td>NaN</td>\n",
       "      <td>basic</td>\n",
       "      <td>23</td>\n",
       "      <td>ko</td>\n",
       "      <td>direct</td>\n",
       "      <td>...</td>\n",
       "      <td>-1.0</td>\n",
       "      <td>-1.0</td>\n",
       "      <td>-1.0</td>\n",
       "      <td>-1.0</td>\n",
       "      <td>-1.0</td>\n",
       "      <td>-1.0</td>\n",
       "      <td>-1.0</td>\n",
       "      <td>-1.0</td>\n",
       "      <td>-1.0</td>\n",
       "      <td>Android Phone</td>\n",
       "    </tr>\n",
       "    <tr>\n",
       "      <th>62091</th>\n",
       "      <td>cv0na2lf5a</td>\n",
       "      <td>2014-09-30</td>\n",
       "      <td>20140930235232</td>\n",
       "      <td>NaN</td>\n",
       "      <td>-unknown-</td>\n",
       "      <td>31.0</td>\n",
       "      <td>basic</td>\n",
       "      <td>0</td>\n",
       "      <td>en</td>\n",
       "      <td>direct</td>\n",
       "      <td>...</td>\n",
       "      <td>-1.0</td>\n",
       "      <td>-1.0</td>\n",
       "      <td>-1.0</td>\n",
       "      <td>-1.0</td>\n",
       "      <td>89.0</td>\n",
       "      <td>-1.0</td>\n",
       "      <td>-1.0</td>\n",
       "      <td>4.0</td>\n",
       "      <td>-1.0</td>\n",
       "      <td>Windows Desktop</td>\n",
       "    </tr>\n",
       "  </tbody>\n",
       "</table>\n",
       "<p>5 rows × 83 columns</p>\n",
       "</div>"
      ],
      "text/plain": [
       "               id date_account_created  timestamp_first_active  \\\n",
       "62095  9uqfg8txu3           2014-09-30          20140930235901   \n",
       "62094  87k0fy4ugm           2014-09-30          20140930235430   \n",
       "62093  fa6260ziny           2014-09-30          20140930235408   \n",
       "62092  zp8xfonng8           2014-09-30          20140930235306   \n",
       "62091  cv0na2lf5a           2014-09-30          20140930235232   \n",
       "\n",
       "       date_first_booking     gender   age signup_method  signup_flow  \\\n",
       "62095                 NaN     FEMALE  49.0         basic            0   \n",
       "62094                 NaN  -unknown-   NaN         basic            0   \n",
       "62093                 NaN  -unknown-   NaN         basic            0   \n",
       "62092                 NaN  -unknown-   NaN         basic           23   \n",
       "62091                 NaN  -unknown-  31.0         basic            0   \n",
       "\n",
       "      language affiliate_channel        ...        count_device_linux_desktop  \\\n",
       "62095       en             other        ...                              -1.0   \n",
       "62094       en         sem-brand        ...                              -1.0   \n",
       "62093       de            direct        ...                              -1.0   \n",
       "62092       ko            direct        ...                              -1.0   \n",
       "62091       en            direct        ...                              -1.0   \n",
       "\n",
       "      count_device_mac_desktop count_device_opera_phone count_device_tablet  \\\n",
       "62095                     -1.0                     -1.0                -1.0   \n",
       "62094                     11.0                     -1.0                -1.0   \n",
       "62093                     -1.0                     -1.0                -1.0   \n",
       "62092                     -1.0                     -1.0                -1.0   \n",
       "62091                     -1.0                     -1.0                -1.0   \n",
       "\n",
       "      count_device_windows_desktop  count_device_windows_phone  \\\n",
       "62095                         14.0                        -1.0   \n",
       "62094                         -1.0                        -1.0   \n",
       "62093                         78.0                        -1.0   \n",
       "62092                         -1.0                        -1.0   \n",
       "62091                         89.0                        -1.0   \n",
       "\n",
       "       count_device_ipad_tablet  count_device_iphone  count_device_ipodtouch  \\\n",
       "62095                      -1.0                 -1.0                    -1.0   \n",
       "62094                      -1.0                  4.0                    -1.0   \n",
       "62093                      -1.0                 -1.0                    -1.0   \n",
       "62092                      -1.0                 -1.0                    -1.0   \n",
       "62091                      -1.0                  4.0                    -1.0   \n",
       "\n",
       "       preferred_device  \n",
       "62095   Windows Desktop  \n",
       "62094       Mac Desktop  \n",
       "62093   Windows Desktop  \n",
       "62092     Android Phone  \n",
       "62091   Windows Desktop  \n",
       "\n",
       "[5 rows x 83 columns]"
      ]
     },
     "execution_count": 107,
     "metadata": {},
     "output_type": "execute_result"
    }
   ],
   "source": [
    "test_users.sort_values(by= 'timestamp_first_active', ascending=False).head()"
   ]
  },
  {
   "cell_type": "code",
   "execution_count": 108,
   "metadata": {
    "ExecuteTime": {
     "end_time": "2019-03-07T19:20:56.069396Z",
     "start_time": "2019-03-07T19:20:56.055781Z"
    }
   },
   "outputs": [
    {
     "data": {
      "text/plain": [
       "62096"
      ]
     },
     "execution_count": 108,
     "metadata": {},
     "output_type": "execute_result"
    }
   ],
   "source": [
    "test_users.id.count()"
   ]
  },
  {
   "cell_type": "code",
   "execution_count": 109,
   "metadata": {
    "ExecuteTime": {
     "end_time": "2019-03-07T19:20:58.632921Z",
     "start_time": "2019-03-07T19:20:56.074726Z"
    }
   },
   "outputs": [
    {
     "name": "stdout",
     "output_type": "stream",
     "text": [
      "61668\n",
      "0\n",
      "73815\n"
     ]
    }
   ],
   "source": [
    "s1= test_users.id\n",
    "s2= sessions_device_type_count.id\n",
    "s3= train_users.id\n",
    "print(len(pd.Series(np.intersect1d(s1,s2))))\n",
    "print(len(pd.Series(np.intersect1d(s1,s3))))\n",
    "print(len(pd.Series(np.intersect1d(s2,s3))))"
   ]
  },
  {
   "cell_type": "code",
   "execution_count": 110,
   "metadata": {
    "ExecuteTime": {
     "end_time": "2019-03-07T19:20:58.736055Z",
     "start_time": "2019-03-07T19:20:58.637655Z"
    }
   },
   "outputs": [],
   "source": [
    "test_df = test_users.drop([\"date_account_created\", \"date_first_booking\"], axis=1)\n",
    "test_df = test_df.set_index(\"id\")"
   ]
  },
  {
   "cell_type": "code",
   "execution_count": 111,
   "metadata": {
    "ExecuteTime": {
     "end_time": "2019-03-07T19:20:58.917822Z",
     "start_time": "2019-03-07T19:20:58.740332Z"
    }
   },
   "outputs": [],
   "source": [
    "test_df.age = test_df.age.fillna(-1)\n",
    "test_df.first_affiliate_tracked = test_df.age.fillna(\"unknown\")\n",
    "test_df.preferred_device = test_df.preferred_device.fillna(\"unknown\")\n",
    "test_df[session_numerics_to_fill] = test_df[session_numerics_to_fill].fillna(-1)"
   ]
  },
  {
   "cell_type": "code",
   "execution_count": 112,
   "metadata": {
    "ExecuteTime": {
     "end_time": "2019-03-07T19:20:58.996642Z",
     "start_time": "2019-03-07T19:20:58.920461Z"
    }
   },
   "outputs": [],
   "source": [
    "apply_categories(test_df, categories=cats)"
   ]
  },
  {
   "cell_type": "code",
   "execution_count": 113,
   "metadata": {
    "ExecuteTime": {
     "end_time": "2019-03-07T19:20:59.057228Z",
     "start_time": "2019-03-07T19:20:58.999610Z"
    }
   },
   "outputs": [
    {
     "data": {
      "text/html": [
       "<div>\n",
       "<style scoped>\n",
       "    .dataframe tbody tr th:only-of-type {\n",
       "        vertical-align: middle;\n",
       "    }\n",
       "\n",
       "    .dataframe tbody tr th {\n",
       "        vertical-align: top;\n",
       "    }\n",
       "\n",
       "    .dataframe thead th {\n",
       "        text-align: right;\n",
       "    }\n",
       "</style>\n",
       "<table border=\"1\" class=\"dataframe\">\n",
       "  <thead>\n",
       "    <tr style=\"text-align: right;\">\n",
       "      <th></th>\n",
       "      <th>timestamp_first_active</th>\n",
       "      <th>gender</th>\n",
       "      <th>age</th>\n",
       "      <th>signup_method</th>\n",
       "      <th>signup_flow</th>\n",
       "      <th>language</th>\n",
       "      <th>affiliate_channel</th>\n",
       "      <th>affiliate_provider</th>\n",
       "      <th>first_affiliate_tracked</th>\n",
       "      <th>signup_app</th>\n",
       "      <th>...</th>\n",
       "      <th>count_device_linux_desktop</th>\n",
       "      <th>count_device_mac_desktop</th>\n",
       "      <th>count_device_opera_phone</th>\n",
       "      <th>count_device_tablet</th>\n",
       "      <th>count_device_windows_desktop</th>\n",
       "      <th>count_device_windows_phone</th>\n",
       "      <th>count_device_ipad_tablet</th>\n",
       "      <th>count_device_iphone</th>\n",
       "      <th>count_device_ipodtouch</th>\n",
       "      <th>preferred_device</th>\n",
       "    </tr>\n",
       "    <tr>\n",
       "      <th>id</th>\n",
       "      <th></th>\n",
       "      <th></th>\n",
       "      <th></th>\n",
       "      <th></th>\n",
       "      <th></th>\n",
       "      <th></th>\n",
       "      <th></th>\n",
       "      <th></th>\n",
       "      <th></th>\n",
       "      <th></th>\n",
       "      <th></th>\n",
       "      <th></th>\n",
       "      <th></th>\n",
       "      <th></th>\n",
       "      <th></th>\n",
       "      <th></th>\n",
       "      <th></th>\n",
       "      <th></th>\n",
       "      <th></th>\n",
       "      <th></th>\n",
       "      <th></th>\n",
       "    </tr>\n",
       "  </thead>\n",
       "  <tbody>\n",
       "    <tr>\n",
       "      <th>5uwns89zht</th>\n",
       "      <td>20140701000006</td>\n",
       "      <td>-1</td>\n",
       "      <td>35.0</td>\n",
       "      <td>-1</td>\n",
       "      <td>0</td>\n",
       "      <td>-1</td>\n",
       "      <td>-1</td>\n",
       "      <td>-1</td>\n",
       "      <td>35.0</td>\n",
       "      <td>-1</td>\n",
       "      <td>...</td>\n",
       "      <td>-1.0</td>\n",
       "      <td>-1.0</td>\n",
       "      <td>-1.0</td>\n",
       "      <td>-1.0</td>\n",
       "      <td>-1.0</td>\n",
       "      <td>-1.0</td>\n",
       "      <td>-1.0</td>\n",
       "      <td>1.0</td>\n",
       "      <td>-1.0</td>\n",
       "      <td>-1</td>\n",
       "    </tr>\n",
       "    <tr>\n",
       "      <th>jtl0dijy2j</th>\n",
       "      <td>20140701000051</td>\n",
       "      <td>-1</td>\n",
       "      <td>-1.0</td>\n",
       "      <td>-1</td>\n",
       "      <td>0</td>\n",
       "      <td>-1</td>\n",
       "      <td>-1</td>\n",
       "      <td>-1</td>\n",
       "      <td>-1.0</td>\n",
       "      <td>-1</td>\n",
       "      <td>...</td>\n",
       "      <td>-1.0</td>\n",
       "      <td>-1.0</td>\n",
       "      <td>-1.0</td>\n",
       "      <td>-1.0</td>\n",
       "      <td>-1.0</td>\n",
       "      <td>-1.0</td>\n",
       "      <td>-1.0</td>\n",
       "      <td>9.0</td>\n",
       "      <td>-1.0</td>\n",
       "      <td>-1</td>\n",
       "    </tr>\n",
       "    <tr>\n",
       "      <th>xx0ulgorjt</th>\n",
       "      <td>20140701000148</td>\n",
       "      <td>-1</td>\n",
       "      <td>-1.0</td>\n",
       "      <td>-1</td>\n",
       "      <td>0</td>\n",
       "      <td>-1</td>\n",
       "      <td>-1</td>\n",
       "      <td>-1</td>\n",
       "      <td>-1.0</td>\n",
       "      <td>-1</td>\n",
       "      <td>...</td>\n",
       "      <td>-1.0</td>\n",
       "      <td>-1.0</td>\n",
       "      <td>-1.0</td>\n",
       "      <td>-1.0</td>\n",
       "      <td>58.0</td>\n",
       "      <td>-1.0</td>\n",
       "      <td>-1.0</td>\n",
       "      <td>-1.0</td>\n",
       "      <td>-1.0</td>\n",
       "      <td>-1</td>\n",
       "    </tr>\n",
       "    <tr>\n",
       "      <th>6c6puo6ix0</th>\n",
       "      <td>20140701000215</td>\n",
       "      <td>-1</td>\n",
       "      <td>-1.0</td>\n",
       "      <td>-1</td>\n",
       "      <td>0</td>\n",
       "      <td>-1</td>\n",
       "      <td>-1</td>\n",
       "      <td>-1</td>\n",
       "      <td>-1.0</td>\n",
       "      <td>-1</td>\n",
       "      <td>...</td>\n",
       "      <td>-1.0</td>\n",
       "      <td>-1.0</td>\n",
       "      <td>-1.0</td>\n",
       "      <td>-1.0</td>\n",
       "      <td>11.0</td>\n",
       "      <td>-1.0</td>\n",
       "      <td>-1.0</td>\n",
       "      <td>-1.0</td>\n",
       "      <td>-1.0</td>\n",
       "      <td>-1</td>\n",
       "    </tr>\n",
       "    <tr>\n",
       "      <th>czqhjk3yfe</th>\n",
       "      <td>20140701000305</td>\n",
       "      <td>-1</td>\n",
       "      <td>-1.0</td>\n",
       "      <td>-1</td>\n",
       "      <td>0</td>\n",
       "      <td>-1</td>\n",
       "      <td>-1</td>\n",
       "      <td>-1</td>\n",
       "      <td>-1.0</td>\n",
       "      <td>-1</td>\n",
       "      <td>...</td>\n",
       "      <td>-1.0</td>\n",
       "      <td>19.0</td>\n",
       "      <td>-1.0</td>\n",
       "      <td>-1.0</td>\n",
       "      <td>-1.0</td>\n",
       "      <td>-1.0</td>\n",
       "      <td>-1.0</td>\n",
       "      <td>-1.0</td>\n",
       "      <td>-1.0</td>\n",
       "      <td>-1</td>\n",
       "    </tr>\n",
       "  </tbody>\n",
       "</table>\n",
       "<p>5 rows × 80 columns</p>\n",
       "</div>"
      ],
      "text/plain": [
       "            timestamp_first_active  gender   age  signup_method  signup_flow  \\\n",
       "id                                                                             \n",
       "5uwns89zht          20140701000006      -1  35.0             -1            0   \n",
       "jtl0dijy2j          20140701000051      -1  -1.0             -1            0   \n",
       "xx0ulgorjt          20140701000148      -1  -1.0             -1            0   \n",
       "6c6puo6ix0          20140701000215      -1  -1.0             -1            0   \n",
       "czqhjk3yfe          20140701000305      -1  -1.0             -1            0   \n",
       "\n",
       "            language  affiliate_channel  affiliate_provider  \\\n",
       "id                                                            \n",
       "5uwns89zht        -1                 -1                  -1   \n",
       "jtl0dijy2j        -1                 -1                  -1   \n",
       "xx0ulgorjt        -1                 -1                  -1   \n",
       "6c6puo6ix0        -1                 -1                  -1   \n",
       "czqhjk3yfe        -1                 -1                  -1   \n",
       "\n",
       "            first_affiliate_tracked  signup_app        ...         \\\n",
       "id                                                     ...          \n",
       "5uwns89zht                     35.0          -1        ...          \n",
       "jtl0dijy2j                     -1.0          -1        ...          \n",
       "xx0ulgorjt                     -1.0          -1        ...          \n",
       "6c6puo6ix0                     -1.0          -1        ...          \n",
       "czqhjk3yfe                     -1.0          -1        ...          \n",
       "\n",
       "            count_device_linux_desktop  count_device_mac_desktop  \\\n",
       "id                                                                 \n",
       "5uwns89zht                        -1.0                      -1.0   \n",
       "jtl0dijy2j                        -1.0                      -1.0   \n",
       "xx0ulgorjt                        -1.0                      -1.0   \n",
       "6c6puo6ix0                        -1.0                      -1.0   \n",
       "czqhjk3yfe                        -1.0                      19.0   \n",
       "\n",
       "            count_device_opera_phone  count_device_tablet  \\\n",
       "id                                                          \n",
       "5uwns89zht                      -1.0                 -1.0   \n",
       "jtl0dijy2j                      -1.0                 -1.0   \n",
       "xx0ulgorjt                      -1.0                 -1.0   \n",
       "6c6puo6ix0                      -1.0                 -1.0   \n",
       "czqhjk3yfe                      -1.0                 -1.0   \n",
       "\n",
       "            count_device_windows_desktop  count_device_windows_phone  \\\n",
       "id                                                                     \n",
       "5uwns89zht                          -1.0                        -1.0   \n",
       "jtl0dijy2j                          -1.0                        -1.0   \n",
       "xx0ulgorjt                          58.0                        -1.0   \n",
       "6c6puo6ix0                          11.0                        -1.0   \n",
       "czqhjk3yfe                          -1.0                        -1.0   \n",
       "\n",
       "            count_device_ipad_tablet  count_device_iphone  \\\n",
       "id                                                          \n",
       "5uwns89zht                      -1.0                  1.0   \n",
       "jtl0dijy2j                      -1.0                  9.0   \n",
       "xx0ulgorjt                      -1.0                 -1.0   \n",
       "6c6puo6ix0                      -1.0                 -1.0   \n",
       "czqhjk3yfe                      -1.0                 -1.0   \n",
       "\n",
       "            count_device_ipodtouch  preferred_device  \n",
       "id                                                    \n",
       "5uwns89zht                    -1.0                -1  \n",
       "jtl0dijy2j                    -1.0                -1  \n",
       "xx0ulgorjt                    -1.0                -1  \n",
       "6c6puo6ix0                    -1.0                -1  \n",
       "czqhjk3yfe                    -1.0                -1  \n",
       "\n",
       "[5 rows x 80 columns]"
      ]
     },
     "execution_count": 113,
     "metadata": {},
     "output_type": "execute_result"
    }
   ],
   "source": [
    "test_df.head()"
   ]
  },
  {
   "cell_type": "markdown",
   "metadata": {},
   "source": [
    "#### Make predictions and save for submission"
   ]
  },
  {
   "cell_type": "code",
   "execution_count": 114,
   "metadata": {
    "ExecuteTime": {
     "end_time": "2019-03-07T19:20:59.069773Z",
     "start_time": "2019-03-07T19:20:59.062961Z"
    }
   },
   "outputs": [],
   "source": [
    "mapper_country_destination = {i : c for i, c in enumerate(cats[\"country_destination\"])}"
   ]
  },
  {
   "cell_type": "code",
   "execution_count": 115,
   "metadata": {
    "ExecuteTime": {
     "end_time": "2019-03-07T19:21:00.153529Z",
     "start_time": "2019-03-07T19:20:59.073972Z"
    }
   },
   "outputs": [],
   "source": [
    "test_preds = format_preds_lng(m, test_df, mapper=mapper_country_destination)"
   ]
  },
  {
   "cell_type": "code",
   "execution_count": 116,
   "metadata": {
    "ExecuteTime": {
     "end_time": "2019-03-07T19:21:00.172576Z",
     "start_time": "2019-03-07T19:21:00.157067Z"
    }
   },
   "outputs": [
    {
     "data": {
      "text/html": [
       "<div>\n",
       "<style scoped>\n",
       "    .dataframe tbody tr th:only-of-type {\n",
       "        vertical-align: middle;\n",
       "    }\n",
       "\n",
       "    .dataframe tbody tr th {\n",
       "        vertical-align: top;\n",
       "    }\n",
       "\n",
       "    .dataframe thead th {\n",
       "        text-align: right;\n",
       "    }\n",
       "</style>\n",
       "<table border=\"1\" class=\"dataframe\">\n",
       "  <thead>\n",
       "    <tr style=\"text-align: right;\">\n",
       "      <th></th>\n",
       "      <th>id</th>\n",
       "      <th>country</th>\n",
       "    </tr>\n",
       "  </thead>\n",
       "  <tbody>\n",
       "    <tr>\n",
       "      <th>25245</th>\n",
       "      <td>0010k6l0om</td>\n",
       "      <td>NDF</td>\n",
       "    </tr>\n",
       "    <tr>\n",
       "      <th>87341</th>\n",
       "      <td>0010k6l0om</td>\n",
       "      <td>US</td>\n",
       "    </tr>\n",
       "    <tr>\n",
       "      <th>149437</th>\n",
       "      <td>0010k6l0om</td>\n",
       "      <td>other</td>\n",
       "    </tr>\n",
       "    <tr>\n",
       "      <th>211533</th>\n",
       "      <td>0010k6l0om</td>\n",
       "      <td>FR</td>\n",
       "    </tr>\n",
       "    <tr>\n",
       "      <th>273629</th>\n",
       "      <td>0010k6l0om</td>\n",
       "      <td>ES</td>\n",
       "    </tr>\n",
       "    <tr>\n",
       "      <th>55494</th>\n",
       "      <td>0031awlkjq</td>\n",
       "      <td>NDF</td>\n",
       "    </tr>\n",
       "    <tr>\n",
       "      <th>117590</th>\n",
       "      <td>0031awlkjq</td>\n",
       "      <td>US</td>\n",
       "    </tr>\n",
       "    <tr>\n",
       "      <th>179686</th>\n",
       "      <td>0031awlkjq</td>\n",
       "      <td>other</td>\n",
       "    </tr>\n",
       "    <tr>\n",
       "      <th>241782</th>\n",
       "      <td>0031awlkjq</td>\n",
       "      <td>ES</td>\n",
       "    </tr>\n",
       "    <tr>\n",
       "      <th>303878</th>\n",
       "      <td>0031awlkjq</td>\n",
       "      <td>FR</td>\n",
       "    </tr>\n",
       "  </tbody>\n",
       "</table>\n",
       "</div>"
      ],
      "text/plain": [
       "                id country\n",
       "25245   0010k6l0om     NDF\n",
       "87341   0010k6l0om      US\n",
       "149437  0010k6l0om   other\n",
       "211533  0010k6l0om      FR\n",
       "273629  0010k6l0om      ES\n",
       "55494   0031awlkjq     NDF\n",
       "117590  0031awlkjq      US\n",
       "179686  0031awlkjq   other\n",
       "241782  0031awlkjq      ES\n",
       "303878  0031awlkjq      FR"
      ]
     },
     "execution_count": 116,
     "metadata": {},
     "output_type": "execute_result"
    }
   ],
   "source": [
    "test_preds.head(10)"
   ]
  },
  {
   "cell_type": "code",
   "execution_count": 120,
   "metadata": {
    "ExecuteTime": {
     "end_time": "2019-03-07T19:23:09.719548Z",
     "start_time": "2019-03-07T19:23:09.699989Z"
    }
   },
   "outputs": [],
   "source": [
    "OUTPUT_PATH = Path.cwd() / \"submission\"\n",
    "\n",
    "if not OUTPUT_PATH.is_dir():\n",
    "    OUTPUT_PATH.mkdir()"
   ]
  },
  {
   "cell_type": "code",
   "execution_count": 121,
   "metadata": {
    "ExecuteTime": {
     "end_time": "2019-03-07T19:23:11.654636Z",
     "start_time": "2019-03-07T19:23:11.650225Z"
    }
   },
   "outputs": [],
   "source": [
    "SUBMISSION_NAME = \"sub_data_festival01.csv\""
   ]
  },
  {
   "cell_type": "code",
   "execution_count": 122,
   "metadata": {
    "ExecuteTime": {
     "end_time": "2019-03-07T19:23:15.421071Z",
     "start_time": "2019-03-07T19:23:14.760766Z"
    }
   },
   "outputs": [],
   "source": [
    "test_preds.to_csv(OUTPUT_PATH / SUBMISSION_NAME, index=False)"
   ]
  },
  {
   "cell_type": "code",
   "execution_count": null,
   "metadata": {},
   "outputs": [],
   "source": []
  }
 ],
 "metadata": {
  "kernelspec": {
   "display_name": "Python 3",
   "language": "python",
   "name": "python3"
  },
  "language_info": {
   "codemirror_mode": {
    "name": "ipython",
    "version": 3
   },
   "file_extension": ".py",
   "mimetype": "text/x-python",
   "name": "python",
   "nbconvert_exporter": "python",
   "pygments_lexer": "ipython3",
   "version": "3.6.7"
  },
  "toc": {
   "base_numbering": 1,
   "nav_menu": {},
   "number_sections": true,
   "sideBar": true,
   "skip_h1_title": false,
   "title_cell": "Table of Contents",
   "title_sidebar": "Contents",
   "toc_cell": false,
   "toc_position": {},
   "toc_section_display": true,
   "toc_window_display": false
  }
 },
 "nbformat": 4,
 "nbformat_minor": 2
}
